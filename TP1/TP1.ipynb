{
  "nbformat": 4,
  "nbformat_minor": 0,
  "metadata": {
    "accelerator": "GPU",
    "colab": {
      "name": "TP1.ipynb",
      "provenance": [],
      "collapsed_sections": [],
      "toc_visible": true
    },
    "kernelspec": {
      "display_name": "Python 3",
      "language": "python",
      "name": "python3"
    },
    "language_info": {
      "codemirror_mode": {
        "name": "ipython",
        "version": 3
      },
      "file_extension": ".py",
      "mimetype": "text/x-python",
      "name": "python",
      "nbconvert_exporter": "python",
      "pygments_lexer": "ipython3",
      "version": "3.6.8"
    }
  },
  "cells": [
    {
      "cell_type": "markdown",
      "metadata": {
        "colab_type": "text",
        "id": "CHp00raXVa7h"
      },
      "source": [
        "# **TP1 Supervised Learning with K Nearest Neighbors**"
      ]
    },
    {
      "cell_type": "code",
      "metadata": {
        "colab_type": "code",
        "id": "fiPl61_eTJzS",
        "colab": {}
      },
      "source": [
        "# import library\n",
        "import numpy as np\n",
        "import matplotlib.pyplot as plt\n",
        "import random\n",
        "from sklearn.datasets import fetch_openml\n",
        "from sklearn.model_selection import train_test_split\n",
        "from sklearn.model_selection import KFold\n",
        "from sklearn.model_selection import cross_val_score\n",
        "from sklearn.neighbors import KNeighborsClassifier as KNNs\n",
        "from sklearn.metrics import classification_report\n",
        "from sklearn.metrics import confusion_matrix\n",
        "import itertools\n",
        "import time\n"
      ],
      "execution_count": 0,
      "outputs": []
    },
    {
      "cell_type": "markdown",
      "metadata": {
        "colab_type": "text",
        "id": "etHhJk6GVk5W"
      },
      "source": [
        "## **1. Dataset Exploration & Visualization**"
      ]
    },
    {
      "cell_type": "markdown",
      "metadata": {
        "colab_type": "text",
        "id": "UBybTHepWWB3"
      },
      "source": [
        "### Load MNIST dataset"
      ]
    },
    {
      "cell_type": "code",
      "metadata": {
        "colab_type": "code",
        "id": "hUPa_dGFTJ0C",
        "colab": {}
      },
      "source": [
        "# Load data\n",
        "mnist = fetch_openml('mnist_784') "
      ],
      "execution_count": 0,
      "outputs": []
    },
    {
      "cell_type": "code",
      "metadata": {
        "colab_type": "code",
        "id": "ezj2TyheTJ0c",
        "outputId": "0e2a9711-c3f5-4076-813a-c3ef9cd2b585",
        "colab": {
          "base_uri": "https://localhost:8080/",
          "height": 263
        }
      },
      "source": [
        "print(mnist.DESCR)"
      ],
      "execution_count": 0,
      "outputs": [
        {
          "output_type": "stream",
          "text": [
            "**Author**: Yann LeCun, Corinna Cortes, Christopher J.C. Burges  \n",
            "**Source**: [MNIST Website](http://yann.lecun.com/exdb/mnist/) - Date unknown  \n",
            "**Please cite**:  \n",
            "\n",
            "The MNIST database of handwritten digits with 784 features, raw data available at: http://yann.lecun.com/exdb/mnist/. It can be split in a training set of the first 60,000 examples, and a test set of 10,000 examples  \n",
            "\n",
            "It is a subset of a larger set available from NIST. The digits have been size-normalized and centered in a fixed-size image. It is a good database for people who want to try learning techniques and pattern recognition methods on real-world data while spending minimal efforts on preprocessing and formatting. The original black and white (bilevel) images from NIST were size normalized to fit in a 20x20 pixel box while preserving their aspect ratio. The resulting images contain grey levels as a result of the anti-aliasing technique used by the normalization algorithm. the images were centered in a 28x28 image by computing the center of mass of the pixels, and translating the image so as to position this point at the center of the 28x28 field.  \n",
            "\n",
            "With some classification methods (particularly template-based methods, such as SVM and K-nearest neighbors), the error rate improves when the digits are centered by bounding box rather than center of mass. If you do this kind of pre-processing, you should report it in your publications. The MNIST database was constructed from NIST's NIST originally designated SD-3 as their training set and SD-1 as their test set. However, SD-3 is much cleaner and easier to recognize than SD-1. The reason for this can be found on the fact that SD-3 was collected among Census Bureau employees, while SD-1 was collected among high-school students. Drawing sensible conclusions from learning experiments requires that the result be independent of the choice of training set and test among the complete set of samples. Therefore it was necessary to build a new database by mixing NIST's datasets.  \n",
            "\n",
            "The MNIST training set is composed of 30,000 patterns from SD-3 and 30,000 patterns from SD-1. Our test set was composed of 5,000 patterns from SD-3 and 5,000 patterns from SD-1. The 60,000 pattern training set contained examples from approximately 250 writers. We made sure that the sets of writers of the training set and test set were disjoint. SD-1 contains 58,527 digit images written by 500 different writers. In contrast to SD-3, where blocks of data from each writer appeared in sequence, the data in SD-1 is scrambled. Writer identities for SD-1 is available and we used this information to unscramble the writers. We then split SD-1 in two: characters written by the first 250 writers went into our new training set. The remaining 250 writers were placed in our test set. Thus we had two sets with nearly 30,000 examples each. The new training set was completed with enough examples from SD-3, starting at pattern # 0, to make a full set of 60,000 training patterns. Similarly, the new test set was completed with SD-3 examples starting at pattern # 35,000 to make a full set with 60,000 test patterns. Only a subset of 10,000 test images (5,000 from SD-1 and 5,000 from SD-3) is available on this site. The full 60,000 sample training set is available.\n",
            "\n",
            "Downloaded from openml.org.\n"
          ],
          "name": "stdout"
        }
      ]
    },
    {
      "cell_type": "code",
      "metadata": {
        "colab_type": "code",
        "id": "AklfKJmyTJ0_",
        "outputId": "950e16b9-3db5-4fd9-a32b-3f5997542f01",
        "colab": {
          "base_uri": "https://localhost:8080/",
          "height": 52
        }
      },
      "source": [
        "print(\"Shape of data : \", mnist.data.shape)\n",
        "print(\"Shape of target : \",mnist.target.shape)"
      ],
      "execution_count": 0,
      "outputs": [
        {
          "output_type": "stream",
          "text": [
            "Shape of data :  (70000, 784)\n",
            "Shape of target :  (70000,)\n"
          ],
          "name": "stdout"
        }
      ]
    },
    {
      "cell_type": "code",
      "metadata": {
        "colab_type": "code",
        "id": "G3RLkoYJTJ1K",
        "outputId": "989df6c2-dff1-4199-c3a7-01f94bc8fdf8",
        "colab": {
          "base_uri": "https://localhost:8080/",
          "height": 34
        }
      },
      "source": [
        "target_list = np.unique(mnist.target)\n",
        "print(target_list)"
      ],
      "execution_count": 0,
      "outputs": [
        {
          "output_type": "stream",
          "text": [
            "['0' '1' '2' '3' '4' '5' '6' '7' '8' '9']\n"
          ],
          "name": "stdout"
        }
      ]
    },
    {
      "cell_type": "markdown",
      "metadata": {
        "colab_type": "text",
        "id": "ZTtO-5hOWbwQ"
      },
      "source": [
        "### Visualize dataset"
      ]
    },
    {
      "cell_type": "code",
      "metadata": {
        "id": "3IXElL9kAblz",
        "colab_type": "code",
        "outputId": "0ea61d0c-8526-4286-bb57-9b534ba4a136",
        "colab": {
          "base_uri": "https://localhost:8080/",
          "height": 1000
        }
      },
      "source": [
        "print(\"Target = \", mnist.target[0])\n",
        "print(\"Data in shape of (28,28) : \\n\",mnist.data[0].reshape(1,28,28))\n",
        "plt.imshow(mnist.data[0].reshape(28,28))\n",
        "plt.show()"
      ],
      "execution_count": 0,
      "outputs": [
        {
          "output_type": "stream",
          "text": [
            "Target =  5\n",
            "Data in shape of (28,28) : \n",
            " [[[  0.   0.   0.   0.   0.   0.   0.   0.   0.   0.   0.   0.   0.   0.\n",
            "     0.   0.   0.   0.   0.   0.   0.   0.   0.   0.   0.   0.   0.   0.]\n",
            "  [  0.   0.   0.   0.   0.   0.   0.   0.   0.   0.   0.   0.   0.   0.\n",
            "     0.   0.   0.   0.   0.   0.   0.   0.   0.   0.   0.   0.   0.   0.]\n",
            "  [  0.   0.   0.   0.   0.   0.   0.   0.   0.   0.   0.   0.   0.   0.\n",
            "     0.   0.   0.   0.   0.   0.   0.   0.   0.   0.   0.   0.   0.   0.]\n",
            "  [  0.   0.   0.   0.   0.   0.   0.   0.   0.   0.   0.   0.   0.   0.\n",
            "     0.   0.   0.   0.   0.   0.   0.   0.   0.   0.   0.   0.   0.   0.]\n",
            "  [  0.   0.   0.   0.   0.   0.   0.   0.   0.   0.   0.   0.   0.   0.\n",
            "     0.   0.   0.   0.   0.   0.   0.   0.   0.   0.   0.   0.   0.   0.]\n",
            "  [  0.   0.   0.   0.   0.   0.   0.   0.   0.   0.   0.   0.   3.  18.\n",
            "    18.  18. 126. 136. 175.  26. 166. 255. 247. 127.   0.   0.   0.   0.]\n",
            "  [  0.   0.   0.   0.   0.   0.   0.   0.  30.  36.  94. 154. 170. 253.\n",
            "   253. 253. 253. 253. 225. 172. 253. 242. 195.  64.   0.   0.   0.   0.]\n",
            "  [  0.   0.   0.   0.   0.   0.   0.  49. 238. 253. 253. 253. 253. 253.\n",
            "   253. 253. 253. 251.  93.  82.  82.  56.  39.   0.   0.   0.   0.   0.]\n",
            "  [  0.   0.   0.   0.   0.   0.   0.  18. 219. 253. 253. 253. 253. 253.\n",
            "   198. 182. 247. 241.   0.   0.   0.   0.   0.   0.   0.   0.   0.   0.]\n",
            "  [  0.   0.   0.   0.   0.   0.   0.   0.  80. 156. 107. 253. 253. 205.\n",
            "    11.   0.  43. 154.   0.   0.   0.   0.   0.   0.   0.   0.   0.   0.]\n",
            "  [  0.   0.   0.   0.   0.   0.   0.   0.   0.  14.   1. 154. 253.  90.\n",
            "     0.   0.   0.   0.   0.   0.   0.   0.   0.   0.   0.   0.   0.   0.]\n",
            "  [  0.   0.   0.   0.   0.   0.   0.   0.   0.   0.   0. 139. 253. 190.\n",
            "     2.   0.   0.   0.   0.   0.   0.   0.   0.   0.   0.   0.   0.   0.]\n",
            "  [  0.   0.   0.   0.   0.   0.   0.   0.   0.   0.   0.  11. 190. 253.\n",
            "    70.   0.   0.   0.   0.   0.   0.   0.   0.   0.   0.   0.   0.   0.]\n",
            "  [  0.   0.   0.   0.   0.   0.   0.   0.   0.   0.   0.   0.  35. 241.\n",
            "   225. 160. 108.   1.   0.   0.   0.   0.   0.   0.   0.   0.   0.   0.]\n",
            "  [  0.   0.   0.   0.   0.   0.   0.   0.   0.   0.   0.   0.   0.  81.\n",
            "   240. 253. 253. 119.  25.   0.   0.   0.   0.   0.   0.   0.   0.   0.]\n",
            "  [  0.   0.   0.   0.   0.   0.   0.   0.   0.   0.   0.   0.   0.   0.\n",
            "    45. 186. 253. 253. 150.  27.   0.   0.   0.   0.   0.   0.   0.   0.]\n",
            "  [  0.   0.   0.   0.   0.   0.   0.   0.   0.   0.   0.   0.   0.   0.\n",
            "     0.  16.  93. 252. 253. 187.   0.   0.   0.   0.   0.   0.   0.   0.]\n",
            "  [  0.   0.   0.   0.   0.   0.   0.   0.   0.   0.   0.   0.   0.   0.\n",
            "     0.   0.   0. 249. 253. 249.  64.   0.   0.   0.   0.   0.   0.   0.]\n",
            "  [  0.   0.   0.   0.   0.   0.   0.   0.   0.   0.   0.   0.   0.   0.\n",
            "    46. 130. 183. 253. 253. 207.   2.   0.   0.   0.   0.   0.   0.   0.]\n",
            "  [  0.   0.   0.   0.   0.   0.   0.   0.   0.   0.   0.   0.  39. 148.\n",
            "   229. 253. 253. 253. 250. 182.   0.   0.   0.   0.   0.   0.   0.   0.]\n",
            "  [  0.   0.   0.   0.   0.   0.   0.   0.   0.   0.  24. 114. 221. 253.\n",
            "   253. 253. 253. 201.  78.   0.   0.   0.   0.   0.   0.   0.   0.   0.]\n",
            "  [  0.   0.   0.   0.   0.   0.   0.   0.  23.  66. 213. 253. 253. 253.\n",
            "   253. 198.  81.   2.   0.   0.   0.   0.   0.   0.   0.   0.   0.   0.]\n",
            "  [  0.   0.   0.   0.   0.   0.  18. 171. 219. 253. 253. 253. 253. 195.\n",
            "    80.   9.   0.   0.   0.   0.   0.   0.   0.   0.   0.   0.   0.   0.]\n",
            "  [  0.   0.   0.   0.  55. 172. 226. 253. 253. 253. 253. 244. 133.  11.\n",
            "     0.   0.   0.   0.   0.   0.   0.   0.   0.   0.   0.   0.   0.   0.]\n",
            "  [  0.   0.   0.   0. 136. 253. 253. 253. 212. 135. 132.  16.   0.   0.\n",
            "     0.   0.   0.   0.   0.   0.   0.   0.   0.   0.   0.   0.   0.   0.]\n",
            "  [  0.   0.   0.   0.   0.   0.   0.   0.   0.   0.   0.   0.   0.   0.\n",
            "     0.   0.   0.   0.   0.   0.   0.   0.   0.   0.   0.   0.   0.   0.]\n",
            "  [  0.   0.   0.   0.   0.   0.   0.   0.   0.   0.   0.   0.   0.   0.\n",
            "     0.   0.   0.   0.   0.   0.   0.   0.   0.   0.   0.   0.   0.   0.]\n",
            "  [  0.   0.   0.   0.   0.   0.   0.   0.   0.   0.   0.   0.   0.   0.\n",
            "     0.   0.   0.   0.   0.   0.   0.   0.   0.   0.   0.   0.   0.   0.]]]\n"
          ],
          "name": "stdout"
        },
        {
          "output_type": "display_data",
          "data": {
            "image/png": "[encoded data removed]",
            "text/plain": [
              "<Figure size 432x288 with 1 Axes>"
            ]
          },
          "metadata": {
            "tags": []
          }
        }
      ]
    },
    {
      "cell_type": "code",
      "metadata": {
        "colab_type": "code",
        "id": "CBMer0yITJ1e",
        "outputId": "bf9b0248-55a2-43bd-ef41-0cb24d76fb91",
        "colab": {
          "base_uri": "https://localhost:8080/",
          "height": 417
        }
      },
      "source": [
        "plt.figure(figsize=(12,8))\n",
        "for i in range(10):\n",
        "    idx = np.random.randint(len(mnist.data))\n",
        "    plt.subplot(2,5,i+1)\n",
        "    plt.imshow(mnist.data[idx].reshape(28,28))\n",
        "    plt.title(\"Target : {}\".format(mnist.target[idx]))\n",
        "plt.show()"
      ],
      "execution_count": 0,
      "outputs": [
        {
          "output_type": "display_data",
          "data": {
            "image/png": "[encoded data removed]",
            "text/plain": [
              "<Figure size 864x576 with 10 Axes>"
            ]
          },
          "metadata": {
            "tags": []
          }
        }
      ]
    },
    {
      "cell_type": "markdown",
      "metadata": {
        "colab_type": "text",
        "id": "UXgNNb4KTJ1q"
      },
      "source": [
        "## **2. K-Nearest Neighbors method (K-NN)**"
      ]
    },
    {
      "cell_type": "markdown",
      "metadata": {
        "colab_type": "text",
        "id": "fa6DBd7kWvRF"
      },
      "source": [
        "### Shuffle data and take a small batch of 5000 samples"
      ]
    },
    {
      "cell_type": "code",
      "metadata": {
        "colab_type": "code",
        "id": "kVCLT90dTJ1t",
        "outputId": "b7f52ec1-67ea-43e6-a1a6-2b73a84757b3",
        "colab": {
          "base_uri": "https://localhost:8080/",
          "height": 69
        }
      },
      "source": [
        "# shuffle & print shape \n",
        "# data is not normalize\n",
        "indexes = random.sample(range(70000),5000)\n",
        "images = mnist.data[indexes].reshape((-1,28,28))\n",
        "data = mnist.data[indexes]\n",
        "labels = mnist.target[indexes]\n",
        "print(\"Shape of training images : \", images.shape)\n",
        "print(\"Shape of training data : \", data.shape)\n",
        "print(\"Shape of label : \", labels.shape)"
      ],
      "execution_count": 0,
      "outputs": [
        {
          "output_type": "stream",
          "text": [
            "Shape of training images :  (5000, 28, 28)\n",
            "Shape of training data :  (5000, 784)\n",
            "Shape of label :  (5000,)\n"
          ],
          "name": "stdout"
        }
      ]
    },
    {
      "cell_type": "markdown",
      "metadata": {
        "colab_type": "text",
        "id": "ZwokmVDOW6XB"
      },
      "source": [
        "### Split data"
      ]
    },
    {
      "cell_type": "code",
      "metadata": {
        "colab_type": "code",
        "id": "oZgx5VyUTJ18",
        "outputId": "318f4d90-346a-447e-b3d9-63a3e0f31bf5",
        "colab": {
          "base_uri": "https://localhost:8080/",
          "height": 86
        }
      },
      "source": [
        "X_train, X_test, y_train, y_test = train_test_split(data,labels,train_size =0.8)\n",
        "print(\"Training data shape : \", X_train.shape)\n",
        "print(\"Training target shape : \", y_train.shape)\n",
        "print(\"Testing data shape : \", X_test.shape)\n",
        "print(\"Testing target shape : \", y_test.shape)"
      ],
      "execution_count": 0,
      "outputs": [
        {
          "output_type": "stream",
          "text": [
            "Training data shape :  (4000, 784)\n",
            "Training target shape :  (4000,)\n",
            "Testing data shape :  (1000, 784)\n",
            "Testing target shape :  (1000,)\n"
          ],
          "name": "stdout"
        }
      ]
    },
    {
      "cell_type": "markdown",
      "metadata": {
        "colab_type": "text",
        "id": "hQIQwa3KW-kv"
      },
      "source": [
        "### Train k-NN classifier with k = 10"
      ]
    },
    {
      "cell_type": "code",
      "metadata": {
        "colab_type": "code",
        "id": "GEU7ZL2VTJ2K",
        "outputId": "b5588f00-2e2a-49b4-e855-c22b885f077c",
        "colab": {
          "base_uri": "https://localhost:8080/",
          "height": 52
        }
      },
      "source": [
        "%%time\n",
        "n_neighbors = 10\n",
        "clf = KNNs(n_neighbors)\n",
        "clf.fit(X_train,y_train)"
      ],
      "execution_count": 0,
      "outputs": [
        {
          "output_type": "stream",
          "text": [
            "CPU times: user 165 ms, sys: 0 ns, total: 165 ms\n",
            "Wall time: 165 ms\n"
          ],
          "name": "stdout"
        }
      ]
    },
    {
      "cell_type": "markdown",
      "metadata": {
        "colab_type": "text",
        "id": "NJ6zFiCKXIBh"
      },
      "source": [
        "### Plot predictions..."
      ]
    },
    {
      "cell_type": "code",
      "metadata": {
        "colab_type": "code",
        "id": "TB4G3V09TJ2l",
        "outputId": "d4333d83-0c3e-4ac1-8ed0-36c86d1199d1",
        "colab": {
          "base_uri": "https://localhost:8080/",
          "height": 452
        }
      },
      "source": [
        "%%time\n",
        "plt.figure(figsize=(12,8))\n",
        "for i in range(10):\n",
        "    idx = np.random.randint(len(X_test))\n",
        "    y_pred = clf.predict([X_test[idx]])\n",
        "    plt.subplot(2,5,i+1)\n",
        "    plt.imshow(X_test[idx].reshape(28,28))\n",
        "    plt.title(\"Prediction : {}\".format(y_pred[0]))\n",
        "plt.show()"
      ],
      "execution_count": 0,
      "outputs": [
        {
          "output_type": "display_data",
          "data": {
            "image/png": "[encoded data removed]",
            "text/plain": [
              "<Figure size 864x576 with 10 Axes>"
            ]
          },
          "metadata": {
            "tags": []
          }
        },
        {
          "output_type": "stream",
          "text": [
            "CPU times: user 1.27 s, sys: 9.99 ms, total: 1.28 s\n",
            "Wall time: 1.28 s\n"
          ],
          "name": "stdout"
        }
      ]
    },
    {
      "cell_type": "markdown",
      "metadata": {
        "colab_type": "text",
        "id": "yTp9KWn3YDhQ"
      },
      "source": [
        "### Compute manually score"
      ]
    },
    {
      "cell_type": "code",
      "metadata": {
        "colab_type": "code",
        "id": "xeRss4lNTJ25",
        "colab": {}
      },
      "source": [
        "def get_score(y_true,y_pred):\n",
        "    \"\"\"\n",
        "    This function computes the correct prediction / total prediction \n",
        "    \"\"\"\n",
        "    correct = 0\n",
        "    for i in range(len(y_true)):\n",
        "        if y_true[i] == y_pred[i]:\n",
        "            correct += 1\n",
        "    print(\"Nb of true prediction : {}/{}\".format(correct,len(y_true)))\n",
        "    return correct / len(y_true)"
      ],
      "execution_count": 0,
      "outputs": []
    },
    {
      "cell_type": "code",
      "metadata": {
        "colab_type": "code",
        "id": "BkHPz6q3Yfde",
        "outputId": "fd1299b3-6ff8-4abe-eb91-e25879593269",
        "colab": {
          "base_uri": "https://localhost:8080/",
          "height": 52
        }
      },
      "source": [
        "y_pred = clf.predict(X_test)\n",
        "score  = get_score(y_test,y_pred)\n",
        "print(\"Score = \",score)"
      ],
      "execution_count": 0,
      "outputs": [
        {
          "output_type": "stream",
          "text": [
            "Nb of true prediction : 909/1000\n",
            "Score =  0.909\n"
          ],
          "name": "stdout"
        }
      ]
    },
    {
      "cell_type": "markdown",
      "metadata": {
        "id": "DTdZXZ6aAbny",
        "colab_type": "text"
      },
      "source": [
        "### Verify again with clf.score..."
      ]
    },
    {
      "cell_type": "code",
      "metadata": {
        "id": "LwaUf1k9Abn2",
        "colab_type": "code",
        "outputId": "e8250abd-f937-4270-b1fd-d2dab2c366a0",
        "colab": {
          "base_uri": "https://localhost:8080/",
          "height": 34
        }
      },
      "source": [
        "clf.score(X_test,y_test)"
      ],
      "execution_count": 0,
      "outputs": [
        {
          "output_type": "execute_result",
          "data": {
            "text/plain": [
              "0.909"
            ]
          },
          "metadata": {
            "tags": []
          },
          "execution_count": 14
        }
      ]
    },
    {
      "cell_type": "markdown",
      "metadata": {
        "colab_type": "text",
        "id": "3-9Rvkw-Ypmv"
      },
      "source": [
        "### Classification report "
      ]
    },
    {
      "cell_type": "code",
      "metadata": {
        "colab_type": "code",
        "id": "iwbtywm-TJ3G",
        "outputId": "0d4166b0-e454-4e2c-b134-911d807fe1f7",
        "colab": {
          "base_uri": "https://localhost:8080/",
          "height": 312
        }
      },
      "source": [
        "print(classification_report(y_test,y_pred))"
      ],
      "execution_count": 0,
      "outputs": [
        {
          "output_type": "stream",
          "text": [
            "              precision    recall  f1-score   support\n",
            "\n",
            "           0       0.93      1.00      0.96       103\n",
            "           1       0.80      1.00      0.89        97\n",
            "           2       1.00      0.82      0.90       104\n",
            "           3       0.88      0.93      0.90        97\n",
            "           4       0.94      0.92      0.93        90\n",
            "           5       0.91      0.85      0.87        91\n",
            "           6       0.89      0.96      0.93        78\n",
            "           7       0.91      0.95      0.93       125\n",
            "           8       1.00      0.80      0.89        98\n",
            "           9       0.89      0.87      0.88       117\n",
            "\n",
            "    accuracy                           0.91      1000\n",
            "   macro avg       0.92      0.91      0.91      1000\n",
            "weighted avg       0.92      0.91      0.91      1000\n",
            "\n"
          ],
          "name": "stdout"
        }
      ]
    },
    {
      "cell_type": "markdown",
      "metadata": {
        "colab_type": "text",
        "id": "YcjZxMlKYvb1"
      },
      "source": [
        "### Confusion matrix"
      ]
    },
    {
      "cell_type": "code",
      "metadata": {
        "colab_type": "code",
        "id": "G2u3I3BZTJ3P",
        "colab": {}
      },
      "source": [
        "def plot_confusion_matrix(cm, classes,\n",
        "                          normalize=False,\n",
        "                          title='Confusion matrix',\n",
        "                          cmap=plt.cm.Blues):\n",
        "\n",
        "    \"\"\"\n",
        "    This function plots the confusion matrix of classfier\n",
        "    \"\"\"\n",
        "    if normalize:\n",
        "        cm = cm.astype('float') / cm.sum(axis=1)[:, np.newaxis]\n",
        "        print(\"Normalized confusion matrix\")\n",
        "    else:\n",
        "        print('Confusion matrix, without normalization')\n",
        "\n",
        "    plt.imshow(cm, interpolation='nearest', cmap=cmap)\n",
        "    plt.title(title)\n",
        "    plt.colorbar()\n",
        "    tick_marks = np.arange(len(classes))\n",
        "    plt.xticks(tick_marks, classes, rotation=45)\n",
        "    plt.yticks(tick_marks, classes)\n",
        "\n",
        "    fmt = '.2f' if normalize else 'd'\n",
        "    thresh = cm.max() / 2.\n",
        "    for i, j in itertools.product(range(cm.shape[0]), range(cm.shape[1])):\n",
        "        plt.text(j, i, format(cm[i, j], fmt),\n",
        "                 horizontalalignment=\"center\",\n",
        "                 color=\"white\" if cm[i, j] > thresh else \"black\")\n",
        "\n",
        "    plt.tight_layout()\n",
        "    plt.ylabel('True label')\n",
        "    plt.xlabel('Predicted label')"
      ],
      "execution_count": 0,
      "outputs": []
    },
    {
      "cell_type": "code",
      "metadata": {
        "colab_type": "code",
        "id": "h6mUySUHTJ3X",
        "outputId": "e3f86b5a-9b3d-4a86-b4af-fee1ed88651b",
        "colab": {
          "base_uri": "https://localhost:8080/",
          "height": 616
        }
      },
      "source": [
        "cm = confusion_matrix(y_test, y_pred)\n",
        "np.set_printoptions(precision=2)\n",
        "plt.figure(figsize=(12,8))\n",
        "plot_confusion_matrix(cm, classes=target_list, normalize=True,\n",
        "                      title='Normalized confusion matrix')\n",
        "\n",
        "plt.show()"
      ],
      "execution_count": 0,
      "outputs": [
        {
          "output_type": "stream",
          "text": [
            "Normalized confusion matrix\n"
          ],
          "name": "stdout"
        },
        {
          "output_type": "display_data",
          "data": {
            "image/png": "[encoded data removed]",
            "text/plain": [
              "<Figure size 864x576 with 2 Axes>"
            ]
          },
          "metadata": {
            "tags": []
          }
        }
      ]
    },
    {
      "cell_type": "markdown",
      "metadata": {
        "colab_type": "text",
        "id": "svIjB6WaZNiN"
      },
      "source": [
        "## **3. Parameter tuning for k-NN**"
      ]
    },
    {
      "cell_type": "markdown",
      "metadata": {
        "colab_type": "text",
        "id": "cyIX5h_cZXUS"
      },
      "source": [
        "### ***3.1. Number of neighbors***"
      ]
    },
    {
      "cell_type": "code",
      "metadata": {
        "colab_type": "code",
        "id": "jfqcVLYkTJ3m",
        "outputId": "7d68ec7b-b9d8-49cd-f617-87cc2bc4340e",
        "scrolled": false,
        "colab": {
          "base_uri": "https://localhost:8080/",
          "height": 559
        }
      },
      "source": [
        "%%timeit -n1 -r1\n",
        "\n",
        "training_accuracies = []\n",
        "test_accuracies = []\n",
        "neighbors_settings = np.arange(2,16,1)\n",
        "\n",
        "for n_neighbors in neighbors_settings :\n",
        "    print(\"n_neigbors = \",n_neighbors,\"...\")\n",
        "    clf = KNNs(n_neighbors)\n",
        "    clf.fit(X_train,y_train)\n",
        "    training_accuracies.append(clf.score(X_train,y_train))\n",
        "    test_accuracies.append(clf.score(X_test,y_test))\n",
        "  \n",
        "plt.plot(neighbors_settings, training_accuracies, label = \"training_accuracy\")\n",
        "plt.plot(neighbors_settings, test_accuracies, label = \"test_accuracy\")\n",
        "plt.ylabel(\"Accuracy\")\n",
        "plt.xlabel(\"n_neighbors\")\n",
        "plt.legend()\n",
        "\n",
        "plt.savefig('TP1-acc-vs-neighbors.png')"
      ],
      "execution_count": 0,
      "outputs": [
        {
          "output_type": "stream",
          "text": [
            "n_neigbors =  2 ...\n",
            "n_neigbors =  3 ...\n",
            "n_neigbors =  4 ...\n",
            "n_neigbors =  5 ...\n",
            "n_neigbors =  6 ...\n",
            "n_neigbors =  7 ...\n",
            "n_neigbors =  8 ...\n",
            "n_neigbors =  9 ...\n",
            "n_neigbors =  10 ...\n",
            "n_neigbors =  11 ...\n",
            "n_neigbors =  12 ...\n",
            "n_neigbors =  13 ...\n",
            "n_neigbors =  14 ...\n",
            "n_neigbors =  15 ...\n",
            "CPU times: user 7min 1s, sys: 51 ms, total: 7min 1s\n",
            "Wall time: 7min 1s\n"
          ],
          "name": "stdout"
        },
        {
          "output_type": "display_data",
          "data": {
            "image/png": "[encoded data removed]",
            "text/plain": [
              "<Figure size 432x288 with 1 Axes>"
            ]
          },
          "metadata": {
            "tags": []
          }
        }
      ]
    },
    {
      "cell_type": "markdown",
      "metadata": {
        "colab_type": "text",
        "id": "YGcmYOdHbCyN"
      },
      "source": [
        "### ***3.2. K-Fold***\n",
        "\n"
      ]
    },
    {
      "cell_type": "markdown",
      "metadata": {
        "id": "SrsT6d9BWycu",
        "colab_type": "text"
      },
      "source": [
        "**Use module sklearn.model_selection.cross_val_score**"
      ]
    },
    {
      "cell_type": "code",
      "metadata": {
        "id": "tKXYKXvZNtrE",
        "colab_type": "code",
        "outputId": "306dfa70-f8a9-46b9-db37-b91a2d2d9043",
        "colab": {
          "base_uri": "https://localhost:8080/",
          "height": 104
        }
      },
      "source": [
        "%%time\n",
        "cross_validation_accuracies = []\n",
        "neighbors_settings = np.arange(2,5,1)\n",
        "\n",
        "for n_neighbors in neighbors_settings :\n",
        "    print(\"n_neigbors = \",n_neighbors,\"...\")\n",
        "    clf = KNNs(n_neighbors)\n",
        "    cv_scores = cross_val_score(clf,data,labels,cv=10,n_jobs=1)\n",
        "    cross_validation_accuracies.append(cv_scores)"
      ],
      "execution_count": 0,
      "outputs": [
        {
          "output_type": "stream",
          "text": [
            "n_neigbors =  2 ...\n",
            "n_neigbors =  3 ...\n",
            "n_neigbors =  4 ...\n",
            "CPU times: user 1min 44s, sys: 20.9 ms, total: 1min 44s\n",
            "Wall time: 1min 44s\n"
          ],
          "name": "stdout"
        }
      ]
    },
    {
      "cell_type": "code",
      "metadata": {
        "id": "x6CloXjITUW0",
        "colab_type": "code",
        "outputId": "68b433c8-6da2-436c-ede8-8ce818ddd323",
        "colab": {
          "base_uri": "https://localhost:8080/",
          "height": 499
        }
      },
      "source": [
        "plt.figure(figsize=(12,8))\n",
        "plt.boxplot(cross_validation_accuracies) \n",
        "plt.ylabel(\"cross_validation_accuracy\")\n",
        "plt.xlabel(\"n_neighbors\")\n",
        "# plt.legend()\n",
        "\n",
        "plt.savefig('TP1-cross-val-acc-vs-neighbors.png')"
      ],
      "execution_count": 0,
      "outputs": [
        {
          "output_type": "display_data",
          "data": {
            "image/png": "[encoded data removed]",
            "text/plain": [
              "<Figure size 864x576 with 1 Axes>"
            ]
          },
          "metadata": {
            "tags": []
          }
        }
      ]
    },
    {
      "cell_type": "markdown",
      "metadata": {
        "id": "8DNTrE1sW9w8",
        "colab_type": "text"
      },
      "source": [
        "**Use module sklearn.model_selection.KFold in order to compute scores**\n"
      ]
    },
    {
      "cell_type": "code",
      "metadata": {
        "colab_type": "code",
        "id": "abxNltRsTJ4J",
        "outputId": "3afc039e-5d83-4b9b-ea7a-5c5fc02c6799",
        "scrolled": true,
        "colab": {
          "base_uri": "https://localhost:8080/",
          "height": 1000
        }
      },
      "source": [
        "%%time \n",
        "scores = []\n",
        "k_fold_scores = []\n",
        "\n",
        "kf = KFold(n_splits=10,shuffle=True)\n",
        "print(kf)\n",
        "\n",
        "for n_neighbors in range(2,5):\n",
        "    print(\"=========================\")\n",
        "    print(\"n_neigbors = \",n_neighbors,\"...\")\n",
        "    print(\"=========================\")\n",
        "    clf = KNNs(n_neighbors)\n",
        "    id_fold = 0\n",
        "    for train_index, test_index in kf.split(data):\n",
        "        print(\"Fold num {}...training...\".format(id_fold))\n",
        "        X_train, X_test = data[train_index], data[test_index]\n",
        "        y_train, y_test = labels[train_index], labels[test_index]\n",
        "        clf.fit(X_train,y_train)\n",
        "        score = clf.score(X_test,y_test)\n",
        "        print(\"Test acc : \", score)\n",
        "        k_fold_scores.append(score)\n",
        "        id_fold += 1\n",
        "    scores.append(k_fold_scores)\n",
        "print(\"================= Fin ======================\\n\")"
      ],
      "execution_count": 0,
      "outputs": [
        {
          "output_type": "stream",
          "text": [
            "KFold(n_splits=10, random_state=None, shuffle=True)\n",
            "=========================\n",
            "n_neigbors =  2 ...\n",
            "=========================\n",
            "Fold num 0...training...\n",
            "Test acc :  0.922\n",
            "Fold num 1...training...\n",
            "Test acc :  0.884\n",
            "Fold num 2...training...\n",
            "Test acc :  0.912\n",
            "Fold num 3...training...\n",
            "Test acc :  0.902\n",
            "Fold num 4...training...\n",
            "Test acc :  0.914\n",
            "Fold num 5...training...\n",
            "Test acc :  0.906\n",
            "Fold num 6...training...\n",
            "Test acc :  0.916\n",
            "Fold num 7...training...\n",
            "Test acc :  0.902\n",
            "Fold num 8...training...\n",
            "Test acc :  0.908\n",
            "Fold num 9...training...\n",
            "Test acc :  0.938\n",
            "=========================\n",
            "n_neigbors =  3 ...\n",
            "=========================\n",
            "Fold num 0...training...\n",
            "Test acc :  0.91\n",
            "Fold num 1...training...\n",
            "Test acc :  0.924\n",
            "Fold num 2...training...\n",
            "Test acc :  0.936\n",
            "Fold num 3...training...\n",
            "Test acc :  0.928\n",
            "Fold num 4...training...\n",
            "Test acc :  0.914\n",
            "Fold num 5...training...\n",
            "Test acc :  0.912\n",
            "Fold num 6...training...\n",
            "Test acc :  0.916\n",
            "Fold num 7...training...\n",
            "Test acc :  0.924\n",
            "Fold num 8...training...\n",
            "Test acc :  0.944\n",
            "Fold num 9...training...\n",
            "Test acc :  0.91\n",
            "=========================\n",
            "n_neigbors =  4 ...\n",
            "=========================\n",
            "Fold num 0...training...\n",
            "Test acc :  0.902\n",
            "Fold num 1...training...\n",
            "Test acc :  0.9\n",
            "Fold num 2...training...\n",
            "Test acc :  0.906\n",
            "Fold num 3...training...\n",
            "Test acc :  0.924\n",
            "Fold num 4...training...\n",
            "Test acc :  0.916\n",
            "Fold num 5...training...\n",
            "Test acc :  0.926\n",
            "Fold num 6...training...\n",
            "Test acc :  0.928\n",
            "Fold num 7...training...\n",
            "Test acc :  0.932\n",
            "Fold num 8...training...\n",
            "Test acc :  0.932\n",
            "Fold num 9...training...\n",
            "Test acc :  0.91\n",
            "================= Fin ======================\n",
            "\n",
            "CPU times: user 1min 46s, sys: 41 ms, total: 1min 46s\n",
            "Wall time: 1min 46s\n"
          ],
          "name": "stdout"
        }
      ]
    },
    {
      "cell_type": "code",
      "metadata": {
        "colab_type": "code",
        "id": "lg8YjqQTcNz9",
        "outputId": "5c9c7c28-6558-4855-c279-016891992ba3",
        "colab": {
          "base_uri": "https://localhost:8080/",
          "height": 515
        }
      },
      "source": [
        "plt.figure(figsize=(12,8))\n",
        "plt.boxplot(scores) \n",
        "plt.ylabel(\"cross_validation_accuracy\")\n",
        "plt.xlabel(\"n_neighbors\")"
      ],
      "execution_count": 0,
      "outputs": [
        {
          "output_type": "execute_result",
          "data": {
            "text/plain": [
              "Text(0.5, 0, 'n_neighbors')"
            ]
          },
          "metadata": {
            "tags": []
          },
          "execution_count": 42
        },
        {
          "output_type": "display_data",
          "data": {
            "image/png": "[encoded data removed]",
            "text/plain": [
              "<Figure size 864x576 with 1 Axes>"
            ]
          },
          "metadata": {
            "tags": []
          }
        }
      ]
    },
    {
      "cell_type": "markdown",
      "metadata": {
        "colab_type": "text",
        "id": "9IuZt1bMdsMT"
      },
      "source": [
        "### ***3.3. Split rate*** \n"
      ]
    },
    {
      "cell_type": "markdown",
      "metadata": {
        "id": "0Hzexq6DXxxC",
        "colab_type": "text"
      },
      "source": [
        "**Fix n_neighbors = 3, we change split_rate and print scores**"
      ]
    },
    {
      "cell_type": "code",
      "metadata": {
        "colab_type": "code",
        "id": "qHustDziTJ4S",
        "outputId": "f67c246d-fc15-4056-9113-af2238f33bb4",
        "colab": {
          "base_uri": "https://localhost:8080/",
          "height": 191
        }
      },
      "source": [
        "def get_rate(x):\n",
        "    return round(0.5 + int(x) * 0.05,3)\n",
        "for i in range(10):\n",
        "    print(get_rate(i))"
      ],
      "execution_count": 0,
      "outputs": [
        {
          "output_type": "stream",
          "text": [
            "0.5\n",
            "0.55\n",
            "0.6\n",
            "0.65\n",
            "0.7\n",
            "0.75\n",
            "0.8\n",
            "0.85\n",
            "0.9\n",
            "0.95\n"
          ],
          "name": "stdout"
        }
      ]
    },
    {
      "cell_type": "code",
      "metadata": {
        "colab_type": "code",
        "id": "NA3tRNI1TJ4g",
        "outputId": "27f1466a-e699-4e49-90e9-21a69a49a485",
        "colab": {
          "base_uri": "https://localhost:8080/",
          "height": 573
        }
      },
      "source": [
        "%%time\n",
        "n_neighbors = 3\n",
        "training_accuracies = []\n",
        "test_accuracies = []\n",
        "split_rates = [get_rate(i) for i in range(10)]\n",
        "for split_rate in split_rates:\n",
        "    print(\"Split_rate = {}...\".format(split_rate))\n",
        "    X_train, X_test, y_train, y_test = train_test_split(data,labels,train_size =split_rate)\n",
        "    clf = KNNs(n_neighbors)\n",
        "    print(\"Fitting model...\")\n",
        "    clf.fit(X_train,y_train)\n",
        "    clf = KNNs(n_neighbors)\n",
        "    clf.fit(X_train,y_train)\n",
        "    training_accuracies.append(clf.score(X_train,y_train))\n",
        "    test_accuracies.append(clf.score(X_test,y_test))\n",
        "    print(\"=====================================\")"
      ],
      "execution_count": 0,
      "outputs": [
        {
          "output_type": "stream",
          "text": [
            "Split_rate = 0.5...\n",
            "Fitting model...\n",
            "=====================================\n",
            "Split_rate = 0.55...\n",
            "Fitting model...\n",
            "=====================================\n",
            "Split_rate = 0.6...\n",
            "Fitting model...\n",
            "=====================================\n",
            "Split_rate = 0.65...\n",
            "Fitting model...\n",
            "=====================================\n",
            "Split_rate = 0.7...\n",
            "Fitting model...\n",
            "=====================================\n",
            "Split_rate = 0.75...\n",
            "Fitting model...\n",
            "=====================================\n",
            "Split_rate = 0.8...\n",
            "Fitting model...\n",
            "=====================================\n",
            "Split_rate = 0.85...\n",
            "Fitting model...\n",
            "=====================================\n",
            "Split_rate = 0.9...\n",
            "Fitting model...\n",
            "=====================================\n",
            "Split_rate = 0.95...\n",
            "Fitting model...\n",
            "=====================================\n",
            "CPU times: user 4min 18s, sys: 41.9 ms, total: 4min 18s\n",
            "Wall time: 4min 18s\n"
          ],
          "name": "stdout"
        }
      ]
    },
    {
      "cell_type": "code",
      "metadata": {
        "id": "4nCRiQ8GYrpx",
        "colab_type": "code",
        "outputId": "04948e4a-fa6e-45dd-d790-0e3cfff79b40",
        "colab": {
          "base_uri": "https://localhost:8080/",
          "height": 280
        }
      },
      "source": [
        "plt.plot(split_rates, training_accuracies, label = \"training_accuracy\")\n",
        "plt.plot(split_rates, test_accuracies, label = \"test_accuracy\")\n",
        "plt.ylabel(\"Accuracy\")\n",
        "plt.xlabel(\"split_rate\")\n",
        "plt.legend()\n",
        "\n",
        "plt.savefig('TP1-acc-vs-split-rate.png')"
      ],
      "execution_count": 0,
      "outputs": [
        {
          "output_type": "display_data",
          "data": {
            "image/png": "[encoded data removed]",
            "text/plain": [
              "<Figure size 432x288 with 1 Axes>"
            ]
          },
          "metadata": {
            "tags": []
          }
        }
      ]
    },
    {
      "cell_type": "markdown",
      "metadata": {
        "colab_type": "text",
        "id": "mTRqfQQuhUzH"
      },
      "source": [
        "### ***3.4. Distance metrics***"
      ]
    },
    {
      "cell_type": "code",
      "metadata": {
        "colab_type": "code",
        "id": "_P2PuKNfTJ4p",
        "outputId": "224b56ac-6544-4268-bcd7-5196ac4598d2",
        "colab": {
          "base_uri": "https://localhost:8080/",
          "height": 191
        }
      },
      "source": [
        "X_train, X_test, y_train, y_test = train_test_split(data,labels,train_size =0.8)\n",
        "n_neighbors = 10\n",
        "training_scores = []\n",
        "test_scores = []\n",
        "print(\"===  Testing type of distance (p) ===\")\n",
        "for p in range(1,10):\n",
        "    print(\"Metrics : Minkowski, p = \",p)\n",
        "    clf = KNNs(n_neighbors=n_neighbors,p=p,metric='minkowski')\n",
        "    %%time\n",
        "    clf.fit(X_train,y_train)\n",
        "    training_scores.append(clf.score(X_train,y_train))\n",
        "    test_scores.append(clf.score(X_test,y_test))"
      ],
      "execution_count": 0,
      "outputs": [
        {
          "output_type": "stream",
          "text": [
            "===  Testing type of distance (p) ===\n",
            "Metrics : Minkowski, p =  1\n",
            "Metrics : Minkowski, p =  2\n",
            "Metrics : Minkowski, p =  3\n",
            "Metrics : Minkowski, p =  4\n",
            "Metrics : Minkowski, p =  5\n",
            "Metrics : Minkowski, p =  6\n",
            "Metrics : Minkowski, p =  7\n",
            "Metrics : Minkowski, p =  8\n",
            "Metrics : Minkowski, p =  9\n"
          ],
          "name": "stdout"
        }
      ]
    },
    {
      "cell_type": "code",
      "metadata": {
        "colab_type": "code",
        "id": "Vpn8Tjc2hggM",
        "outputId": "36e83788-fd4b-4ab1-ddfe-fe791ad270e4",
        "colab": {
          "base_uri": "https://localhost:8080/",
          "height": 295
        }
      },
      "source": [
        "fig, ax = plt.subplots()\n",
        "ax.plot(np.arange(1,10,1), training_scores, label = \"training accuracy\")\n",
        "ax.plot(np.arange(1,10,1), test_scores, label = \"test accuracy\" )\n",
        "\n",
        "ax.set(xlabel='type of distances (p) in Minkowski metric', ylabel='accuracy',\n",
        "       title='accuracy / type de distances')\n",
        "ax.grid()\n",
        "plt.savefig('TP1-acc-vs-minkowski-p.png')\n",
        "plt.show()"
      ],
      "execution_count": 0,
      "outputs": [
        {
          "output_type": "display_data",
          "data": {
            "image/png": "[encoded data removed]",
            "text/plain": [
              "<Figure size 432x288 with 1 Axes>"
            ]
          },
          "metadata": {
            "tags": []
          }
        }
      ]
    },
    {
      "cell_type": "code",
      "metadata": {
        "id": "zOKgAuVTabm-",
        "colab_type": "code",
        "outputId": "36a4f6e1-17f4-4280-d30f-b6d5f9e09043",
        "colab": {
          "base_uri": "https://localhost:8080/",
          "height": 295
        }
      },
      "source": [
        "%%time \n",
        "\n",
        "neighbors_settings = np.arange(2,16,1)\n",
        "minkowski_test_accuracies = []\n",
        "manhattan_test_accuracies = []\n",
        "euclidean_test_accuracies = []\n",
        "chebyshev_test_accuracies = []\n",
        "\n",
        "for n_neighbors in neighbors_settings :\n",
        "    print(\"n_neigbors = \",n_neighbors,\"...\")\n",
        "    clf = KNNs(n_neighbors,p=3,metric='minkowski')\n",
        "    clf.fit(X_train,y_train)\n",
        "    minkowski_test_accuracies.append(clf.score(X_test,y_test))\n",
        "\n",
        "    clf = KNNs(n_neighbors,metric='manhattan')\n",
        "    clf.fit(X_train,y_train)\n",
        "    manhattan_test_accuracies.append(clf.score(X_test,y_test))\n",
        "    \n",
        "    clf = KNNs(n_neighbors,metric='euclidean')\n",
        "    clf.fit(X_train,y_train)\n",
        "    euclidean_test_accuracies.append(clf.score(X_test,y_test))\n",
        "\n",
        "    clf = KNNs(n_neighbors,metric='chebyshev')\n",
        "    clf.fit(X_train,y_train)\n",
        "    chebyshev_test_accuracies.append(clf.score(X_test,y_test))"
      ],
      "execution_count": 0,
      "outputs": [
        {
          "output_type": "stream",
          "text": [
            "n_neigbors =  2 ...\n",
            "n_neigbors =  3 ...\n",
            "n_neigbors =  4 ...\n",
            "n_neigbors =  5 ...\n",
            "n_neigbors =  6 ...\n",
            "n_neigbors =  7 ...\n",
            "n_neigbors =  8 ...\n",
            "n_neigbors =  9 ...\n",
            "n_neigbors =  10 ...\n",
            "n_neigbors =  11 ...\n",
            "n_neigbors =  12 ...\n",
            "n_neigbors =  13 ...\n",
            "n_neigbors =  14 ...\n",
            "n_neigbors =  15 ...\n",
            "CPU times: user 27min 32s, sys: 398 ms, total: 27min 32s\n",
            "Wall time: 27min 34s\n"
          ],
          "name": "stdout"
        }
      ]
    },
    {
      "cell_type": "code",
      "metadata": {
        "id": "8m1ls_hleGzR",
        "colab_type": "code",
        "outputId": "675ffcbb-5ab2-4ba1-c9d2-a7db8781df06",
        "colab": {
          "base_uri": "https://localhost:8080/",
          "height": 279
        }
      },
      "source": [
        "plt.plot(neighbors_settings, minkowski_test_accuracies, label = \"minkowski_3_test_accuracy\")\n",
        "plt.plot(neighbors_settings, manhattan_test_accuracies, label = \"manhattan_test_accuracy\")\n",
        "plt.plot(neighbors_settings, euclidean_test_accuracies, label = \"euclidean_test_accuracy\")\n",
        "plt.plot(neighbors_settings, chebyshev_test_accuracies, label = \"chebyshev_test_accuracy\")\n",
        "\n",
        "plt.ylabel(\"Accuracy\")\n",
        "plt.xlabel(\"Number of k\")\n",
        "plt.legend()\n",
        "plt.grid()\n",
        "plt.savefig('TP1-acc-vs-metrics.png')"
      ],
      "execution_count": 0,
      "outputs": [
        {
          "output_type": "display_data",
          "data": {
            "image/png": "[encoded data removed]",
            "text/plain": [
              "<Figure size 432x288 with 1 Axes>"
            ]
          },
          "metadata": {
            "tags": []
          }
        }
      ]
    },
    {
      "cell_type": "markdown",
      "metadata": {
        "colab_type": "text",
        "id": "Mri4dhJbkgYE"
      },
      "source": [
        "### ***3.5. n_jobs in KNN***"
      ]
    },
    {
      "cell_type": "markdown",
      "metadata": {
        "id": "R4Euggblcctj",
        "colab_type": "text"
      },
      "source": [
        "**Case n_jobs = 1**"
      ]
    },
    {
      "cell_type": "code",
      "metadata": {
        "colab_type": "code",
        "id": "mDkow5OYTJ4y",
        "outputId": "cff4d12c-087e-43a4-b1de-7f022cc4b4aa",
        "colab": {
          "base_uri": "https://localhost:8080/",
          "height": 208
        }
      },
      "source": [
        "%%time\n",
        "X_train, X_test, y_train, y_test = train_test_split(data,labels,train_size =0.8)\n",
        "print(\"Traning data shape : \", X_train.shape,\"Traning target shape : \", y_train.shape)\n",
        "print(\"Testing data shape : \", X_test.shape,\"Testing target shape : \", y_test.shape)\n",
        "n_neighbors = 10\n",
        "clf = KNNs(n_neighbors,n_jobs = 1)\n",
        "start = time.clock()\n",
        "print(\"Fitting model...\")\n",
        "clf.fit(X_train,y_train)\n",
        "end_train = time.clock()\n",
        "print(\"Training time : \",end_train-start)\n",
        "print(\"Predicting...\")\n",
        "y_pred = clf.predict(X_test)\n",
        "end_pred = time.clock()\n",
        "print(\"Predicting time: \",end_pred-end_train)\n",
        "print(\"Training score : \",clf.score(X_train,y_train))\n",
        "print(\"Test score : \",clf.score(X_test,y_test))\n",
        "print(\"Total execution time : \",time.clock()-start)"
      ],
      "execution_count": 0,
      "outputs": [
        {
          "output_type": "stream",
          "text": [
            "Traning data shape :  (4000, 784) Traning target shape :  (4000,)\n",
            "Testing data shape :  (1000, 784) Testing target shape :  (1000,)\n",
            "Fitting model...\n",
            "Training time :  0.16278299999999035\n",
            "Predicting...\n",
            "Predicting time:  6.235318000000007\n",
            "Training score :  0.93475\n",
            "Test score :  0.918\n",
            "Total execution time :  37.522902999999815\n",
            "CPU times: user 37.5 s, sys: 7.99 ms, total: 37.5 s\n",
            "Wall time: 37.6 s\n"
          ],
          "name": "stdout"
        }
      ]
    },
    {
      "cell_type": "markdown",
      "metadata": {
        "id": "Yp0yTExtcYWX",
        "colab_type": "text"
      },
      "source": [
        "**Case n_jobs = -1**"
      ]
    },
    {
      "cell_type": "code",
      "metadata": {
        "colab_type": "code",
        "id": "oOTI0PKalfej",
        "outputId": "04be51c5-21fd-4e0b-d6bf-a3c33632b2e6",
        "colab": {
          "base_uri": "https://localhost:8080/",
          "height": 208
        }
      },
      "source": [
        "%%time\n",
        "X_train, X_test, y_train, y_test = train_test_split(data,labels,train_size =0.8)\n",
        "print(\"Traning data shape : \", X_train.shape,\"Traning target shape : \", y_train.shape)\n",
        "print(\"Testing data shape : \", X_test.shape,\"Testing target shape : \", y_test.shape)\n",
        "n_neighbors = 10\n",
        "clf = KNNs(n_neighbors,n_jobs = -1)\n",
        "start = time.clock()\n",
        "print(\"Fitting model...\")\n",
        "clf.fit(X_train,y_train)\n",
        "end_train = time.clock()\n",
        "print(\"Training time : \",end_train-start)\n",
        "print(\"Predicting...\")\n",
        "y_pred = clf.predict(X_test)\n",
        "end_pred = time.clock()\n",
        "print(\"Predicting time: \",end_pred-end_train)\n",
        "print(\"Training score : \",clf.score(X_train,y_train))\n",
        "print(\"Test score : \",clf.score(X_test,y_test))\n",
        "print(\"Total execution time : \",time.clock()-start)"
      ],
      "execution_count": 0,
      "outputs": [
        {
          "output_type": "stream",
          "text": [
            "Traning data shape :  (4000, 784) Traning target shape :  (4000,)\n",
            "Testing data shape :  (1000, 784) Testing target shape :  (1000,)\n",
            "Fitting model...\n",
            "Training time :  0.11702700000000732\n",
            "Predicting...\n",
            "Predicting time:  9.639503999999988\n",
            "Training score :  0.93375\n",
            "Test score :  0.911\n",
            "Total execution time :  58.053104000000076\n",
            "CPU times: user 58 s, sys: 60.9 ms, total: 58.1 s\n",
            "Wall time: 29.7 s\n"
          ],
          "name": "stdout"
        }
      ]
    },
    {
      "cell_type": "markdown",
      "metadata": {
        "colab_type": "text",
        "id": "e1UPrtGJlxK2"
      },
      "source": [
        "-----\n",
        "\n"
      ]
    }
  ]
}