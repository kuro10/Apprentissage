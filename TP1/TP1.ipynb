{
 "cells": [
  {
   "cell_type": "markdown",
   "metadata": {
    "colab_type": "text",
    "id": "CHp00raXVa7h"
   },
   "source": [
    "# TP1 Apprentissage"
   ]
  },
  {
   "cell_type": "code",
   "execution_count": 21,
   "metadata": {
    "colab": {},
    "colab_type": "code",
    "id": "fiPl61_eTJzS"
   },
   "outputs": [],
   "source": [
    "# import library\n",
    "import numpy as np\n",
    "import matplotlib.pyplot as plt\n",
    "from sklearn.datasets import fetch_openml\n",
    "import random\n",
    "from sklearn.model_selection import train_test_split\n",
    "from sklearn.neighbors import KNeighborsClassifier as KNNs\n",
    "from sklearn.metrics import classification_report\n",
    "from sklearn.metrics import confusion_matrix\n",
    "import itertools\n",
    "import time"
   ]
  },
  {
   "cell_type": "markdown",
   "metadata": {
    "colab_type": "text",
    "id": "etHhJk6GVk5W"
   },
   "source": [
    "## 1. Dataset Exploration & Visualization"
   ]
  },
  {
   "cell_type": "markdown",
   "metadata": {
    "colab_type": "text",
    "id": "UBybTHepWWB3"
   },
   "source": [
    "### Load MNIST dataset"
   ]
  },
  {
   "cell_type": "code",
   "execution_count": 2,
   "metadata": {
    "colab": {},
    "colab_type": "code",
    "id": "hUPa_dGFTJ0C"
   },
   "outputs": [],
   "source": [
    "# Load data\n",
    "mnist = fetch_openml('mnist_784') "
   ]
  },
  {
   "cell_type": "code",
   "execution_count": 3,
   "metadata": {
    "colab": {},
    "colab_type": "code",
    "id": "ezj2TyheTJ0c"
   },
   "outputs": [
    {
     "name": "stdout",
     "output_type": "stream",
     "text": [
      "**Author**: Yann LeCun, Corinna Cortes, Christopher J.C. Burges  \n",
      "**Source**: [MNIST Website](http://yann.lecun.com/exdb/mnist/) - Date unknown  \n",
      "**Please cite**:  \n",
      "\n",
      "The MNIST database of handwritten digits with 784 features, raw data available at: http://yann.lecun.com/exdb/mnist/. It can be split in a training set of the first 60,000 examples, and a test set of 10,000 examples  \n",
      "\n",
      "It is a subset of a larger set available from NIST. The digits have been size-normalized and centered in a fixed-size image. It is a good database for people who want to try learning techniques and pattern recognition methods on real-world data while spending minimal efforts on preprocessing and formatting. The original black and white (bilevel) images from NIST were size normalized to fit in a 20x20 pixel box while preserving their aspect ratio. The resulting images contain grey levels as a result of the anti-aliasing technique used by the normalization algorithm. the images were centered in a 28x28 image by computing the center of mass of the pixels, and translating the image so as to position this point at the center of the 28x28 field.  \n",
      "\n",
      "With some classification methods (particularly template-based methods, such as SVM and K-nearest neighbors), the error rate improves when the digits are centered by bounding box rather than center of mass. If you do this kind of pre-processing, you should report it in your publications. The MNIST database was constructed from NIST's NIST originally designated SD-3 as their training set and SD-1 as their test set. However, SD-3 is much cleaner and easier to recognize than SD-1. The reason for this can be found on the fact that SD-3 was collected among Census Bureau employees, while SD-1 was collected among high-school students. Drawing sensible conclusions from learning experiments requires that the result be independent of the choice of training set and test among the complete set of samples. Therefore it was necessary to build a new database by mixing NIST's datasets.  \n",
      "\n",
      "The MNIST training set is composed of 30,000 patterns from SD-3 and 30,000 patterns from SD-1. Our test set was composed of 5,000 patterns from SD-3 and 5,000 patterns from SD-1. The 60,000 pattern training set contained examples from approximately 250 writers. We made sure that the sets of writers of the training set and test set were disjoint. SD-1 contains 58,527 digit images written by 500 different writers. In contrast to SD-3, where blocks of data from each writer appeared in sequence, the data in SD-1 is scrambled. Writer identities for SD-1 is available and we used this information to unscramble the writers. We then split SD-1 in two: characters written by the first 250 writers went into our new training set. The remaining 250 writers were placed in our test set. Thus we had two sets with nearly 30,000 examples each. The new training set was completed with enough examples from SD-3, starting at pattern # 0, to make a full set of 60,000 training patterns. Similarly, the new test set was completed with SD-3 examples starting at pattern # 35,000 to make a full set with 60,000 test patterns. Only a subset of 10,000 test images (5,000 from SD-1 and 5,000 from SD-3) is available on this site. The full 60,000 sample training set is available.\n",
      "\n",
      "Downloaded from openml.org.\n"
     ]
    }
   ],
   "source": [
    "print(mnist.DESCR)"
   ]
  },
  {
   "cell_type": "code",
   "execution_count": 4,
   "metadata": {
    "colab": {
     "base_uri": "https://localhost:8080/",
     "height": 54
    },
    "colab_type": "code",
    "id": "AklfKJmyTJ0_",
    "outputId": "7c21895a-3e87-4f36-97f9-0cdb53ee6ef2"
   },
   "outputs": [
    {
     "name": "stdout",
     "output_type": "stream",
     "text": [
      "Shape of data :  (70000, 784)\n",
      "Shape of target :  (70000,)\n"
     ]
    }
   ],
   "source": [
    "print(\"Shape of data : \", mnist.data.shape)\n",
    "print(\"Shape of target : \",mnist.target.shape)"
   ]
  },
  {
   "cell_type": "code",
   "execution_count": 5,
   "metadata": {
    "colab": {
     "base_uri": "https://localhost:8080/",
     "height": 35
    },
    "colab_type": "code",
    "id": "G3RLkoYJTJ1K",
    "outputId": "4a103e61-6574-4b5d-bf76-e4a8bdbe8e72"
   },
   "outputs": [
    {
     "name": "stdout",
     "output_type": "stream",
     "text": [
      "['0' '1' '2' '3' '4' '5' '6' '7' '8' '9']\n"
     ]
    }
   ],
   "source": [
    "target_list = np.unique(mnist.target)\n",
    "print(target_list)"
   ]
  },
  {
   "cell_type": "markdown",
   "metadata": {
    "colab_type": "text",
    "id": "ZTtO-5hOWbwQ"
   },
   "source": [
    "### Visualize dataset"
   ]
  },
  {
   "cell_type": "code",
   "execution_count": 13,
   "metadata": {},
   "outputs": [
    {
     "name": "stdout",
     "output_type": "stream",
     "text": [
      "Target =  5\n",
      "Data in shape of (28,28) : \n",
      " [[[  0.   0.   0.   0.   0.   0.   0.   0.   0.   0.   0.   0.   0.   0.\n",
      "     0.   0.   0.   0.   0.   0.   0.   0.   0.   0.   0.   0.   0.   0.]\n",
      "  [  0.   0.   0.   0.   0.   0.   0.   0.   0.   0.   0.   0.   0.   0.\n",
      "     0.   0.   0.   0.   0.   0.   0.   0.   0.   0.   0.   0.   0.   0.]\n",
      "  [  0.   0.   0.   0.   0.   0.   0.   0.   0.   0.   0.   0.   0.   0.\n",
      "     0.   0.   0.   0.   0.   0.   0.   0.   0.   0.   0.   0.   0.   0.]\n",
      "  [  0.   0.   0.   0.   0.   0.   0.   0.   0.   0.   0.   0.   0.   0.\n",
      "     0.   0.   0.   0.   0.   0.   0.   0.   0.   0.   0.   0.   0.   0.]\n",
      "  [  0.   0.   0.   0.   0.   0.   0.   0.   0.   0.   0.   0.   0.   0.\n",
      "     0.   0.   0.   0.   0.   0.   0.   0.   0.   0.   0.   0.   0.   0.]\n",
      "  [  0.   0.   0.   0.   0.   0.   0.   0.   0.   0.   0.   0.   3.  18.\n",
      "    18.  18. 126. 136. 175.  26. 166. 255. 247. 127.   0.   0.   0.   0.]\n",
      "  [  0.   0.   0.   0.   0.   0.   0.   0.  30.  36.  94. 154. 170. 253.\n",
      "   253. 253. 253. 253. 225. 172. 253. 242. 195.  64.   0.   0.   0.   0.]\n",
      "  [  0.   0.   0.   0.   0.   0.   0.  49. 238. 253. 253. 253. 253. 253.\n",
      "   253. 253. 253. 251.  93.  82.  82.  56.  39.   0.   0.   0.   0.   0.]\n",
      "  [  0.   0.   0.   0.   0.   0.   0.  18. 219. 253. 253. 253. 253. 253.\n",
      "   198. 182. 247. 241.   0.   0.   0.   0.   0.   0.   0.   0.   0.   0.]\n",
      "  [  0.   0.   0.   0.   0.   0.   0.   0.  80. 156. 107. 253. 253. 205.\n",
      "    11.   0.  43. 154.   0.   0.   0.   0.   0.   0.   0.   0.   0.   0.]\n",
      "  [  0.   0.   0.   0.   0.   0.   0.   0.   0.  14.   1. 154. 253.  90.\n",
      "     0.   0.   0.   0.   0.   0.   0.   0.   0.   0.   0.   0.   0.   0.]\n",
      "  [  0.   0.   0.   0.   0.   0.   0.   0.   0.   0.   0. 139. 253. 190.\n",
      "     2.   0.   0.   0.   0.   0.   0.   0.   0.   0.   0.   0.   0.   0.]\n",
      "  [  0.   0.   0.   0.   0.   0.   0.   0.   0.   0.   0.  11. 190. 253.\n",
      "    70.   0.   0.   0.   0.   0.   0.   0.   0.   0.   0.   0.   0.   0.]\n",
      "  [  0.   0.   0.   0.   0.   0.   0.   0.   0.   0.   0.   0.  35. 241.\n",
      "   225. 160. 108.   1.   0.   0.   0.   0.   0.   0.   0.   0.   0.   0.]\n",
      "  [  0.   0.   0.   0.   0.   0.   0.   0.   0.   0.   0.   0.   0.  81.\n",
      "   240. 253. 253. 119.  25.   0.   0.   0.   0.   0.   0.   0.   0.   0.]\n",
      "  [  0.   0.   0.   0.   0.   0.   0.   0.   0.   0.   0.   0.   0.   0.\n",
      "    45. 186. 253. 253. 150.  27.   0.   0.   0.   0.   0.   0.   0.   0.]\n",
      "  [  0.   0.   0.   0.   0.   0.   0.   0.   0.   0.   0.   0.   0.   0.\n",
      "     0.  16.  93. 252. 253. 187.   0.   0.   0.   0.   0.   0.   0.   0.]\n",
      "  [  0.   0.   0.   0.   0.   0.   0.   0.   0.   0.   0.   0.   0.   0.\n",
      "     0.   0.   0. 249. 253. 249.  64.   0.   0.   0.   0.   0.   0.   0.]\n",
      "  [  0.   0.   0.   0.   0.   0.   0.   0.   0.   0.   0.   0.   0.   0.\n",
      "    46. 130. 183. 253. 253. 207.   2.   0.   0.   0.   0.   0.   0.   0.]\n",
      "  [  0.   0.   0.   0.   0.   0.   0.   0.   0.   0.   0.   0.  39. 148.\n",
      "   229. 253. 253. 253. 250. 182.   0.   0.   0.   0.   0.   0.   0.   0.]\n",
      "  [  0.   0.   0.   0.   0.   0.   0.   0.   0.   0.  24. 114. 221. 253.\n",
      "   253. 253. 253. 201.  78.   0.   0.   0.   0.   0.   0.   0.   0.   0.]\n",
      "  [  0.   0.   0.   0.   0.   0.   0.   0.  23.  66. 213. 253. 253. 253.\n",
      "   253. 198.  81.   2.   0.   0.   0.   0.   0.   0.   0.   0.   0.   0.]\n",
      "  [  0.   0.   0.   0.   0.   0.  18. 171. 219. 253. 253. 253. 253. 195.\n",
      "    80.   9.   0.   0.   0.   0.   0.   0.   0.   0.   0.   0.   0.   0.]\n",
      "  [  0.   0.   0.   0.  55. 172. 226. 253. 253. 253. 253. 244. 133.  11.\n",
      "     0.   0.   0.   0.   0.   0.   0.   0.   0.   0.   0.   0.   0.   0.]\n",
      "  [  0.   0.   0.   0. 136. 253. 253. 253. 212. 135. 132.  16.   0.   0.\n",
      "     0.   0.   0.   0.   0.   0.   0.   0.   0.   0.   0.   0.   0.   0.]\n",
      "  [  0.   0.   0.   0.   0.   0.   0.   0.   0.   0.   0.   0.   0.   0.\n",
      "     0.   0.   0.   0.   0.   0.   0.   0.   0.   0.   0.   0.   0.   0.]\n",
      "  [  0.   0.   0.   0.   0.   0.   0.   0.   0.   0.   0.   0.   0.   0.\n",
      "     0.   0.   0.   0.   0.   0.   0.   0.   0.   0.   0.   0.   0.   0.]\n",
      "  [  0.   0.   0.   0.   0.   0.   0.   0.   0.   0.   0.   0.   0.   0.\n",
      "     0.   0.   0.   0.   0.   0.   0.   0.   0.   0.   0.   0.   0.   0.]]]\n"
     ]
    },
    {
     "data": {
      "image/png": "[encoded data removed]",
      "text/plain": [
       "<Figure size 432x288 with 1 Axes>"
      ]
     },
     "metadata": {
      "needs_background": "light"
     },
     "output_type": "display_data"
    }
   ],
   "source": [
    "print(\"Target = \", mnist.target[0])\n",
    "print(\"Data in shape of (28,28) : \\n\",mnist.data[0].reshape(1,28,28))\n",
    "plt.imshow(mnist.data[0].reshape(28,28))\n",
    "plt.show()"
   ]
  },
  {
   "cell_type": "code",
   "execution_count": 6,
   "metadata": {
    "colab": {
     "base_uri": "https://localhost:8080/",
     "height": 417
    },
    "colab_type": "code",
    "id": "CBMer0yITJ1e",
    "outputId": "19e53de9-d8b1-43f6-e90a-d4ff381adfa5"
   },
   "outputs": [
    {
     "data": {
      "image/png": "[encoded data removed]",
      "text/plain": [
       "<Figure size 864x576 with 10 Axes>"
      ]
     },
     "metadata": {
      "needs_background": "light"
     },
     "output_type": "display_data"
    }
   ],
   "source": [
    "plt.figure(figsize=(12,8))\n",
    "for i in range(10):\n",
    "    idx = np.random.randint(len(mnist.data))\n",
    "    plt.subplot(2,5,i+1)\n",
    "    plt.imshow(mnist.data[idx].reshape(28,28))\n",
    "    plt.title(\"Target : {}\".format(mnist.target[idx]))\n",
    "plt.show()"
   ]
  },
  {
   "cell_type": "markdown",
   "metadata": {
    "colab_type": "text",
    "id": "UXgNNb4KTJ1q"
   },
   "source": [
    "## 2. K-Nearest Neighbors method (K-NN)"
   ]
  },
  {
   "cell_type": "markdown",
   "metadata": {
    "colab_type": "text",
    "id": "fa6DBd7kWvRF"
   },
   "source": [
    "### Shuffle data and take a small batch of 5000 samples"
   ]
  },
  {
   "cell_type": "code",
   "execution_count": 14,
   "metadata": {
    "colab": {
     "base_uri": "https://localhost:8080/",
     "height": 72
    },
    "colab_type": "code",
    "id": "kVCLT90dTJ1t",
    "outputId": "4c1894fd-4080-40fb-d136-3db1187ab02e"
   },
   "outputs": [
    {
     "name": "stdout",
     "output_type": "stream",
     "text": [
      "Shape of training images :  (5000, 28, 28)\n",
      "Shape of training data :  (5000, 784)\n",
      "Shape of label :  (5000,)\n"
     ]
    }
   ],
   "source": [
    "# shuffle & print shape \n",
    "# data is not normalize\n",
    "indexes = random.sample(range(70000),5000)\n",
    "images = mnist.data[indexes].reshape((-1,28,28))\n",
    "data = mnist.data[indexes]\n",
    "labels = mnist.target[indexes]\n",
    "print(\"Shape of training images : \", images.shape)\n",
    "print(\"Shape of training data : \", data.shape)\n",
    "print(\"Shape of label : \", labels.shape)"
   ]
  },
  {
   "cell_type": "markdown",
   "metadata": {
    "colab_type": "text",
    "id": "ZwokmVDOW6XB"
   },
   "source": [
    "### Split data"
   ]
  },
  {
   "cell_type": "code",
   "execution_count": 15,
   "metadata": {
    "colab": {
     "base_uri": "https://localhost:8080/",
     "height": 90
    },
    "colab_type": "code",
    "id": "oZgx5VyUTJ18",
    "outputId": "d82bec23-d0fe-40ef-f344-433a580f7e05"
   },
   "outputs": [
    {
     "name": "stdout",
     "output_type": "stream",
     "text": [
      "Training data shape :  (4000, 784)\n",
      "Training target shape :  (4000,)\n",
      "Testing data shape :  (1000, 784)\n",
      "Testing target shape :  (1000,)\n"
     ]
    }
   ],
   "source": [
    "X_train, X_test, y_train, y_test = train_test_split(data,labels,train_size =0.8)\n",
    "print(\"Training data shape : \", X_train.shape)\n",
    "print(\"Training target shape : \", y_train.shape)\n",
    "print(\"Testing data shape : \", X_test.shape)\n",
    "print(\"Testing target shape : \", y_test.shape)"
   ]
  },
  {
   "cell_type": "markdown",
   "metadata": {
    "colab_type": "text",
    "id": "hQIQwa3KW-kv"
   },
   "source": [
    "### Train k-NN classifier with k = 10"
   ]
  },
  {
   "cell_type": "code",
   "execution_count": 34,
   "metadata": {
    "colab": {
     "base_uri": "https://localhost:8080/",
     "height": 72
    },
    "colab_type": "code",
    "id": "GEU7ZL2VTJ2K",
    "outputId": "f801b908-0e8f-478b-85aa-a3655aaa6805"
   },
   "outputs": [
    {
     "name": "stdout",
     "output_type": "stream",
     "text": [
      "CPU times: user 195 ms, sys: 3.96 ms, total: 199 ms\n",
      "Wall time: 195 ms\n"
     ]
    },
    {
     "data": {
      "text/plain": [
       "KNeighborsClassifier(algorithm='auto', leaf_size=30, metric='minkowski',\n",
       "                     metric_params=None, n_jobs=None, n_neighbors=10, p=2,\n",
       "                     weights='uniform')"
      ]
     },
     "execution_count": 34,
     "metadata": {},
     "output_type": "execute_result"
    }
   ],
   "source": [
    "%%time\n",
    "n_neighbors = 10\n",
    "clf = KNNs(n_neighbors)\n",
    "clf.fit(X_train,y_train)"
   ]
  },
  {
   "cell_type": "markdown",
   "metadata": {
    "colab_type": "text",
    "id": "NJ6zFiCKXIBh"
   },
   "source": [
    "### Plot predictions..."
   ]
  },
  {
   "cell_type": "code",
   "execution_count": 19,
   "metadata": {
    "colab": {
     "base_uri": "https://localhost:8080/",
     "height": 417
    },
    "colab_type": "code",
    "id": "TB4G3V09TJ2l",
    "outputId": "5b5d6ef8-0c5e-446b-84ce-e6fa5245bc32"
   },
   "outputs": [
    {
     "data": {
      "image/png": "[encoded data removed]",
      "text/plain": [
       "<Figure size 864x576 with 10 Axes>"
      ]
     },
     "metadata": {
      "needs_background": "light"
     },
     "output_type": "display_data"
    },
    {
     "name": "stdout",
     "output_type": "stream",
     "text": [
      "CPU times: user 2.27 s, sys: 7.98 ms, total: 2.27 s\n",
      "Wall time: 2.27 s\n"
     ]
    }
   ],
   "source": [
    "%%time\n",
    "plt.figure(figsize=(12,8))\n",
    "for i in range(10):\n",
    "    idx = np.random.randint(len(X_test))\n",
    "    y_pred = clf.predict([X_test[idx]])\n",
    "    plt.subplot(2,5,i+1)\n",
    "    plt.imshow(X_test[idx].reshape(28,28))\n",
    "    plt.title(\"Prediction : {}\".format(y_pred[0]))\n",
    "plt.show()"
   ]
  },
  {
   "cell_type": "markdown",
   "metadata": {
    "colab_type": "text",
    "id": "yTp9KWn3YDhQ"
   },
   "source": [
    "### Compute manually score"
   ]
  },
  {
   "cell_type": "code",
   "execution_count": 28,
   "metadata": {
    "colab": {},
    "colab_type": "code",
    "id": "xeRss4lNTJ25"
   },
   "outputs": [],
   "source": [
    "def get_score(y_true,y_pred):\n",
    "    \"\"\"\n",
    "    This function computes the correct prediction / total prediction \n",
    "    \"\"\"\n",
    "    correct = 0\n",
    "    for i in range(len(y_true)):\n",
    "        if y_true[i] == y_pred[i]:\n",
    "            correct += 1\n",
    "    print(\"Nb of true prediction : {}/{}\".format(correct,len(y_true)))\n",
    "    return correct / len(y_true)"
   ]
  },
  {
   "cell_type": "code",
   "execution_count": 29,
   "metadata": {
    "colab": {
     "base_uri": "https://localhost:8080/",
     "height": 54
    },
    "colab_type": "code",
    "id": "BkHPz6q3Yfde",
    "outputId": "5e4675da-f035-407a-868e-2d2a4995bc62"
   },
   "outputs": [
    {
     "name": "stdout",
     "output_type": "stream",
     "text": [
      "Nb of true prediction : 928/1000\n",
      "Score =  0.928\n"
     ]
    }
   ],
   "source": [
    "y_pred = clf.predict(X_test)\n",
    "score  = get_score(y_test,y_pred)\n",
    "print(\"Score = \",score)"
   ]
  },
  {
   "cell_type": "markdown",
   "metadata": {},
   "source": [
    "### Verify again with clf.score..."
   ]
  },
  {
   "cell_type": "code",
   "execution_count": 27,
   "metadata": {},
   "outputs": [
    {
     "data": {
      "text/plain": [
       "0.928"
      ]
     },
     "execution_count": 27,
     "metadata": {},
     "output_type": "execute_result"
    }
   ],
   "source": [
    "clf.score(X_test,y_test)"
   ]
  },
  {
   "cell_type": "markdown",
   "metadata": {
    "colab_type": "text",
    "id": "3-9Rvkw-Ypmv"
   },
   "source": [
    "### Classification report "
   ]
  },
  {
   "cell_type": "code",
   "execution_count": 30,
   "metadata": {
    "colab": {
     "base_uri": "https://localhost:8080/",
     "height": 329
    },
    "colab_type": "code",
    "id": "iwbtywm-TJ3G",
    "outputId": "f0649f8a-c50b-4ede-f47c-496e45bafa34"
   },
   "outputs": [
    {
     "name": "stdout",
     "output_type": "stream",
     "text": [
      "              precision    recall  f1-score   support\n",
      "\n",
      "           0       0.97      0.98      0.97        97\n",
      "           1       0.83      0.98      0.90       121\n",
      "           2       1.00      0.89      0.94        90\n",
      "           3       0.91      0.95      0.93       116\n",
      "           4       0.92      0.89      0.91        97\n",
      "           5       0.96      0.90      0.93        82\n",
      "           6       0.98      0.98      0.98       105\n",
      "           7       0.92      0.92      0.92       104\n",
      "           8       1.00      0.85      0.92        98\n",
      "           9       0.86      0.91      0.89        90\n",
      "\n",
      "    accuracy                           0.93      1000\n",
      "   macro avg       0.94      0.93      0.93      1000\n",
      "weighted avg       0.93      0.93      0.93      1000\n",
      "\n"
     ]
    }
   ],
   "source": [
    "print(classification_report(y_test,y_pred))"
   ]
  },
  {
   "cell_type": "markdown",
   "metadata": {
    "colab_type": "text",
    "id": "YcjZxMlKYvb1"
   },
   "source": [
    "### Confusion matrix"
   ]
  },
  {
   "cell_type": "code",
   "execution_count": 31,
   "metadata": {
    "colab": {},
    "colab_type": "code",
    "id": "G2u3I3BZTJ3P"
   },
   "outputs": [],
   "source": [
    "def plot_confusion_matrix(cm, classes,\n",
    "                          normalize=False,\n",
    "                          title='Confusion matrix',\n",
    "                          cmap=plt.cm.Blues):\n",
    "\n",
    "    \"\"\"\n",
    "    This function plots the confusion matrix of classfier\n",
    "    \"\"\"\n",
    "    if normalize:\n",
    "        cm = cm.astype('float') / cm.sum(axis=1)[:, np.newaxis]\n",
    "        print(\"Normalized confusion matrix\")\n",
    "    else:\n",
    "        print('Confusion matrix, without normalization')\n",
    "\n",
    "    plt.imshow(cm, interpolation='nearest', cmap=cmap)\n",
    "    plt.title(title)\n",
    "    plt.colorbar()\n",
    "    tick_marks = np.arange(len(classes))\n",
    "    plt.xticks(tick_marks, classes, rotation=45)\n",
    "    plt.yticks(tick_marks, classes)\n",
    "\n",
    "    fmt = '.2f' if normalize else 'd'\n",
    "    thresh = cm.max() / 2.\n",
    "    for i, j in itertools.product(range(cm.shape[0]), range(cm.shape[1])):\n",
    "        plt.text(j, i, format(cm[i, j], fmt),\n",
    "                 horizontalalignment=\"center\",\n",
    "                 color=\"white\" if cm[i, j] > thresh else \"black\")\n",
    "\n",
    "    plt.tight_layout()\n",
    "    plt.ylabel('True label')\n",
    "    plt.xlabel('Predicted label')"
   ]
  },
  {
   "cell_type": "code",
   "execution_count": 32,
   "metadata": {
    "colab": {
     "base_uri": "https://localhost:8080/",
     "height": 617
    },
    "colab_type": "code",
    "id": "h6mUySUHTJ3X",
    "outputId": "ea761d31-22fe-4640-f425-f1970b9a6f96"
   },
   "outputs": [
    {
     "name": "stdout",
     "output_type": "stream",
     "text": [
      "Normalized confusion matrix\n"
     ]
    },
    {
     "data": {
      "image/png": "[encoded data removed]",
      "text/plain": [
       "<Figure size 864x576 with 2 Axes>"
      ]
     },
     "metadata": {
      "needs_background": "light"
     },
     "output_type": "display_data"
    }
   ],
   "source": [
    "cm = confusion_matrix(y_test, y_pred)\n",
    "np.set_printoptions(precision=2)\n",
    "plt.figure(figsize=(12,8))\n",
    "plot_confusion_matrix(cm, classes=target_list, normalize=True,\n",
    "                      title='Normalized confusion matrix')\n",
    "\n",
    "plt.show()"
   ]
  },
  {
   "cell_type": "markdown",
   "metadata": {
    "colab_type": "text",
    "id": "svIjB6WaZNiN"
   },
   "source": [
    "## 3. Parameter tuning for k-NN"
   ]
  },
  {
   "cell_type": "markdown",
   "metadata": {
    "colab_type": "text",
    "id": "cyIX5h_cZXUS"
   },
   "source": [
    "### 3.1. Number of voisins"
   ]
  },
  {
   "cell_type": "code",
   "execution_count": 38,
   "metadata": {
    "colab": {
     "base_uri": "https://localhost:8080/",
     "height": 1000
    },
    "colab_type": "code",
    "id": "jfqcVLYkTJ3m",
    "outputId": "7860f5a9-cf60-409e-c220-2f9c584fec7e",
    "scrolled": false
   },
   "outputs": [
    {
     "name": "stdout",
     "output_type": "stream",
     "text": [
      "==== Case n_neighbors : 2 =====\n",
      "Fitting model...\n",
      "Predicting...\n",
      "Nb of true prediction : 917/1000\n",
      "==== Case n_neighbors : 3 =====\n",
      "Fitting model...\n",
      "Predicting...\n",
      "Nb of true prediction : 922/1000\n",
      "==== Case n_neighbors : 4 =====\n",
      "Fitting model...\n",
      "Predicting...\n",
      "Nb of true prediction : 920/1000\n",
      "==== Case n_neighbors : 5 =====\n",
      "Fitting model...\n",
      "Predicting...\n",
      "Nb of true prediction : 923/1000\n",
      "==== Case n_neighbors : 6 =====\n",
      "Fitting model...\n",
      "Predicting...\n",
      "Nb of true prediction : 927/1000\n",
      "==== Case n_neighbors : 7 =====\n",
      "Fitting model...\n",
      "Predicting...\n",
      "Nb of true prediction : 922/1000\n",
      "==== Case n_neighbors : 8 =====\n",
      "Fitting model...\n",
      "Predicting...\n",
      "Nb of true prediction : 923/1000\n",
      "==== Case n_neighbors : 9 =====\n",
      "Fitting model...\n",
      "Predicting...\n",
      "Nb of true prediction : 925/1000\n",
      "==== Case n_neighbors : 10 =====\n",
      "Fitting model...\n",
      "Predicting...\n",
      "Nb of true prediction : 920/1000\n",
      "==== Case n_neighbors : 11 =====\n",
      "Fitting model...\n",
      "Predicting...\n",
      "Nb of true prediction : 923/1000\n",
      "==== Case n_neighbors : 12 =====\n",
      "Fitting model...\n",
      "Predicting...\n",
      "Nb of true prediction : 921/1000\n",
      "==== Case n_neighbors : 13 =====\n",
      "Fitting model...\n",
      "Predicting...\n",
      "Nb of true prediction : 923/1000\n",
      "==== Case n_neighbors : 14 =====\n",
      "Fitting model...\n",
      "Predicting...\n",
      "Nb of true prediction : 924/1000\n",
      "==== Case n_neighbors : 15 =====\n",
      "Fitting model...\n",
      "Predicting...\n",
      "Nb of true prediction : 922/1000\n"
     ]
    }
   ],
   "source": [
    "scores = []\n",
    "for n_neighbors in range(2,16):\n",
    "    print(\"==== Case n_neighbors : {} =====\".format(n_neighbors))\n",
    "    clf = KNNs(n_neighbors)\n",
    "    print(\"Fitting model...\")\n",
    "    clf.fit(X_train,y_train)\n",
    "    print(\"Predicting...\")\n",
    "    y_pred = clf.predict(X_test)\n",
    "    score = get_score(y_test,y_pred)\n",
    "    scores.append(score)"
   ]
  },
  {
   "cell_type": "code",
   "execution_count": 44,
   "metadata": {
    "colab": {
     "base_uri": "https://localhost:8080/",
     "height": 296
    },
    "colab_type": "code",
    "id": "8Wl5TwH9Z6vE",
    "outputId": "62dc6aa6-dd87-4dca-fab2-46503fdbfd2d"
   },
   "outputs": [
    {
     "data": {
      "image/png": "[encoded data removed]",
      "text/plain": [
       "<Figure size 432x288 with 1 Axes>"
      ]
     },
     "metadata": {
      "tags": []
     },
     "output_type": "display_data"
    }
   ],
   "source": [
    "fig, ax = plt.subplots()\n",
    "n_neighbors = np.arange(2,16,1)\n",
    "ax.plot(n_neighbors, np.array(scores))\n",
    "\n",
    "ax.set(xlabel='n_neighbors', ylabel='precision_score',\n",
    "       title='Score / nb of neighbors in KNN algo')\n",
    "ax.grid()\n",
    "# fig.savefig(\"score-per-neighbors.png\")\n",
    "plt.show()"
   ]
  },
  {
   "cell_type": "markdown",
   "metadata": {
    "colab_type": "text",
    "id": "YGcmYOdHbCyN"
   },
   "source": [
    "#### 2.K-Fold\n"
   ]
  },
  {
   "cell_type": "code",
   "execution_count": 46,
   "metadata": {
    "colab": {
     "base_uri": "https://localhost:8080/",
     "height": 35
    },
    "colab_type": "code",
    "id": "yZsAs6oZTJ3t",
    "outputId": "333d192c-78bc-4883-ac9b-3415f24da4e1"
   },
   "outputs": [
    {
     "name": "stdout",
     "output_type": "stream",
     "text": [
      "KFold(n_splits=10, random_state=None, shuffle=True)\n"
     ]
    }
   ],
   "source": [
    "from sklearn.model_selection import KFold\n",
    "kf = KFold(n_splits=10,shuffle=True)\n",
    "print(kf)"
   ]
  },
  {
   "cell_type": "code",
   "execution_count": 0,
   "metadata": {
    "colab": {},
    "colab_type": "code",
    "id": "O3H93qYwTJ39"
   },
   "outputs": [],
   "source": [
    "# id_fold = 1\n",
    "# for train_index, test_index in kf.split(data):\n",
    "# #     print(\"TRAIN:\", train_index, \"TEST:\", test_index)\n",
    "#     print(\"==========Fold num {}============\".format(id_fold))\n",
    "#     id_fold += 1\n",
    "#     X_train, X_test = data[train_index], data[test_index]\n",
    "#     y_train, y_test = labels[train_index], labels[test_index]\n",
    "#     clf = KNNs(n_neighbors)\n",
    "#     print(\"Fitting model...\")\n",
    "#     clf.fit(X_train,y_train)\n",
    "#     print(\"Predicting...\")\n",
    "#     y_pred = clf.predict(X_test)\n",
    "#     correct = 0\n",
    "#     for i in range(len(y_test)):\n",
    "#         if y_test[i] == y_pred[i]:\n",
    "#             correct += 1\n",
    "#     print(\"Nb of true prediction : {}/{}\".format(correct,len(y_test)))    "
   ]
  },
  {
   "cell_type": "code",
   "execution_count": 53,
   "metadata": {
    "colab": {
     "base_uri": "https://localhost:8080/",
     "height": 1000
    },
    "colab_type": "code",
    "id": "abxNltRsTJ4J",
    "outputId": "1b97b65d-9bd9-4b81-ab15-9223025c95a2",
    "scrolled": true
   },
   "outputs": [
    {
     "name": "stdout",
     "output_type": "stream",
     "text": [
      "==========Fold num 0============\n",
      "      ==== Case n_neighbors : 2 =====\n",
      "      Fitting model...\n",
      "      Predicting...\n",
      "Nb of true prediction : 463/500\n",
      "      ==== Case n_neighbors : 3 =====\n",
      "      Fitting model...\n",
      "      Predicting...\n",
      "Nb of true prediction : 468/500\n",
      "      ==== Case n_neighbors : 4 =====\n",
      "      Fitting model...\n",
      "      Predicting...\n",
      "Nb of true prediction : 468/500\n",
      "      ==== Case n_neighbors : 5 =====\n",
      "      Fitting model...\n",
      "      Predicting...\n",
      "Nb of true prediction : 461/500\n",
      "      ==== Case n_neighbors : 6 =====\n",
      "      Fitting model...\n",
      "      Predicting...\n",
      "Nb of true prediction : 466/500\n",
      "      ==== Case n_neighbors : 7 =====\n",
      "      Fitting model...\n",
      "      Predicting...\n",
      "Nb of true prediction : 462/500\n",
      "      ==== Case n_neighbors : 8 =====\n",
      "      Fitting model...\n",
      "      Predicting...\n",
      "Nb of true prediction : 461/500\n",
      "      ==== Case n_neighbors : 9 =====\n",
      "      Fitting model...\n",
      "      Predicting...\n",
      "Nb of true prediction : 460/500\n",
      "      ==== Case n_neighbors : 10 =====\n",
      "      Fitting model...\n",
      "      Predicting...\n",
      "Nb of true prediction : 460/500\n",
      "      ==== Case n_neighbors : 11 =====\n",
      "      Fitting model...\n",
      "      Predicting...\n",
      "Nb of true prediction : 459/500\n",
      "      ==== Case n_neighbors : 12 =====\n",
      "      Fitting model...\n",
      "      Predicting...\n",
      "Nb of true prediction : 461/500\n",
      "      ==== Case n_neighbors : 13 =====\n",
      "      Fitting model...\n",
      "      Predicting...\n",
      "Nb of true prediction : 463/500\n",
      "      ==== Case n_neighbors : 14 =====\n",
      "      Fitting model...\n",
      "      Predicting...\n",
      "Nb of true prediction : 461/500\n",
      "      ==== Case n_neighbors : 15 =====\n",
      "      Fitting model...\n",
      "      Predicting...\n",
      "Nb of true prediction : 462/500\n",
      "================= Fin ======================\n",
      "\n",
      "==========Fold num 1============\n",
      "      ==== Case n_neighbors : 2 =====\n",
      "      Fitting model...\n",
      "      Predicting...\n",
      "Nb of true prediction : 453/500\n",
      "      ==== Case n_neighbors : 3 =====\n",
      "      Fitting model...\n",
      "      Predicting...\n",
      "Nb of true prediction : 460/500\n",
      "      ==== Case n_neighbors : 4 =====\n",
      "      Fitting model...\n",
      "      Predicting...\n",
      "Nb of true prediction : 459/500\n",
      "      ==== Case n_neighbors : 5 =====\n",
      "      Fitting model...\n",
      "      Predicting...\n",
      "Nb of true prediction : 463/500\n",
      "      ==== Case n_neighbors : 6 =====\n",
      "      Fitting model...\n",
      "      Predicting...\n",
      "Nb of true prediction : 464/500\n",
      "      ==== Case n_neighbors : 7 =====\n",
      "      Fitting model...\n",
      "      Predicting...\n",
      "Nb of true prediction : 464/500\n",
      "      ==== Case n_neighbors : 8 =====\n",
      "      Fitting model...\n",
      "      Predicting...\n",
      "Nb of true prediction : 459/500\n",
      "      ==== Case n_neighbors : 9 =====\n",
      "      Fitting model...\n",
      "      Predicting...\n",
      "Nb of true prediction : 457/500\n",
      "      ==== Case n_neighbors : 10 =====\n",
      "      Fitting model...\n",
      "      Predicting...\n",
      "Nb of true prediction : 456/500\n",
      "      ==== Case n_neighbors : 11 =====\n",
      "      Fitting model...\n",
      "      Predicting...\n",
      "Nb of true prediction : 456/500\n",
      "      ==== Case n_neighbors : 12 =====\n",
      "      Fitting model...\n",
      "      Predicting...\n",
      "Nb of true prediction : 456/500\n",
      "      ==== Case n_neighbors : 13 =====\n",
      "      Fitting model...\n",
      "      Predicting...\n",
      "Nb of true prediction : 459/500\n",
      "      ==== Case n_neighbors : 14 =====\n",
      "      Fitting model...\n",
      "      Predicting...\n",
      "Nb of true prediction : 457/500\n",
      "      ==== Case n_neighbors : 15 =====\n",
      "      Fitting model...\n",
      "      Predicting...\n",
      "Nb of true prediction : 456/500\n",
      "================= Fin ======================\n",
      "\n",
      "==========Fold num 2============\n",
      "      ==== Case n_neighbors : 2 =====\n",
      "      Fitting model...\n",
      "      Predicting...\n",
      "Nb of true prediction : 475/500\n",
      "      ==== Case n_neighbors : 3 =====\n",
      "      Fitting model...\n",
      "      Predicting...\n",
      "Nb of true prediction : 472/500\n",
      "      ==== Case n_neighbors : 4 =====\n",
      "      Fitting model...\n",
      "      Predicting...\n",
      "Nb of true prediction : 471/500\n",
      "      ==== Case n_neighbors : 5 =====\n",
      "      Fitting model...\n",
      "      Predicting...\n",
      "Nb of true prediction : 468/500\n",
      "      ==== Case n_neighbors : 6 =====\n",
      "      Fitting model...\n",
      "      Predicting...\n",
      "Nb of true prediction : 470/500\n",
      "      ==== Case n_neighbors : 7 =====\n",
      "      Fitting model...\n",
      "      Predicting...\n",
      "Nb of true prediction : 467/500\n",
      "      ==== Case n_neighbors : 8 =====\n",
      "      Fitting model...\n",
      "      Predicting...\n",
      "Nb of true prediction : 469/500\n",
      "      ==== Case n_neighbors : 9 =====\n",
      "      Fitting model...\n",
      "      Predicting...\n",
      "Nb of true prediction : 465/500\n",
      "      ==== Case n_neighbors : 10 =====\n",
      "      Fitting model...\n",
      "      Predicting...\n",
      "Nb of true prediction : 460/500\n",
      "      ==== Case n_neighbors : 11 =====\n",
      "      Fitting model...\n",
      "      Predicting...\n",
      "Nb of true prediction : 458/500\n",
      "      ==== Case n_neighbors : 12 =====\n",
      "      Fitting model...\n",
      "      Predicting...\n",
      "Nb of true prediction : 459/500\n",
      "      ==== Case n_neighbors : 13 =====\n",
      "      Fitting model...\n",
      "      Predicting...\n",
      "Nb of true prediction : 459/500\n",
      "      ==== Case n_neighbors : 14 =====\n",
      "      Fitting model...\n",
      "      Predicting...\n",
      "Nb of true prediction : 458/500\n",
      "      ==== Case n_neighbors : 15 =====\n",
      "      Fitting model...\n",
      "      Predicting...\n",
      "Nb of true prediction : 460/500\n",
      "================= Fin ======================\n",
      "\n",
      "==========Fold num 3============\n",
      "      ==== Case n_neighbors : 2 =====\n",
      "      Fitting model...\n",
      "      Predicting...\n",
      "Nb of true prediction : 470/500\n",
      "      ==== Case n_neighbors : 3 =====\n",
      "      Fitting model...\n",
      "      Predicting...\n",
      "Nb of true prediction : 474/500\n",
      "      ==== Case n_neighbors : 4 =====\n",
      "      Fitting model...\n",
      "      Predicting...\n",
      "Nb of true prediction : 476/500\n",
      "      ==== Case n_neighbors : 5 =====\n",
      "      Fitting model...\n",
      "      Predicting...\n",
      "Nb of true prediction : 474/500\n",
      "      ==== Case n_neighbors : 6 =====\n",
      "      Fitting model...\n",
      "      Predicting...\n",
      "Nb of true prediction : 474/500\n",
      "      ==== Case n_neighbors : 7 =====\n",
      "      Fitting model...\n",
      "      Predicting...\n",
      "Nb of true prediction : 474/500\n",
      "      ==== Case n_neighbors : 8 =====\n",
      "      Fitting model...\n",
      "      Predicting...\n",
      "Nb of true prediction : 476/500\n",
      "      ==== Case n_neighbors : 9 =====\n",
      "      Fitting model...\n",
      "      Predicting...\n",
      "Nb of true prediction : 475/500\n",
      "      ==== Case n_neighbors : 10 =====\n",
      "      Fitting model...\n",
      "      Predicting...\n",
      "Nb of true prediction : 472/500\n",
      "      ==== Case n_neighbors : 11 =====\n",
      "      Fitting model...\n",
      "      Predicting...\n",
      "Nb of true prediction : 476/500\n",
      "      ==== Case n_neighbors : 12 =====\n",
      "      Fitting model...\n",
      "      Predicting...\n",
      "Nb of true prediction : 474/500\n",
      "      ==== Case n_neighbors : 13 =====\n",
      "      Fitting model...\n",
      "      Predicting...\n",
      "Nb of true prediction : 474/500\n",
      "      ==== Case n_neighbors : 14 =====\n",
      "      Fitting model...\n",
      "      Predicting...\n",
      "Nb of true prediction : 475/500\n",
      "      ==== Case n_neighbors : 15 =====\n",
      "      Fitting model...\n",
      "      Predicting...\n",
      "Nb of true prediction : 474/500\n",
      "================= Fin ======================\n",
      "\n",
      "==========Fold num 4============\n",
      "      ==== Case n_neighbors : 2 =====\n",
      "      Fitting model...\n",
      "      Predicting...\n",
      "Nb of true prediction : 450/500\n",
      "      ==== Case n_neighbors : 3 =====\n",
      "      Fitting model...\n",
      "      Predicting...\n",
      "Nb of true prediction : 458/500\n",
      "      ==== Case n_neighbors : 4 =====\n",
      "      Fitting model...\n",
      "      Predicting...\n",
      "Nb of true prediction : 459/500\n",
      "      ==== Case n_neighbors : 5 =====\n",
      "      Fitting model...\n",
      "      Predicting...\n",
      "Nb of true prediction : 462/500\n",
      "      ==== Case n_neighbors : 6 =====\n",
      "      Fitting model...\n",
      "      Predicting...\n",
      "Nb of true prediction : 461/500\n",
      "      ==== Case n_neighbors : 7 =====\n",
      "      Fitting model...\n",
      "      Predicting...\n",
      "Nb of true prediction : 458/500\n",
      "      ==== Case n_neighbors : 8 =====\n",
      "      Fitting model...\n",
      "      Predicting...\n",
      "Nb of true prediction : 464/500\n",
      "      ==== Case n_neighbors : 9 =====\n",
      "      Fitting model...\n",
      "      Predicting...\n",
      "Nb of true prediction : 456/500\n",
      "      ==== Case n_neighbors : 10 =====\n",
      "      Fitting model...\n",
      "      Predicting...\n",
      "Nb of true prediction : 453/500\n",
      "      ==== Case n_neighbors : 11 =====\n",
      "      Fitting model...\n",
      "      Predicting...\n",
      "Nb of true prediction : 455/500\n",
      "      ==== Case n_neighbors : 12 =====\n",
      "      Fitting model...\n",
      "      Predicting...\n",
      "Nb of true prediction : 456/500\n",
      "      ==== Case n_neighbors : 13 =====\n",
      "      Fitting model...\n",
      "      Predicting...\n",
      "Nb of true prediction : 454/500\n",
      "      ==== Case n_neighbors : 14 =====\n",
      "      Fitting model...\n",
      "      Predicting...\n",
      "Nb of true prediction : 457/500\n",
      "      ==== Case n_neighbors : 15 =====\n",
      "      Fitting model...\n",
      "      Predicting...\n",
      "Nb of true prediction : 457/500\n",
      "================= Fin ======================\n",
      "\n",
      "==========Fold num 5============\n",
      "      ==== Case n_neighbors : 2 =====\n",
      "      Fitting model...\n",
      "      Predicting...\n",
      "Nb of true prediction : 445/500\n",
      "      ==== Case n_neighbors : 3 =====\n",
      "      Fitting model...\n",
      "      Predicting...\n",
      "Nb of true prediction : 454/500\n",
      "      ==== Case n_neighbors : 4 =====\n",
      "      Fitting model...\n",
      "      Predicting...\n",
      "Nb of true prediction : 453/500\n",
      "      ==== Case n_neighbors : 5 =====\n",
      "      Fitting model...\n",
      "      Predicting...\n",
      "Nb of true prediction : 461/500\n",
      "      ==== Case n_neighbors : 6 =====\n",
      "      Fitting model...\n",
      "      Predicting...\n",
      "Nb of true prediction : 456/500\n",
      "      ==== Case n_neighbors : 7 =====\n",
      "      Fitting model...\n",
      "      Predicting...\n",
      "Nb of true prediction : 457/500\n",
      "      ==== Case n_neighbors : 8 =====\n",
      "      Fitting model...\n",
      "      Predicting...\n",
      "Nb of true prediction : 455/500\n",
      "      ==== Case n_neighbors : 9 =====\n",
      "      Fitting model...\n",
      "      Predicting...\n",
      "Nb of true prediction : 455/500\n",
      "      ==== Case n_neighbors : 10 =====\n",
      "      Fitting model...\n",
      "      Predicting...\n",
      "Nb of true prediction : 451/500\n",
      "      ==== Case n_neighbors : 11 =====\n",
      "      Fitting model...\n",
      "      Predicting...\n",
      "Nb of true prediction : 452/500\n",
      "      ==== Case n_neighbors : 12 =====\n",
      "      Fitting model...\n",
      "      Predicting...\n",
      "Nb of true prediction : 450/500\n",
      "      ==== Case n_neighbors : 13 =====\n",
      "      Fitting model...\n",
      "      Predicting...\n",
      "Nb of true prediction : 451/500\n",
      "      ==== Case n_neighbors : 14 =====\n",
      "      Fitting model...\n",
      "      Predicting...\n",
      "Nb of true prediction : 448/500\n",
      "      ==== Case n_neighbors : 15 =====\n",
      "      Fitting model...\n",
      "      Predicting...\n",
      "Nb of true prediction : 449/500\n",
      "================= Fin ======================\n",
      "\n",
      "==========Fold num 6============\n",
      "      ==== Case n_neighbors : 2 =====\n",
      "      Fitting model...\n",
      "      Predicting...\n",
      "Nb of true prediction : 461/500\n",
      "      ==== Case n_neighbors : 3 =====\n",
      "      Fitting model...\n",
      "      Predicting...\n",
      "Nb of true prediction : 466/500\n",
      "      ==== Case n_neighbors : 4 =====\n",
      "      Fitting model...\n",
      "      Predicting...\n",
      "Nb of true prediction : 462/500\n",
      "      ==== Case n_neighbors : 5 =====\n",
      "      Fitting model...\n",
      "      Predicting...\n",
      "Nb of true prediction : 463/500\n",
      "      ==== Case n_neighbors : 6 =====\n",
      "      Fitting model...\n",
      "      Predicting...\n",
      "Nb of true prediction : 467/500\n",
      "      ==== Case n_neighbors : 7 =====\n",
      "      Fitting model...\n",
      "      Predicting...\n",
      "Nb of true prediction : 462/500\n",
      "      ==== Case n_neighbors : 8 =====\n",
      "      Fitting model...\n",
      "      Predicting...\n",
      "Nb of true prediction : 462/500\n",
      "      ==== Case n_neighbors : 9 =====\n",
      "      Fitting model...\n",
      "      Predicting...\n",
      "Nb of true prediction : 458/500\n",
      "      ==== Case n_neighbors : 10 =====\n",
      "      Fitting model...\n",
      "      Predicting...\n",
      "Nb of true prediction : 459/500\n",
      "      ==== Case n_neighbors : 11 =====\n",
      "      Fitting model...\n",
      "      Predicting...\n",
      "Nb of true prediction : 463/500\n",
      "      ==== Case n_neighbors : 12 =====\n",
      "      Fitting model...\n",
      "      Predicting...\n",
      "Nb of true prediction : 458/500\n",
      "      ==== Case n_neighbors : 13 =====\n",
      "      Fitting model...\n",
      "      Predicting...\n",
      "Nb of true prediction : 458/500\n",
      "      ==== Case n_neighbors : 14 =====\n",
      "      Fitting model...\n",
      "      Predicting...\n",
      "Nb of true prediction : 458/500\n",
      "      ==== Case n_neighbors : 15 =====\n",
      "      Fitting model...\n",
      "      Predicting...\n",
      "Nb of true prediction : 458/500\n",
      "================= Fin ======================\n",
      "\n",
      "==========Fold num 7============\n",
      "      ==== Case n_neighbors : 2 =====\n",
      "      Fitting model...\n",
      "      Predicting...\n",
      "Nb of true prediction : 462/500\n",
      "      ==== Case n_neighbors : 3 =====\n",
      "      Fitting model...\n",
      "      Predicting...\n",
      "Nb of true prediction : 470/500\n",
      "      ==== Case n_neighbors : 4 =====\n",
      "      Fitting model...\n",
      "      Predicting...\n",
      "Nb of true prediction : 469/500\n",
      "      ==== Case n_neighbors : 5 =====\n",
      "      Fitting model...\n",
      "      Predicting...\n",
      "Nb of true prediction : 473/500\n",
      "      ==== Case n_neighbors : 6 =====\n",
      "      Fitting model...\n",
      "      Predicting...\n",
      "Nb of true prediction : 469/500\n",
      "      ==== Case n_neighbors : 7 =====\n",
      "      Fitting model...\n",
      "      Predicting...\n",
      "Nb of true prediction : 467/500\n",
      "      ==== Case n_neighbors : 8 =====\n",
      "      Fitting model...\n",
      "      Predicting...\n",
      "Nb of true prediction : 465/500\n",
      "      ==== Case n_neighbors : 9 =====\n",
      "      Fitting model...\n",
      "      Predicting...\n",
      "Nb of true prediction : 469/500\n",
      "      ==== Case n_neighbors : 10 =====\n",
      "      Fitting model...\n",
      "      Predicting...\n",
      "Nb of true prediction : 467/500\n",
      "      ==== Case n_neighbors : 11 =====\n",
      "      Fitting model...\n",
      "      Predicting...\n",
      "Nb of true prediction : 466/500\n",
      "      ==== Case n_neighbors : 12 =====\n",
      "      Fitting model...\n",
      "      Predicting...\n",
      "Nb of true prediction : 467/500\n",
      "      ==== Case n_neighbors : 13 =====\n",
      "      Fitting model...\n",
      "      Predicting...\n",
      "Nb of true prediction : 467/500\n",
      "      ==== Case n_neighbors : 14 =====\n",
      "      Fitting model...\n",
      "      Predicting...\n",
      "Nb of true prediction : 470/500\n",
      "      ==== Case n_neighbors : 15 =====\n",
      "      Fitting model...\n",
      "      Predicting...\n",
      "Nb of true prediction : 468/500\n",
      "================= Fin ======================\n",
      "\n",
      "==========Fold num 8============\n",
      "      ==== Case n_neighbors : 2 =====\n",
      "      Fitting model...\n",
      "      Predicting...\n",
      "Nb of true prediction : 458/500\n",
      "      ==== Case n_neighbors : 3 =====\n",
      "      Fitting model...\n",
      "      Predicting...\n",
      "Nb of true prediction : 459/500\n",
      "      ==== Case n_neighbors : 4 =====\n",
      "      Fitting model...\n",
      "      Predicting...\n",
      "Nb of true prediction : 463/500\n",
      "      ==== Case n_neighbors : 5 =====\n",
      "      Fitting model...\n",
      "      Predicting...\n",
      "Nb of true prediction : 460/500\n",
      "      ==== Case n_neighbors : 6 =====\n",
      "      Fitting model...\n",
      "      Predicting...\n",
      "Nb of true prediction : 461/500\n",
      "      ==== Case n_neighbors : 7 =====\n",
      "      Fitting model...\n",
      "      Predicting...\n",
      "Nb of true prediction : 464/500\n",
      "      ==== Case n_neighbors : 8 =====\n",
      "      Fitting model...\n",
      "      Predicting...\n",
      "Nb of true prediction : 465/500\n",
      "      ==== Case n_neighbors : 9 =====\n",
      "      Fitting model...\n",
      "      Predicting...\n",
      "Nb of true prediction : 461/500\n",
      "      ==== Case n_neighbors : 10 =====\n",
      "      Fitting model...\n",
      "      Predicting...\n",
      "Nb of true prediction : 462/500\n",
      "      ==== Case n_neighbors : 11 =====\n",
      "      Fitting model...\n",
      "      Predicting...\n",
      "Nb of true prediction : 462/500\n",
      "      ==== Case n_neighbors : 12 =====\n",
      "      Fitting model...\n",
      "      Predicting...\n",
      "Nb of true prediction : 458/500\n",
      "      ==== Case n_neighbors : 13 =====\n",
      "      Fitting model...\n",
      "      Predicting...\n",
      "Nb of true prediction : 458/500\n",
      "      ==== Case n_neighbors : 14 =====\n",
      "      Fitting model...\n",
      "      Predicting...\n",
      "Nb of true prediction : 458/500\n",
      "      ==== Case n_neighbors : 15 =====\n",
      "      Fitting model...\n",
      "      Predicting...\n",
      "Nb of true prediction : 457/500\n",
      "================= Fin ======================\n",
      "\n",
      "==========Fold num 9============\n",
      "      ==== Case n_neighbors : 2 =====\n",
      "      Fitting model...\n",
      "      Predicting...\n",
      "Nb of true prediction : 461/500\n",
      "      ==== Case n_neighbors : 3 =====\n",
      "      Fitting model...\n",
      "      Predicting...\n",
      "Nb of true prediction : 468/500\n",
      "      ==== Case n_neighbors : 4 =====\n",
      "      Fitting model...\n",
      "      Predicting...\n",
      "Nb of true prediction : 464/500\n",
      "      ==== Case n_neighbors : 5 =====\n",
      "      Fitting model...\n",
      "      Predicting...\n",
      "Nb of true prediction : 464/500\n",
      "      ==== Case n_neighbors : 6 =====\n",
      "      Fitting model...\n",
      "      Predicting...\n",
      "Nb of true prediction : 464/500\n",
      "      ==== Case n_neighbors : 7 =====\n",
      "      Fitting model...\n",
      "      Predicting...\n",
      "Nb of true prediction : 462/500\n",
      "      ==== Case n_neighbors : 8 =====\n",
      "      Fitting model...\n",
      "      Predicting...\n",
      "Nb of true prediction : 459/500\n",
      "      ==== Case n_neighbors : 9 =====\n",
      "      Fitting model...\n",
      "      Predicting...\n",
      "Nb of true prediction : 459/500\n",
      "      ==== Case n_neighbors : 10 =====\n",
      "      Fitting model...\n",
      "      Predicting...\n",
      "Nb of true prediction : 460/500\n",
      "      ==== Case n_neighbors : 11 =====\n",
      "      Fitting model...\n",
      "      Predicting...\n",
      "Nb of true prediction : 459/500\n",
      "      ==== Case n_neighbors : 12 =====\n",
      "      Fitting model...\n",
      "      Predicting...\n",
      "Nb of true prediction : 458/500\n",
      "      ==== Case n_neighbors : 13 =====\n",
      "      Fitting model...\n",
      "      Predicting...\n",
      "Nb of true prediction : 456/500\n",
      "      ==== Case n_neighbors : 14 =====\n",
      "      Fitting model...\n",
      "      Predicting...\n",
      "Nb of true prediction : 458/500\n",
      "      ==== Case n_neighbors : 15 =====\n",
      "      Fitting model...\n",
      "      Predicting...\n",
      "Nb of true prediction : 458/500\n",
      "================= Fin ======================\n",
      "\n"
     ]
    }
   ],
   "source": [
    "id_fold = 0\n",
    "scores = np.zeros((10,14))\n",
    "for train_index, test_index in kf.split(data):\n",
    "#     print(\"TRAIN:\", train_index, \"TEST:\", test_index)\n",
    "    print(\"==========Fold num {}============\".format(id_fold))\n",
    "    X_train, X_test = data[train_index], data[test_index]\n",
    "    y_train, y_test = labels[train_index], labels[test_index]\n",
    "    for n_neighbors in range(2,16):\n",
    "        print(\"      ==== Case n_neighbors : {} =====\".format(n_neighbors))\n",
    "        clf = KNNs(n_neighbors)\n",
    "        print(\"      Fitting model...\")\n",
    "        clf.fit(X_train,y_train)\n",
    "        print(\"      Predicting...\")\n",
    "        y_pred = clf.predict(X_test)\n",
    "        score = get_score(y_test,y_pred)\n",
    "        scores[id_fold,n_neighbors-2] = score\n",
    "        \n",
    "    id_fold += 1\n",
    "    print(\"================= Fin ======================\\n\")"
   ]
  },
  {
   "cell_type": "code",
   "execution_count": 56,
   "metadata": {
    "colab": {
     "base_uri": "https://localhost:8080/",
     "height": 35
    },
    "colab_type": "code",
    "id": "-RboakD2fgpc",
    "outputId": "0276ec6a-a207-45c5-839c-c4dae697cedf"
   },
   "outputs": [
    {
     "data": {
      "text/plain": [
       "(10, 14)"
      ]
     },
     "execution_count": 56,
     "metadata": {
      "tags": []
     },
     "output_type": "execute_result"
    }
   ],
   "source": [
    "scores.shape"
   ]
  },
  {
   "cell_type": "code",
   "execution_count": 61,
   "metadata": {
    "colab": {
     "base_uri": "https://localhost:8080/",
     "height": 265
    },
    "colab_type": "code",
    "id": "lg8YjqQTcNz9",
    "outputId": "913396e6-122b-474e-ca48-7e85d666874d"
   },
   "outputs": [
    {
     "data": {
      "image/png": "[encoded data removed]",
      "text/plain": [
       "<Figure size 432x288 with 1 Axes>"
      ]
     },
     "metadata": {
      "tags": []
     },
     "output_type": "display_data"
    }
   ],
   "source": [
    "fig, ax = plt.subplots()\n",
    "n_neighbors = np.arange(2,16,1)\n",
    "for n in range(10):\n",
    "    plt.plot(n_neighbors, scores[n,:], label=\"Fold numero n=%d\"%(n,))\n",
    "\n",
    "leg = plt.legend(loc='best', ncol=2, mode=\"expand\", shadow=True, fancybox=True)\n",
    "leg.get_frame().set_alpha(0.5)\n",
    "\n",
    "plt.show()"
   ]
  },
  {
   "cell_type": "markdown",
   "metadata": {
    "colab_type": "text",
    "id": "9IuZt1bMdsMT"
   },
   "source": [
    "#### 3.Pourcentage des échantillons"
   ]
  },
  {
   "cell_type": "code",
   "execution_count": 64,
   "metadata": {
    "colab": {
     "base_uri": "https://localhost:8080/",
     "height": 201
    },
    "colab_type": "code",
    "id": "qHustDziTJ4S",
    "outputId": "176cd097-ea05-48c3-e1f9-bb97e75fca0a"
   },
   "outputs": [
    {
     "name": "stdout",
     "output_type": "stream",
     "text": [
      "0.5\n",
      "0.55\n",
      "0.6\n",
      "0.65\n",
      "0.7\n",
      "0.75\n",
      "0.8\n",
      "0.8500000000000001\n",
      "0.9\n",
      "0.95\n"
     ]
    }
   ],
   "source": [
    "def get_rate(x):\n",
    "    return 0.5 + int(x) * 0.05\n",
    "for i in range(10):\n",
    "    print(get_rate(i))"
   ]
  },
  {
   "cell_type": "code",
   "execution_count": 65,
   "metadata": {
    "colab": {
     "base_uri": "https://localhost:8080/",
     "height": 1000
    },
    "colab_type": "code",
    "id": "NA3tRNI1TJ4g",
    "outputId": "78eb5d52-7b05-4969-a975-c82ffbe8b824"
   },
   "outputs": [
    {
     "name": "stdout",
     "output_type": "stream",
     "text": [
      "===== Case split_rate = 0.5  =======\n",
      "Traning data shape :  (2500, 784) Traning target shape :  (2500,)\n",
      "Testing data shape :  (2500, 784) Testing target shape :  (2500,)\n",
      "Fitting model...\n",
      "Predicting...\n",
      "Nb of true prediction : 2281/2500\n",
      "=====================================\n",
      "\n",
      "===== Case split_rate = 0.55  =======\n",
      "Traning data shape :  (2750, 784) Traning target shape :  (2750,)\n",
      "Testing data shape :  (2250, 784) Testing target shape :  (2250,)\n",
      "Fitting model...\n",
      "Predicting...\n",
      "Nb of true prediction : 2060/2250\n",
      "=====================================\n",
      "\n",
      "===== Case split_rate = 0.6  =======\n",
      "Traning data shape :  (3000, 784) Traning target shape :  (3000,)\n",
      "Testing data shape :  (2000, 784) Testing target shape :  (2000,)\n",
      "Fitting model...\n",
      "Predicting...\n",
      "Nb of true prediction : 1805/2000\n",
      "=====================================\n",
      "\n",
      "===== Case split_rate = 0.65  =======\n",
      "Traning data shape :  (3250, 784) Traning target shape :  (3250,)\n",
      "Testing data shape :  (1750, 784) Testing target shape :  (1750,)\n",
      "Fitting model...\n",
      "Predicting...\n",
      "Nb of true prediction : 1607/1750\n",
      "=====================================\n",
      "\n",
      "===== Case split_rate = 0.7  =======\n",
      "Traning data shape :  (3500, 784) Traning target shape :  (3500,)\n",
      "Testing data shape :  (1500, 784) Testing target shape :  (1500,)\n",
      "Fitting model...\n",
      "Predicting...\n",
      "Nb of true prediction : 1384/1500\n",
      "=====================================\n",
      "\n",
      "===== Case split_rate = 0.75  =======\n",
      "Traning data shape :  (3750, 784) Traning target shape :  (3750,)\n",
      "Testing data shape :  (1250, 784) Testing target shape :  (1250,)\n",
      "Fitting model...\n",
      "Predicting...\n",
      "Nb of true prediction : 1146/1250\n",
      "=====================================\n",
      "\n",
      "===== Case split_rate = 0.8  =======\n",
      "Traning data shape :  (4000, 784) Traning target shape :  (4000,)\n",
      "Testing data shape :  (1000, 784) Testing target shape :  (1000,)\n",
      "Fitting model...\n",
      "Predicting...\n",
      "Nb of true prediction : 924/1000\n",
      "=====================================\n",
      "\n",
      "===== Case split_rate = 0.8500000000000001  =======\n",
      "Traning data shape :  (4250, 784) Traning target shape :  (4250,)\n",
      "Testing data shape :  (750, 784) Testing target shape :  (750,)\n",
      "Fitting model...\n",
      "Predicting...\n",
      "Nb of true prediction : 694/750\n",
      "=====================================\n",
      "\n",
      "===== Case split_rate = 0.9  =======\n",
      "Traning data shape :  (4500, 784) Traning target shape :  (4500,)\n",
      "Testing data shape :  (500, 784) Testing target shape :  (500,)\n",
      "Fitting model...\n",
      "Predicting...\n",
      "Nb of true prediction : 458/500\n",
      "=====================================\n",
      "\n",
      "===== Case split_rate = 0.95  =======\n",
      "Traning data shape :  (4750, 784) Traning target shape :  (4750,)\n",
      "Testing data shape :  (250, 784) Testing target shape :  (250,)\n",
      "Fitting model...\n",
      "Predicting...\n",
      "Nb of true prediction : 222/250\n",
      "=====================================\n",
      "\n"
     ]
    }
   ],
   "source": [
    "scores = []\n",
    "for i in range(10):\n",
    "    split_rate =  get_rate(i)\n",
    "    print(\"===== Case split_rate = {}  =======\".format(split_rate))\n",
    "    X_train, X_test, y_train, y_test = train_test_split(data,labels,train_size =split_rate)\n",
    "    print(\"Traning data shape : \", X_train.shape,\"Traning target shape : \", y_train.shape)\n",
    "    print(\"Testing data shape : \", X_test.shape,\"Testing target shape : \", y_test.shape)\n",
    "    n_neighbors = 10\n",
    "    clf = KNNs(n_neighbors)\n",
    "    print(\"Fitting model...\")\n",
    "    clf.fit(X_train,y_train)\n",
    "    print(\"Predicting...\")\n",
    "    y_pred = clf.predict(X_test)\n",
    "    score = get_score(y_test,y_pred)\n",
    "    scores.append(score)\n",
    "    print(\"=====================================\\n\")"
   ]
  },
  {
   "cell_type": "code",
   "execution_count": 67,
   "metadata": {
    "colab": {
     "base_uri": "https://localhost:8080/",
     "height": 296
    },
    "colab_type": "code",
    "id": "HpanUI57gj_v",
    "outputId": "5aa85ae6-ce53-421d-8ba2-829a519b631f"
   },
   "outputs": [
    {
     "data": {
      "image/png": "[encoded data removed]",
      "text/plain": [
       "<Figure size 432x288 with 1 Axes>"
      ]
     },
     "metadata": {
      "tags": []
     },
     "output_type": "display_data"
    }
   ],
   "source": [
    "fig, ax = plt.subplots()\n",
    "split_rate = [get_rate(i) for i in range(10)] \n",
    "ax.plot(np.array(split_rate), np.array(scores))\n",
    "\n",
    "ax.set(xlabel='split_rate', ylabel='precision_score',\n",
    "       title='Score / split_rate')\n",
    "ax.grid()\n",
    "# fig.savefig(\"score-per-neighbors.png\")\n",
    "plt.show()"
   ]
  },
  {
   "cell_type": "markdown",
   "metadata": {
    "colab_type": "text",
    "id": "mTRqfQQuhUzH"
   },
   "source": []
  },
  {
   "cell_type": "code",
   "execution_count": 68,
   "metadata": {
    "colab": {
     "base_uri": "https://localhost:8080/",
     "height": 182
    },
    "colab_type": "code",
    "id": "_P2PuKNfTJ4p",
    "outputId": "bc84ef3a-095f-48eb-bfb9-d66eccd7b1c9"
   },
   "outputs": [
    {
     "name": "stdout",
     "output_type": "stream",
     "text": [
      "Nb of true prediction : 887/1000\n",
      "Nb of true prediction : 912/1000\n",
      "Nb of true prediction : 922/1000\n",
      "Nb of true prediction : 924/1000\n",
      "Nb of true prediction : 926/1000\n",
      "Nb of true prediction : 929/1000\n",
      "Nb of true prediction : 929/1000\n",
      "Nb of true prediction : 931/1000\n",
      "Nb of true prediction : 931/1000\n"
     ]
    }
   ],
   "source": [
    "X_train, X_test, y_train, y_test = train_test_split(data,labels,train_size =0.8)\n",
    "scores = []\n",
    "for p in range(1,10):\n",
    "    clf = KNNs(n_neighbors=10,p=p,metric='minkowski')\n",
    "    clf.fit(X_train,y_train)\n",
    "    y_pred = clf.predict(X_test)\n",
    "    score = get_score(y_test,y_pred)\n",
    "    scores.append(score)"
   ]
  },
  {
   "cell_type": "code",
   "execution_count": 70,
   "metadata": {
    "colab": {
     "base_uri": "https://localhost:8080/",
     "height": 295
    },
    "colab_type": "code",
    "id": "Vpn8Tjc2hggM",
    "outputId": "86fac178-c067-4813-e703-cd69d791bffa"
   },
   "outputs": [
    {
     "data": {
      "image/png": "[encoded data removed]",
      "text/plain": [
       "<Figure size 432x288 with 1 Axes>"
      ]
     },
     "metadata": {
      "tags": []
     },
     "output_type": "display_data"
    }
   ],
   "source": [
    "fig, ax = plt.subplots()\n",
    "ax.plot(np.arange(1,10,1), np.array(scores))\n",
    "\n",
    "ax.set(xlabel='type de distances (p)', ylabel='precision_score',\n",
    "       title='Score / type de distances')\n",
    "ax.grid()\n",
    "# fig.savefig(\"score-per-neighbors.png\")\n",
    "plt.show()"
   ]
  },
  {
   "cell_type": "markdown",
   "metadata": {
    "colab_type": "text",
    "id": "Mri4dhJbkgYE"
   },
   "source": [
    "#### 4.Tester n_jobs in KNN algo"
   ]
  },
  {
   "cell_type": "code",
   "execution_count": 73,
   "metadata": {
    "colab": {
     "base_uri": "https://localhost:8080/",
     "height": 182
    },
    "colab_type": "code",
    "id": "mDkow5OYTJ4y",
    "outputId": "45a00f50-8423-4392-9bb3-367a98a00cae"
   },
   "outputs": [
    {
     "name": "stdout",
     "output_type": "stream",
     "text": [
      "Traning data shape :  (4000, 784) Traning target shape :  (4000,)\n",
      "Testing data shape :  (1000, 784) Testing target shape :  (1000,)\n",
      "Fitting model...\n",
      "Training time :  0.11102581024169922\n",
      "Predicting...\n",
      "Predicting time:  6.197011947631836\n",
      "Nb of true prediction : 925/1000\n",
      "Score :  0.925\n",
      "Total execution time :  6.309671401977539\n"
     ]
    }
   ],
   "source": [
    "## Case n_jobs = 1\n",
    "import time\n",
    "X_train, X_test, y_train, y_test = train_test_split(data,labels,train_size =0.8)\n",
    "print(\"Traning data shape : \", X_train.shape,\"Traning target shape : \", y_train.shape)\n",
    "print(\"Testing data shape : \", X_test.shape,\"Testing target shape : \", y_test.shape)\n",
    "n_neighbors = 10\n",
    "clf = KNNs(n_neighbors,n_jobs = 1)\n",
    "start = time.time()\n",
    "print(\"Fitting model...\")\n",
    "clf.fit(X_train,y_train)\n",
    "end_train = time.time()\n",
    "print(\"Training time : \",end_train-start)\n",
    "print(\"Predicting...\")\n",
    "y_pred = clf.predict(X_test)\n",
    "end_pred = time.time()\n",
    "print(\"Predicting time: \",end_pred-end_train)\n",
    "score = get_score(y_test,y_pred)\n",
    "print(\"Score : \",score)\n",
    "print(\"Total execution time : \",time.time()-start)"
   ]
  },
  {
   "cell_type": "code",
   "execution_count": 74,
   "metadata": {
    "colab": {
     "base_uri": "https://localhost:8080/",
     "height": 182
    },
    "colab_type": "code",
    "id": "oOTI0PKalfej",
    "outputId": "bbe771cb-bbb0-4d04-bff9-a4b2ce187b9f"
   },
   "outputs": [
    {
     "name": "stdout",
     "output_type": "stream",
     "text": [
      "Traning data shape :  (4000, 784) Traning target shape :  (4000,)\n",
      "Testing data shape :  (1000, 784) Testing target shape :  (1000,)\n",
      "Fitting model...\n",
      "Training time :  0.11366963386535645\n",
      "Predicting...\n",
      "Predicting time:  4.9464216232299805\n",
      "Nb of true prediction : 920/1000\n",
      "Score :  0.92\n",
      "Total execution time :  5.06197714805603\n"
     ]
    }
   ],
   "source": [
    "## Case n_jobs = -1\n",
    "import time\n",
    "X_train, X_test, y_train, y_test = train_test_split(data,labels,train_size =0.8)\n",
    "print(\"Traning data shape : \", X_train.shape,\"Traning target shape : \", y_train.shape)\n",
    "print(\"Testing data shape : \", X_test.shape,\"Testing target shape : \", y_test.shape)\n",
    "n_neighbors = 10\n",
    "clf = KNNs(n_neighbors,n_jobs = -1)\n",
    "start = time.time()\n",
    "print(\"Fitting model...\")\n",
    "clf.fit(X_train,y_train)\n",
    "end_train = time.time()\n",
    "print(\"Training time : \",end_train-start)\n",
    "print(\"Predicting...\")\n",
    "y_pred = clf.predict(X_test)\n",
    "end_pred = time.time()\n",
    "print(\"Predicting time: \",end_pred-end_train)\n",
    "score = get_score(y_test,y_pred)\n",
    "print(\"Score : \",score)\n",
    "print(\"Total execution time : \",time.time()-start)"
   ]
  },
  {
   "cell_type": "markdown",
   "metadata": {
    "colab_type": "text",
    "id": "e1UPrtGJlxK2"
   },
   "source": [
    "-----\n",
    "\n"
   ]
  },
  {
   "cell_type": "code",
   "execution_count": 0,
   "metadata": {
    "colab": {},
    "colab_type": "code",
    "id": "GE3cVRhfl2UE"
   },
   "outputs": [],
   "source": []
  }
 ],
 "metadata": {
  "accelerator": "GPU",
  "colab": {
   "collapsed_sections": [],
   "name": "TP1.ipynb",
   "provenance": [],
   "toc_visible": true
  },
  "kernelspec": {
   "display_name": "Python 3",
   "language": "python",
   "name": "python3"
  },
  "language_info": {
   "codemirror_mode": {
    "name": "ipython",
    "version": 3
   },
   "file_extension": ".py",
   "mimetype": "text/x-python",
   "name": "python",
   "nbconvert_exporter": "python",
   "pygments_lexer": "ipython3",
   "version": "3.6.8"
  }
 },
 "nbformat": 4,
 "nbformat_minor": 1
}
