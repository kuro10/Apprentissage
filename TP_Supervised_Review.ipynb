{
  "nbformat": 4,
  "nbformat_minor": 0,
  "metadata": {
    "colab": {
      "name": "TP_Supervised_Review.ipynb",
      "provenance": [],
      "toc_visible": true
    },
    "kernelspec": {
      "name": "python3",
      "display_name": "Python 3"
    },
    "accelerator": "GPU"
  },
  "cells": [
    {
      "cell_type": "markdown",
      "metadata": {
        "id": "4LVDPafBqhZ2",
        "colab_type": "text"
      },
      "source": [
        "# **TP Supervised Learning Review**"
      ]
    },
    {
      "cell_type": "code",
      "metadata": {
        "id": "UvUdUNsvqZsU",
        "colab_type": "code",
        "colab": {}
      },
      "source": [
        "# import library\n",
        "import numpy as np\n",
        "import matplotlib.pyplot as plt\n",
        "import time, random \n",
        "\n",
        "from sklearn.datasets import fetch_openml\n",
        "from sklearn.model_selection import train_test_split\n",
        "from sklearn.preprocessing import label_binarize\n",
        "\n",
        "from sklearn.neural_network import MLPClassifier\n",
        "from sklearn.neighbors import KNeighborsClassifier as KNNs\n",
        "from sklearn.svm import SVC, LinearSVC, NuSVC\n",
        "\n",
        "from sklearn.multiclass import OneVsRestClassifier\n",
        "from sklearn.metrics import precision_score, precision_recall_curve, average_precision_score\n",
        "from sklearn.metrics import classification_report\n",
        "from sklearn.metrics import roc_curve, zero_one_loss\n"
      ],
      "execution_count": 0,
      "outputs": []
    },
    {
      "cell_type": "markdown",
      "metadata": {
        "id": "vKywbW4And6g",
        "colab_type": "text"
      },
      "source": [
        "## **0. Load dataset**"
      ]
    },
    {
      "cell_type": "markdown",
      "metadata": {
        "id": "9ip_w-ZRZgef",
        "colab_type": "text"
      },
      "source": [
        "### Load MNIST dataset"
      ]
    },
    {
      "cell_type": "code",
      "metadata": {
        "id": "nx5AjMo5ZdyI",
        "colab_type": "code",
        "colab": {}
      },
      "source": [
        "# import data\n",
        "mnist = fetch_openml('mnist_784')"
      ],
      "execution_count": 0,
      "outputs": []
    },
    {
      "cell_type": "code",
      "metadata": {
        "id": "MNRCuPq1Zq9K",
        "colab_type": "code",
        "outputId": "a428ac76-0813-40fd-d120-7aafed22adfc",
        "colab": {
          "base_uri": "https://localhost:8080/",
          "height": 69
        }
      },
      "source": [
        "images = mnist.data.reshape((-1,28,28))\n",
        "data = mnist.data\n",
        "target = mnist.target\n",
        "print(\"Shape of training images : \", images.shape)\n",
        "print(\"Shape of training data : \", data.shape)\n",
        "print(\"Shape of target : \", target.shape)"
      ],
      "execution_count": 4,
      "outputs": [
        {
          "output_type": "stream",
          "text": [
            "Shape of training images :  (70000, 28, 28)\n",
            "Shape of training data :  (70000, 784)\n",
            "Shape of target :  (70000,)\n"
          ],
          "name": "stdout"
        }
      ]
    },
    {
      "cell_type": "code",
      "metadata": {
        "id": "oVu83g_Vf6W7",
        "colab_type": "code",
        "outputId": "22c9e1a4-20d7-462c-a7c6-966194e4fda1",
        "colab": {
          "base_uri": "https://localhost:8080/",
          "height": 34
        }
      },
      "source": [
        "target_list = np.unique(mnist.target)\n",
        "print(target_list)"
      ],
      "execution_count": 5,
      "outputs": [
        {
          "output_type": "stream",
          "text": [
            "['0' '1' '2' '3' '4' '5' '6' '7' '8' '9']\n"
          ],
          "name": "stdout"
        }
      ]
    },
    {
      "cell_type": "markdown",
      "metadata": {
        "id": "CstgHGJrZsK4",
        "colab_type": "text"
      },
      "source": [
        "### Split training & test set"
      ]
    },
    {
      "cell_type": "code",
      "metadata": {
        "id": "_CoCM3pWZrUJ",
        "colab_type": "code",
        "outputId": "d6f4a7b0-39b0-48d8-aa4a-036f150b21ca",
        "colab": {
          "base_uri": "https://localhost:8080/",
          "height": 86
        }
      },
      "source": [
        "X_train, X_test, y_train, y_test = train_test_split(data,target,train_size =0.8)\n",
        "\n",
        "X_train, y_train = X_train[:500], y_train[:500]\n",
        "X_test, y_test = X_test[:500], y_test[:500]\n",
        "\n",
        "print(\"Traning data shape : \", X_train.shape)\n",
        "print(\"Traning target shape : \", y_train.shape)\n",
        "print(\"Testing data shape : \", X_test.shape)\n",
        "print(\"Testing target shape : \", y_test.shape)"
      ],
      "execution_count": 6,
      "outputs": [
        {
          "output_type": "stream",
          "text": [
            "Traning data shape :  (500, 784)\n",
            "Traning target shape :  (500,)\n",
            "Testing data shape :  (500, 784)\n",
            "Testing target shape :  (500,)\n"
          ],
          "name": "stdout"
        }
      ]
    },
    {
      "cell_type": "markdown",
      "metadata": {
        "id": "Btxjm2xlrGOE",
        "colab_type": "text"
      },
      "source": [
        "## **1. Train with : KNN, MLP, SVM  and  Comparison**"
      ]
    },
    {
      "cell_type": "code",
      "metadata": {
        "id": "iLKaNAv-u-jV",
        "colab_type": "code",
        "colab": {}
      },
      "source": [
        "train_scores = []\n",
        "test_scores = []\n",
        "train_losses = []\n",
        "test_losses = []\n",
        "training_times = []"
      ],
      "execution_count": 0,
      "outputs": []
    },
    {
      "cell_type": "code",
      "metadata": {
        "id": "Sb8YP_h9rPDa",
        "colab_type": "code",
        "colab": {
          "base_uri": "https://localhost:8080/",
          "height": 86
        },
        "outputId": "fb3d66da-b7b7-45ae-eb94-63d625c09d42"
      },
      "source": [
        "%%time\n",
        "knn = KNNs(n_neighbors=3,p=3)\n",
        "start = time.clock()\n",
        "knn.fit(X_train,y_train)\n",
        "exec_time = time.clock() - start\n",
        "train_scores.append(knn.score(X_train,y_train))\n",
        "test_scores.append(knn.score(X_test,y_test))\n",
        "train_losses.append(zero_one_loss(y_train,knn.predict(X_train)))\n",
        "test_losses.append(zero_one_loss(y_test,knn.predict(X_test)))\n",
        "training_times.append(exec_time)\n",
        "print(\"Training accuracy : \",knn.score(X_train,y_train))\n",
        "print(\"Test accuracy : \",knn.score(X_test,y_test))"
      ],
      "execution_count": 20,
      "outputs": [
        {
          "output_type": "stream",
          "text": [
            "Training accuracy :  0.914\n",
            "Test accuracy :  0.86\n",
            "CPU times: user 31.6 s, sys: 6.07 ms, total: 31.6 s\n",
            "Wall time: 31.6 s\n"
          ],
          "name": "stdout"
        }
      ]
    },
    {
      "cell_type": "code",
      "metadata": {
        "id": "Q1_uiR6KrPim",
        "colab_type": "code",
        "colab": {
          "base_uri": "https://localhost:8080/",
          "height": 86
        },
        "outputId": "005b33d3-8ca4-4cab-cd22-d8e028dfee3a"
      },
      "source": [
        "%%time\n",
        "mlp = MLPClassifier(hidden_layer_sizes=(50,50,50),solver='adam',activation='relu',verbose=0)\n",
        "start = time.clock()\n",
        "mlp.fit(X_train,y_train)\n",
        "exec_time = time.clock() - start\n",
        "train_scores.append(mlp.score(X_train, y_train))\n",
        "test_scores.append(mlp.score(X_test,y_test))\n",
        "train_losses.append(zero_one_loss(y_train,mlp.predict(X_train)))\n",
        "test_losses.append(zero_one_loss(y_test,mlp.predict(X_test)))\n",
        "training_times.append(exec_time)\n",
        "print(\"Training accuracy : \",mlp.score(X_train,y_train))\n",
        "print(\"Test accuracy : \",mlp.score(X_test,y_test))"
      ],
      "execution_count": 21,
      "outputs": [
        {
          "output_type": "stream",
          "text": [
            "Training accuracy :  1.0\n",
            "Test accuracy :  0.616\n",
            "CPU times: user 1.18 s, sys: 551 ms, total: 1.74 s\n",
            "Wall time: 902 ms\n"
          ],
          "name": "stdout"
        }
      ]
    },
    {
      "cell_type": "code",
      "metadata": {
        "id": "4W-MZGvcwDyS",
        "colab_type": "code",
        "colab": {
          "base_uri": "https://localhost:8080/",
          "height": 141
        },
        "outputId": "2d643578-d087-42f1-846e-699fa322f1f6"
      },
      "source": [
        "%%time\n",
        "svc = SVC()\n",
        "start = time.clock()\n",
        "svc.fit(X_train,y_train)\n",
        "exec_time = time.clock() - start\n",
        "train_scores.append(svc.score(X_train,y_train))\n",
        "test_scores.append(svc.score(X_test,y_test))\n",
        "train_losses.append(zero_one_loss(y_train,svc.predict(X_train)))\n",
        "test_losses.append(zero_one_loss(y_test,svc.predict(X_test)))\n",
        "training_times.append(exec_time)\n",
        "print(\"Training accuracy : \",svc.score(X_train,y_train))\n",
        "print(\"Test accuracy : \",svc.score(X_test,y_test))"
      ],
      "execution_count": 22,
      "outputs": [
        {
          "output_type": "stream",
          "text": [
            "/usr/local/lib/python3.6/dist-packages/sklearn/svm/base.py:193: FutureWarning: The default value of gamma will change from 'auto' to 'scale' in version 0.22 to account better for unscaled features. Set gamma explicitly to 'auto' or 'scale' to avoid this warning.\n",
            "  \"avoid this warning.\", FutureWarning)\n"
          ],
          "name": "stderr"
        },
        {
          "output_type": "stream",
          "text": [
            "Training accuracy :  1.0\n",
            "Test accuracy :  0.106\n",
            "CPU times: user 2.03 s, sys: 76.9 ms, total: 2.11 s\n",
            "Wall time: 2.04 s\n"
          ],
          "name": "stdout"
        }
      ]
    },
    {
      "cell_type": "code",
      "metadata": {
        "id": "PyHYhd0ZwZR1",
        "colab_type": "code",
        "colab": {
          "base_uri": "https://localhost:8080/",
          "height": 503
        },
        "outputId": "528399b0-4930-4b93-d715-00c34bc4f68b"
      },
      "source": [
        "methods = ('knn', 'mlp', 'svm')\n",
        "y_pos = np.arange(len(methods))\n",
        "bar_width = 0.35\n",
        "opacity = 0.8\n",
        "\n",
        "plt.figure(figsize=(20,8))\n",
        "\n",
        "plt.subplot(131)\n",
        "plt.bar(y_pos,train_scores,bar_width,align='center',alpha=opacity,label='train_acc')\n",
        "plt.bar(y_pos+bar_width,test_scores,bar_width,align='center',alpha=opacity,label='test_acc')\n",
        "plt.xticks(y_pos,methods)\n",
        "plt.ylabel('Accuracy')\n",
        "plt.legend()\n",
        "\n",
        "plt.subplot(132)\n",
        "plt.bar(y_pos,train_losses,bar_width,align='center',alpha=opacity,label='train_error_rate')\n",
        "plt.bar(y_pos+bar_width,test_losses,bar_width,align='center',alpha=opacity,label='test_error_rate')\n",
        "plt.xticks(y_pos,methods)\n",
        "plt.ylabel('Error rate')\n",
        "plt.legend()\n",
        "\n",
        "plt.subplot(133)\n",
        "plt.bar(y_pos,training_times,bar_width,align='center',alpha=opacity,label='exec_time')\n",
        "plt.xticks(y_pos,methods)\n",
        "plt.ylabel('Execution time')\n",
        "plt.legend()\n",
        "\n",
        "plt.show()"
      ],
      "execution_count": 23,
      "outputs": [
        {
          "output_type": "display_data",
          "data": {
            "image/png": "[encoded data removed]",
            "text/plain": [
              "<Figure size 1440x576 with 3 Axes>"
            ]
          },
          "metadata": {
            "tags": []
          }
        }
      ]
    }
  ]
}