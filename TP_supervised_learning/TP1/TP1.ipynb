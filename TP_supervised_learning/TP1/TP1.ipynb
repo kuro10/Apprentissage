{
  "nbformat": 4,
  "nbformat_minor": 0,
  "metadata": {
    "accelerator": "GPU",
    "colab": {
      "name": "TP1.ipynb",
      "provenance": [],
      "collapsed_sections": [],
      "toc_visible": true
    },
    "kernelspec": {
      "name": "python3",
      "display_name": "Python 3"
    },
    "language_info": {
      "codemirror_mode": {
        "name": "ipython",
        "version": 3
      },
      "file_extension": ".py",
      "mimetype": "text/x-python",
      "name": "python",
      "nbconvert_exporter": "python",
      "pygments_lexer": "ipython3",
      "version": "3.6.8"
    }
  },
  "cells": [
    {
      "cell_type": "markdown",
      "metadata": {
        "colab_type": "text",
        "id": "CHp00raXVa7h"
      },
      "source": [
        "# **TP1 Supervised Learning with K Nearest Neighbors**\n",
        "----"
      ]
    },
    {
      "cell_type": "code",
      "metadata": {
        "colab_type": "code",
        "id": "fiPl61_eTJzS",
        "colab": {}
      },
      "source": [
        "# import library\n",
        "import numpy as np\n",
        "import matplotlib.pyplot as plt\n",
        "import random\n",
        "from sklearn.datasets import fetch_openml\n",
        "from sklearn.model_selection import train_test_split\n",
        "from sklearn.model_selection import KFold\n",
        "from sklearn.model_selection import cross_val_score\n",
        "from sklearn.model_selection import GridSearchCV\n",
        "from sklearn.neighbors import KNeighborsClassifier as KNNs\n",
        "from sklearn.metrics import classification_report\n",
        "from sklearn.metrics import confusion_matrix\n",
        "import itertools\n",
        "import time\n"
      ],
      "execution_count": 0,
      "outputs": []
    },
    {
      "cell_type": "markdown",
      "metadata": {
        "colab_type": "text",
        "id": "etHhJk6GVk5W"
      },
      "source": [
        "## **1. Dataset Exploration & Visualization**"
      ]
    },
    {
      "cell_type": "markdown",
      "metadata": {
        "colab_type": "text",
        "id": "UBybTHepWWB3"
      },
      "source": [
        "### Load MNIST dataset"
      ]
    },
    {
      "cell_type": "code",
      "metadata": {
        "colab_type": "code",
        "id": "hUPa_dGFTJ0C",
        "colab": {}
      },
      "source": [
        "# Load data\n",
        "mnist = fetch_openml('mnist_784') "
      ],
      "execution_count": 0,
      "outputs": []
    },
    {
      "cell_type": "code",
      "metadata": {
        "colab_type": "code",
        "id": "ezj2TyheTJ0c",
        "outputId": "f8a9bce5-2e8d-4c81-fd1d-c954baf9cb01",
        "colab": {
          "base_uri": "https://localhost:8080/",
          "height": 263
        }
      },
      "source": [
        "print(mnist.DESCR)"
      ],
      "execution_count": 0,
      "outputs": [
        {
          "output_type": "stream",
          "text": [
            "**Author**: Yann LeCun, Corinna Cortes, Christopher J.C. Burges  \n",
            "**Source**: [MNIST Website](http://yann.lecun.com/exdb/mnist/) - Date unknown  \n",
            "**Please cite**:  \n",
            "\n",
            "The MNIST database of handwritten digits with 784 features, raw data available at: http://yann.lecun.com/exdb/mnist/. It can be split in a training set of the first 60,000 examples, and a test set of 10,000 examples  \n",
            "\n",
            "It is a subset of a larger set available from NIST. The digits have been size-normalized and centered in a fixed-size image. It is a good database for people who want to try learning techniques and pattern recognition methods on real-world data while spending minimal efforts on preprocessing and formatting. The original black and white (bilevel) images from NIST were size normalized to fit in a 20x20 pixel box while preserving their aspect ratio. The resulting images contain grey levels as a result of the anti-aliasing technique used by the normalization algorithm. the images were centered in a 28x28 image by computing the center of mass of the pixels, and translating the image so as to position this point at the center of the 28x28 field.  \n",
            "\n",
            "With some classification methods (particularly template-based methods, such as SVM and K-nearest neighbors), the error rate improves when the digits are centered by bounding box rather than center of mass. If you do this kind of pre-processing, you should report it in your publications. The MNIST database was constructed from NIST's NIST originally designated SD-3 as their training set and SD-1 as their test set. However, SD-3 is much cleaner and easier to recognize than SD-1. The reason for this can be found on the fact that SD-3 was collected among Census Bureau employees, while SD-1 was collected among high-school students. Drawing sensible conclusions from learning experiments requires that the result be independent of the choice of training set and test among the complete set of samples. Therefore it was necessary to build a new database by mixing NIST's datasets.  \n",
            "\n",
            "The MNIST training set is composed of 30,000 patterns from SD-3 and 30,000 patterns from SD-1. Our test set was composed of 5,000 patterns from SD-3 and 5,000 patterns from SD-1. The 60,000 pattern training set contained examples from approximately 250 writers. We made sure that the sets of writers of the training set and test set were disjoint. SD-1 contains 58,527 digit images written by 500 different writers. In contrast to SD-3, where blocks of data from each writer appeared in sequence, the data in SD-1 is scrambled. Writer identities for SD-1 is available and we used this information to unscramble the writers. We then split SD-1 in two: characters written by the first 250 writers went into our new training set. The remaining 250 writers were placed in our test set. Thus we had two sets with nearly 30,000 examples each. The new training set was completed with enough examples from SD-3, starting at pattern # 0, to make a full set of 60,000 training patterns. Similarly, the new test set was completed with SD-3 examples starting at pattern # 35,000 to make a full set with 60,000 test patterns. Only a subset of 10,000 test images (5,000 from SD-1 and 5,000 from SD-3) is available on this site. The full 60,000 sample training set is available.\n",
            "\n",
            "Downloaded from openml.org.\n"
          ],
          "name": "stdout"
        }
      ]
    },
    {
      "cell_type": "code",
      "metadata": {
        "colab_type": "code",
        "id": "AklfKJmyTJ0_",
        "outputId": "ce03dd19-cf3d-4c7e-9078-c4af27f18bd0",
        "colab": {
          "base_uri": "https://localhost:8080/",
          "height": 52
        }
      },
      "source": [
        "print(\"Shape of data : \", mnist.data.shape)\n",
        "print(\"Shape of target : \",mnist.target.shape)"
      ],
      "execution_count": 0,
      "outputs": [
        {
          "output_type": "stream",
          "text": [
            "Shape of data :  (70000, 784)\n",
            "Shape of target :  (70000,)\n"
          ],
          "name": "stdout"
        }
      ]
    },
    {
      "cell_type": "code",
      "metadata": {
        "colab_type": "code",
        "id": "G3RLkoYJTJ1K",
        "outputId": "a463851f-f378-4213-bd6f-cd4704804a3d",
        "colab": {
          "base_uri": "https://localhost:8080/",
          "height": 34
        }
      },
      "source": [
        "target_list = np.unique(mnist.target)\n",
        "print(target_list)"
      ],
      "execution_count": 0,
      "outputs": [
        {
          "output_type": "stream",
          "text": [
            "['0' '1' '2' '3' '4' '5' '6' '7' '8' '9']\n"
          ],
          "name": "stdout"
        }
      ]
    },
    {
      "cell_type": "markdown",
      "metadata": {
        "colab_type": "text",
        "id": "ZTtO-5hOWbwQ"
      },
      "source": [
        "### Visualize dataset"
      ]
    },
    {
      "cell_type": "code",
      "metadata": {
        "id": "3IXElL9kAblz",
        "colab_type": "code",
        "outputId": "238cb834-bfa2-45e5-c3ea-edc8529718a2",
        "colab": {
          "base_uri": "https://localhost:8080/",
          "height": 1000
        }
      },
      "source": [
        "print(\"Target = \", mnist.target[0])\n",
        "print(\"Data in shape of (28,28) : \\n\",mnist.data[0].reshape(1,28,28))\n",
        "plt.imshow(mnist.data[0].reshape(28,28))\n",
        "plt.show()"
      ],
      "execution_count": 0,
      "outputs": [
        {
          "output_type": "stream",
          "text": [
            "Target =  5\n",
            "Data in shape of (28,28) : \n",
            " [[[  0.   0.   0.   0.   0.   0.   0.   0.   0.   0.   0.   0.   0.   0.\n",
            "     0.   0.   0.   0.   0.   0.   0.   0.   0.   0.   0.   0.   0.   0.]\n",
            "  [  0.   0.   0.   0.   0.   0.   0.   0.   0.   0.   0.   0.   0.   0.\n",
            "     0.   0.   0.   0.   0.   0.   0.   0.   0.   0.   0.   0.   0.   0.]\n",
            "  [  0.   0.   0.   0.   0.   0.   0.   0.   0.   0.   0.   0.   0.   0.\n",
            "     0.   0.   0.   0.   0.   0.   0.   0.   0.   0.   0.   0.   0.   0.]\n",
            "  [  0.   0.   0.   0.   0.   0.   0.   0.   0.   0.   0.   0.   0.   0.\n",
            "     0.   0.   0.   0.   0.   0.   0.   0.   0.   0.   0.   0.   0.   0.]\n",
            "  [  0.   0.   0.   0.   0.   0.   0.   0.   0.   0.   0.   0.   0.   0.\n",
            "     0.   0.   0.   0.   0.   0.   0.   0.   0.   0.   0.   0.   0.   0.]\n",
            "  [  0.   0.   0.   0.   0.   0.   0.   0.   0.   0.   0.   0.   3.  18.\n",
            "    18.  18. 126. 136. 175.  26. 166. 255. 247. 127.   0.   0.   0.   0.]\n",
            "  [  0.   0.   0.   0.   0.   0.   0.   0.  30.  36.  94. 154. 170. 253.\n",
            "   253. 253. 253. 253. 225. 172. 253. 242. 195.  64.   0.   0.   0.   0.]\n",
            "  [  0.   0.   0.   0.   0.   0.   0.  49. 238. 253. 253. 253. 253. 253.\n",
            "   253. 253. 253. 251.  93.  82.  82.  56.  39.   0.   0.   0.   0.   0.]\n",
            "  [  0.   0.   0.   0.   0.   0.   0.  18. 219. 253. 253. 253. 253. 253.\n",
            "   198. 182. 247. 241.   0.   0.   0.   0.   0.   0.   0.   0.   0.   0.]\n",
            "  [  0.   0.   0.   0.   0.   0.   0.   0.  80. 156. 107. 253. 253. 205.\n",
            "    11.   0.  43. 154.   0.   0.   0.   0.   0.   0.   0.   0.   0.   0.]\n",
            "  [  0.   0.   0.   0.   0.   0.   0.   0.   0.  14.   1. 154. 253.  90.\n",
            "     0.   0.   0.   0.   0.   0.   0.   0.   0.   0.   0.   0.   0.   0.]\n",
            "  [  0.   0.   0.   0.   0.   0.   0.   0.   0.   0.   0. 139. 253. 190.\n",
            "     2.   0.   0.   0.   0.   0.   0.   0.   0.   0.   0.   0.   0.   0.]\n",
            "  [  0.   0.   0.   0.   0.   0.   0.   0.   0.   0.   0.  11. 190. 253.\n",
            "    70.   0.   0.   0.   0.   0.   0.   0.   0.   0.   0.   0.   0.   0.]\n",
            "  [  0.   0.   0.   0.   0.   0.   0.   0.   0.   0.   0.   0.  35. 241.\n",
            "   225. 160. 108.   1.   0.   0.   0.   0.   0.   0.   0.   0.   0.   0.]\n",
            "  [  0.   0.   0.   0.   0.   0.   0.   0.   0.   0.   0.   0.   0.  81.\n",
            "   240. 253. 253. 119.  25.   0.   0.   0.   0.   0.   0.   0.   0.   0.]\n",
            "  [  0.   0.   0.   0.   0.   0.   0.   0.   0.   0.   0.   0.   0.   0.\n",
            "    45. 186. 253. 253. 150.  27.   0.   0.   0.   0.   0.   0.   0.   0.]\n",
            "  [  0.   0.   0.   0.   0.   0.   0.   0.   0.   0.   0.   0.   0.   0.\n",
            "     0.  16.  93. 252. 253. 187.   0.   0.   0.   0.   0.   0.   0.   0.]\n",
            "  [  0.   0.   0.   0.   0.   0.   0.   0.   0.   0.   0.   0.   0.   0.\n",
            "     0.   0.   0. 249. 253. 249.  64.   0.   0.   0.   0.   0.   0.   0.]\n",
            "  [  0.   0.   0.   0.   0.   0.   0.   0.   0.   0.   0.   0.   0.   0.\n",
            "    46. 130. 183. 253. 253. 207.   2.   0.   0.   0.   0.   0.   0.   0.]\n",
            "  [  0.   0.   0.   0.   0.   0.   0.   0.   0.   0.   0.   0.  39. 148.\n",
            "   229. 253. 253. 253. 250. 182.   0.   0.   0.   0.   0.   0.   0.   0.]\n",
            "  [  0.   0.   0.   0.   0.   0.   0.   0.   0.   0.  24. 114. 221. 253.\n",
            "   253. 253. 253. 201.  78.   0.   0.   0.   0.   0.   0.   0.   0.   0.]\n",
            "  [  0.   0.   0.   0.   0.   0.   0.   0.  23.  66. 213. 253. 253. 253.\n",
            "   253. 198.  81.   2.   0.   0.   0.   0.   0.   0.   0.   0.   0.   0.]\n",
            "  [  0.   0.   0.   0.   0.   0.  18. 171. 219. 253. 253. 253. 253. 195.\n",
            "    80.   9.   0.   0.   0.   0.   0.   0.   0.   0.   0.   0.   0.   0.]\n",
            "  [  0.   0.   0.   0.  55. 172. 226. 253. 253. 253. 253. 244. 133.  11.\n",
            "     0.   0.   0.   0.   0.   0.   0.   0.   0.   0.   0.   0.   0.   0.]\n",
            "  [  0.   0.   0.   0. 136. 253. 253. 253. 212. 135. 132.  16.   0.   0.\n",
            "     0.   0.   0.   0.   0.   0.   0.   0.   0.   0.   0.   0.   0.   0.]\n",
            "  [  0.   0.   0.   0.   0.   0.   0.   0.   0.   0.   0.   0.   0.   0.\n",
            "     0.   0.   0.   0.   0.   0.   0.   0.   0.   0.   0.   0.   0.   0.]\n",
            "  [  0.   0.   0.   0.   0.   0.   0.   0.   0.   0.   0.   0.   0.   0.\n",
            "     0.   0.   0.   0.   0.   0.   0.   0.   0.   0.   0.   0.   0.   0.]\n",
            "  [  0.   0.   0.   0.   0.   0.   0.   0.   0.   0.   0.   0.   0.   0.\n",
            "     0.   0.   0.   0.   0.   0.   0.   0.   0.   0.   0.   0.   0.   0.]]]\n"
          ],
          "name": "stdout"
        },
        {
          "output_type": "display_data",
          "data": {
            "image/png": "[encoded data removed]",
            "text/plain": [
              "<Figure size 432x288 with 1 Axes>"
            ]
          },
          "metadata": {
            "tags": []
          }
        }
      ]
    },
    {
      "cell_type": "code",
      "metadata": {
        "colab_type": "code",
        "id": "CBMer0yITJ1e",
        "outputId": "528b104a-f082-4eb6-d1bd-64e8225e7894",
        "colab": {
          "base_uri": "https://localhost:8080/",
          "height": 417
        }
      },
      "source": [
        "plt.figure(figsize=(12,8))\n",
        "for i in range(10):\n",
        "    idx = np.random.randint(len(mnist.data))\n",
        "    plt.subplot(2,5,i+1)\n",
        "    plt.imshow(mnist.data[idx].reshape(28,28))\n",
        "    plt.title(\"Target : {}\".format(mnist.target[idx]))\n",
        "plt.show()"
      ],
      "execution_count": 0,
      "outputs": [
        {
          "output_type": "display_data",
          "data": {
            "image/png": "[encoded data removed]",
            "text/plain": [
              "<Figure size 864x576 with 10 Axes>"
            ]
          },
          "metadata": {
            "tags": []
          }
        }
      ]
    },
    {
      "cell_type": "markdown",
      "metadata": {
        "colab_type": "text",
        "id": "UXgNNb4KTJ1q"
      },
      "source": [
        "## **2. K-Nearest Neighbors method (K-NN)**"
      ]
    },
    {
      "cell_type": "markdown",
      "metadata": {
        "colab_type": "text",
        "id": "fa6DBd7kWvRF"
      },
      "source": [
        "### Shuffle data and take a small batch of 5000 samples"
      ]
    },
    {
      "cell_type": "code",
      "metadata": {
        "colab_type": "code",
        "id": "kVCLT90dTJ1t",
        "outputId": "94af809b-dda0-4cbd-ee1f-6c976097b147",
        "colab": {
          "base_uri": "https://localhost:8080/",
          "height": 69
        }
      },
      "source": [
        "# shuffle & print shape \n",
        "# data is not normalize\n",
        "indexes = random.sample(range(70000),5000)\n",
        "images = mnist.data[indexes].reshape((-1,28,28))\n",
        "data = mnist.data[indexes]\n",
        "labels = mnist.target[indexes]\n",
        "print(\"Shape of training images : \", images.shape)\n",
        "print(\"Shape of training data : \", data.shape)\n",
        "print(\"Shape of label : \", labels.shape)"
      ],
      "execution_count": 0,
      "outputs": [
        {
          "output_type": "stream",
          "text": [
            "Shape of training images :  (5000, 28, 28)\n",
            "Shape of training data :  (5000, 784)\n",
            "Shape of label :  (5000,)\n"
          ],
          "name": "stdout"
        }
      ]
    },
    {
      "cell_type": "markdown",
      "metadata": {
        "colab_type": "text",
        "id": "ZwokmVDOW6XB"
      },
      "source": [
        "### Split data"
      ]
    },
    {
      "cell_type": "code",
      "metadata": {
        "colab_type": "code",
        "id": "oZgx5VyUTJ18",
        "outputId": "4c63d6dc-a2cd-416b-8859-d5ecc2e83416",
        "colab": {
          "base_uri": "https://localhost:8080/",
          "height": 86
        }
      },
      "source": [
        "X_train, X_test, y_train, y_test = train_test_split(data,labels,train_size =0.8)\n",
        "print(\"Training data shape : \", X_train.shape)\n",
        "print(\"Training target shape : \", y_train.shape)\n",
        "print(\"Testing data shape : \", X_test.shape)\n",
        "print(\"Testing target shape : \", y_test.shape)"
      ],
      "execution_count": 0,
      "outputs": [
        {
          "output_type": "stream",
          "text": [
            "Training data shape :  (4000, 784)\n",
            "Training target shape :  (4000,)\n",
            "Testing data shape :  (1000, 784)\n",
            "Testing target shape :  (1000,)\n"
          ],
          "name": "stdout"
        }
      ]
    },
    {
      "cell_type": "markdown",
      "metadata": {
        "colab_type": "text",
        "id": "hQIQwa3KW-kv"
      },
      "source": [
        "### Train k-NN classifier with k = 10"
      ]
    },
    {
      "cell_type": "code",
      "metadata": {
        "colab_type": "code",
        "id": "GEU7ZL2VTJ2K",
        "outputId": "1a2f9ee0-dc6a-4548-ce0a-3fb51760a7b1",
        "colab": {
          "base_uri": "https://localhost:8080/",
          "height": 52
        }
      },
      "source": [
        "%%time\n",
        "n_neighbors = 10\n",
        "clf = KNNs(n_neighbors)\n",
        "clf.fit(X_train,y_train)"
      ],
      "execution_count": 0,
      "outputs": [
        {
          "output_type": "stream",
          "text": [
            "CPU times: user 154 ms, sys: 1.02 ms, total: 155 ms\n",
            "Wall time: 155 ms\n"
          ],
          "name": "stdout"
        }
      ]
    },
    {
      "cell_type": "markdown",
      "metadata": {
        "colab_type": "text",
        "id": "NJ6zFiCKXIBh"
      },
      "source": [
        "### Plot predictions..."
      ]
    },
    {
      "cell_type": "code",
      "metadata": {
        "colab_type": "code",
        "id": "TB4G3V09TJ2l",
        "outputId": "0d52746d-d7d5-43d6-cdd7-d414697080f2",
        "colab": {
          "base_uri": "https://localhost:8080/",
          "height": 452
        }
      },
      "source": [
        "%%time\n",
        "plt.figure(figsize=(12,8))\n",
        "for i in range(10):\n",
        "    idx = np.random.randint(len(X_test))\n",
        "    y_pred = clf.predict([X_test[idx]])\n",
        "    plt.subplot(2,5,i+1)\n",
        "    plt.imshow(X_test[idx].reshape(28,28))\n",
        "    plt.title(\"Prediction : {}\".format(y_pred[0]))\n",
        "plt.show()"
      ],
      "execution_count": 0,
      "outputs": [
        {
          "output_type": "display_data",
          "data": {
            "image/png": "[encoded data removed]",
            "text/plain": [
              "<Figure size 864x576 with 10 Axes>"
            ]
          },
          "metadata": {
            "tags": []
          }
        },
        {
          "output_type": "stream",
          "text": [
            "CPU times: user 1.23 s, sys: 14 ms, total: 1.24 s\n",
            "Wall time: 1.25 s\n"
          ],
          "name": "stdout"
        }
      ]
    },
    {
      "cell_type": "markdown",
      "metadata": {
        "colab_type": "text",
        "id": "yTp9KWn3YDhQ"
      },
      "source": [
        "### Compute manually score"
      ]
    },
    {
      "cell_type": "code",
      "metadata": {
        "colab_type": "code",
        "id": "xeRss4lNTJ25",
        "colab": {}
      },
      "source": [
        "def get_score(y_true,y_pred):\n",
        "    \"\"\"\n",
        "    This function computes the correct prediction / total prediction \n",
        "    \"\"\"\n",
        "    correct = 0\n",
        "    for i in range(len(y_true)):\n",
        "        if y_true[i] == y_pred[i]:\n",
        "            correct += 1\n",
        "    print(\"Nb of true prediction : {}/{}\".format(correct,len(y_true)))\n",
        "    return correct / len(y_true)"
      ],
      "execution_count": 0,
      "outputs": []
    },
    {
      "cell_type": "code",
      "metadata": {
        "colab_type": "code",
        "id": "BkHPz6q3Yfde",
        "outputId": "039acfc2-9df9-4d56-f5cb-ae5430270a6d",
        "colab": {
          "base_uri": "https://localhost:8080/",
          "height": 52
        }
      },
      "source": [
        "y_pred = clf.predict(X_test)\n",
        "score  = get_score(y_test,y_pred)\n",
        "print(\"Score = \",score)"
      ],
      "execution_count": 0,
      "outputs": [
        {
          "output_type": "stream",
          "text": [
            "Nb of true prediction : 931/1000\n",
            "Score =  0.931\n"
          ],
          "name": "stdout"
        }
      ]
    },
    {
      "cell_type": "markdown",
      "metadata": {
        "id": "DTdZXZ6aAbny",
        "colab_type": "text"
      },
      "source": [
        "### Verify again with clf.score..."
      ]
    },
    {
      "cell_type": "code",
      "metadata": {
        "id": "LwaUf1k9Abn2",
        "colab_type": "code",
        "outputId": "9a7d98aa-3956-4bf7-8d4d-43e93cb753a8",
        "colab": {
          "base_uri": "https://localhost:8080/",
          "height": 34
        }
      },
      "source": [
        "clf.score(X_test,y_test)"
      ],
      "execution_count": 0,
      "outputs": [
        {
          "output_type": "execute_result",
          "data": {
            "text/plain": [
              "0.931"
            ]
          },
          "metadata": {
            "tags": []
          },
          "execution_count": 14
        }
      ]
    },
    {
      "cell_type": "markdown",
      "metadata": {
        "colab_type": "text",
        "id": "3-9Rvkw-Ypmv"
      },
      "source": [
        "### Classification report "
      ]
    },
    {
      "cell_type": "code",
      "metadata": {
        "colab_type": "code",
        "id": "iwbtywm-TJ3G",
        "outputId": "f146973b-479e-4cda-bc3f-55b4946807ef",
        "colab": {
          "base_uri": "https://localhost:8080/",
          "height": 312
        }
      },
      "source": [
        "print(classification_report(y_test,y_pred))"
      ],
      "execution_count": 0,
      "outputs": [
        {
          "output_type": "stream",
          "text": [
            "              precision    recall  f1-score   support\n",
            "\n",
            "           0       0.96      0.98      0.97       115\n",
            "           1       0.91      1.00      0.95       125\n",
            "           2       0.98      0.88      0.93        92\n",
            "           3       0.97      0.91      0.93       127\n",
            "           4       0.97      0.88      0.93        77\n",
            "           5       0.91      0.94      0.92        65\n",
            "           6       0.98      0.97      0.97       100\n",
            "           7       0.89      0.90      0.90        94\n",
            "           8       0.93      0.85      0.89        99\n",
            "           9       0.84      0.96      0.90       106\n",
            "\n",
            "    accuracy                           0.93      1000\n",
            "   macro avg       0.93      0.93      0.93      1000\n",
            "weighted avg       0.93      0.93      0.93      1000\n",
            "\n"
          ],
          "name": "stdout"
        }
      ]
    },
    {
      "cell_type": "markdown",
      "metadata": {
        "colab_type": "text",
        "id": "YcjZxMlKYvb1"
      },
      "source": [
        "### Confusion matrix"
      ]
    },
    {
      "cell_type": "code",
      "metadata": {
        "colab_type": "code",
        "id": "G2u3I3BZTJ3P",
        "colab": {}
      },
      "source": [
        "def plot_confusion_matrix(cm, classes,\n",
        "                          normalize=False,\n",
        "                          title='Confusion matrix',\n",
        "                          cmap=plt.cm.Blues):\n",
        "\n",
        "    \"\"\"\n",
        "    This function plots the confusion matrix of classfier\n",
        "    \"\"\"\n",
        "    if normalize:\n",
        "        cm = cm.astype('float') / cm.sum(axis=1)[:, np.newaxis]\n",
        "        print(\"Normalized confusion matrix\")\n",
        "    else:\n",
        "        print('Confusion matrix, without normalization')\n",
        "\n",
        "    plt.imshow(cm, interpolation='nearest', cmap=cmap)\n",
        "    plt.title(title)\n",
        "    plt.colorbar()\n",
        "    tick_marks = np.arange(len(classes))\n",
        "    plt.xticks(tick_marks, classes, rotation=45)\n",
        "    plt.yticks(tick_marks, classes)\n",
        "\n",
        "    fmt = '.2f' if normalize else 'd'\n",
        "    thresh = cm.max() / 2.\n",
        "    for i, j in itertools.product(range(cm.shape[0]), range(cm.shape[1])):\n",
        "        plt.text(j, i, format(cm[i, j], fmt),\n",
        "                 horizontalalignment=\"center\",\n",
        "                 color=\"white\" if cm[i, j] > thresh else \"black\")\n",
        "\n",
        "    plt.tight_layout()\n",
        "    plt.ylabel('True label')\n",
        "    plt.xlabel('Predicted label')"
      ],
      "execution_count": 0,
      "outputs": []
    },
    {
      "cell_type": "code",
      "metadata": {
        "colab_type": "code",
        "id": "h6mUySUHTJ3X",
        "outputId": "dbfd3eb0-7458-4094-aff8-eb8b15ca02e9",
        "colab": {
          "base_uri": "https://localhost:8080/",
          "height": 616
        }
      },
      "source": [
        "cm = confusion_matrix(y_test, y_pred)\n",
        "np.set_printoptions(precision=2)\n",
        "plt.figure(figsize=(12,8))\n",
        "plot_confusion_matrix(cm, classes=target_list, normalize=True,\n",
        "                      title='Normalized confusion matrix')\n",
        "\n",
        "plt.show()"
      ],
      "execution_count": 0,
      "outputs": [
        {
          "output_type": "stream",
          "text": [
            "Normalized confusion matrix\n"
          ],
          "name": "stdout"
        },
        {
          "output_type": "display_data",
          "data": {
            "image/png": "[encoded data removed]",
            "text/plain": [
              "<Figure size 864x576 with 2 Axes>"
            ]
          },
          "metadata": {
            "tags": []
          }
        }
      ]
    },
    {
      "cell_type": "markdown",
      "metadata": {
        "colab_type": "text",
        "id": "svIjB6WaZNiN"
      },
      "source": [
        "## **3. Hyperparameter tuning for k-NN**"
      ]
    },
    {
      "cell_type": "code",
      "metadata": {
        "id": "9ggNzudiswSK",
        "colab_type": "code",
        "colab": {}
      },
      "source": [
        "X_train, X_test, y_train, y_test = train_test_split(data,labels,train_size =0.8)"
      ],
      "execution_count": 0,
      "outputs": []
    },
    {
      "cell_type": "markdown",
      "metadata": {
        "colab_type": "text",
        "id": "cyIX5h_cZXUS"
      },
      "source": [
        "### ***3.1. Number of neighbors***"
      ]
    },
    {
      "cell_type": "code",
      "metadata": {
        "colab_type": "code",
        "id": "jfqcVLYkTJ3m",
        "outputId": "3ee9e5aa-dbc8-42ff-deef-69453f1604aa",
        "scrolled": false,
        "colab": {
          "base_uri": "https://localhost:8080/",
          "height": 557
        }
      },
      "source": [
        "%%timeit -n1 -r1\n",
        "\n",
        "training_accuracies = []\n",
        "test_accuracies = []\n",
        "neighbors_settings = np.arange(2,16,1)\n",
        "\n",
        "for n_neighbors in neighbors_settings :\n",
        "    print(\"n_neigbors = \",n_neighbors,\"...\")\n",
        "    clf = KNNs(n_neighbors)\n",
        "    clf.fit(X_train,y_train)\n",
        "    training_accuracies.append(clf.score(X_train,y_train))\n",
        "    test_accuracies.append(clf.score(X_test,y_test))\n",
        "  \n",
        "plt.plot(neighbors_settings, training_accuracies, label = \"training_accuracy\")\n",
        "plt.plot(neighbors_settings, test_accuracies, label = \"test_accuracy\")\n",
        "plt.ylabel(\"Accuracy\")\n",
        "plt.xlabel(\"n_neighbors\")\n",
        "plt.legend(loc='best')\n",
        "plt.title('Accuracy vs. nb of neighbors')\n",
        "plt.savefig('TP1-acc-vs-neighbors.png')"
      ],
      "execution_count": 0,
      "outputs": [
        {
          "output_type": "stream",
          "text": [
            "n_neigbors =  2 ...\n",
            "n_neigbors =  3 ...\n",
            "n_neigbors =  4 ...\n",
            "n_neigbors =  5 ...\n",
            "n_neigbors =  6 ...\n",
            "n_neigbors =  7 ...\n",
            "n_neigbors =  8 ...\n",
            "n_neigbors =  9 ...\n",
            "n_neigbors =  10 ...\n",
            "n_neigbors =  11 ...\n",
            "n_neigbors =  12 ...\n",
            "n_neigbors =  13 ...\n",
            "n_neigbors =  14 ...\n",
            "n_neigbors =  15 ...\n",
            "1 loop, best of 1: 6min 51s per loop\n"
          ],
          "name": "stdout"
        },
        {
          "output_type": "display_data",
          "data": {
            "image/png": "[encoded data removed]",
            "text/plain": [
              "<Figure size 432x288 with 1 Axes>"
            ]
          },
          "metadata": {
            "tags": []
          }
        }
      ]
    },
    {
      "cell_type": "markdown",
      "metadata": {
        "colab_type": "text",
        "id": "YGcmYOdHbCyN"
      },
      "source": [
        "### ***3.2. K-Fold***\n",
        "\n"
      ]
    },
    {
      "cell_type": "markdown",
      "metadata": {
        "id": "SrsT6d9BWycu",
        "colab_type": "text"
      },
      "source": [
        "**Use module sklearn.model_selection.cross_val_score**"
      ]
    },
    {
      "cell_type": "code",
      "metadata": {
        "id": "tKXYKXvZNtrE",
        "colab_type": "code",
        "outputId": "eff9bf5b-245d-4712-d4bc-1f74e7d0e5dd",
        "colab": {
          "base_uri": "https://localhost:8080/",
          "height": 295
        }
      },
      "source": [
        "%%time\n",
        "cross_validation_accuracies = []\n",
        "neighbors_settings = np.arange(2,16,1)\n",
        "\n",
        "for n_neighbors in neighbors_settings :\n",
        "    print(\"n_neigbors = \",n_neighbors,\"...\")\n",
        "    clf = KNNs(n_neighbors)\n",
        "    cv_scores = cross_val_score(clf,data,labels,cv=10,n_jobs=1)\n",
        "    cross_validation_accuracies.append(cv_scores)"
      ],
      "execution_count": 0,
      "outputs": [
        {
          "output_type": "stream",
          "text": [
            "n_neigbors =  2 ...\n",
            "n_neigbors =  3 ...\n",
            "n_neigbors =  4 ...\n",
            "n_neigbors =  5 ...\n",
            "n_neigbors =  6 ...\n",
            "n_neigbors =  7 ...\n",
            "n_neigbors =  8 ...\n",
            "n_neigbors =  9 ...\n",
            "n_neigbors =  10 ...\n",
            "n_neigbors =  11 ...\n",
            "n_neigbors =  12 ...\n",
            "n_neigbors =  13 ...\n",
            "n_neigbors =  14 ...\n",
            "n_neigbors =  15 ...\n",
            "CPU times: user 7min 40s, sys: 159 ms, total: 7min 40s\n",
            "Wall time: 7min 41s\n"
          ],
          "name": "stdout"
        }
      ]
    },
    {
      "cell_type": "code",
      "metadata": {
        "id": "x6CloXjITUW0",
        "colab_type": "code",
        "outputId": "e10834f8-97a0-476f-f70e-baf1ba6fc6ce",
        "colab": {
          "base_uri": "https://localhost:8080/",
          "height": 514
        }
      },
      "source": [
        "## PLOT\n",
        "plt.figure(figsize=(12,8))\n",
        "plt.boxplot(cross_validation_accuracies) \n",
        "plt.ylabel(\"cross_validation_accuracy\")\n",
        "plt.xlabel(\"n_neighbors\")\n",
        "# plt.legend()\n",
        "plt.title(\"Cross validation test over number of neighbors\")\n",
        "plt.savefig('TP1-cross-val-acc-vs-neighbors.png')"
      ],
      "execution_count": 0,
      "outputs": [
        {
          "output_type": "display_data",
          "data": {
            "image/png": "[encoded data removed]",
            "text/plain": [
              "<Figure size 864x576 with 1 Axes>"
            ]
          },
          "metadata": {
            "tags": []
          }
        }
      ]
    },
    {
      "cell_type": "markdown",
      "metadata": {
        "id": "8DNTrE1sW9w8",
        "colab_type": "text"
      },
      "source": [
        "**Use module sklearn.model_selection.KFold in order to compute scores**\n"
      ]
    },
    {
      "cell_type": "code",
      "metadata": {
        "colab_type": "code",
        "id": "abxNltRsTJ4J",
        "outputId": "cc9dc6ad-524c-44d3-ae01-62a06635e712",
        "scrolled": true,
        "colab": {
          "base_uri": "https://localhost:8080/",
          "height": 1000
        }
      },
      "source": [
        "%%time \n",
        "scores = []\n",
        "neighbors_settings = np.arange(2,16,1)\n",
        "\n",
        "for n_neighbors in neighbors_settings:\n",
        "    print(\"=========================\")\n",
        "    print(\"n_neigbors = \",n_neighbors,\"...\")\n",
        "    print(\"=========================\")\n",
        "    clf = KNNs(n_neighbors)\n",
        "    kf = KFold(n_splits=10,shuffle=True,random_state=n_neighbors)\n",
        "    print(kf)\n",
        "    id_fold = 0\n",
        "    k_fold_scores = []\n",
        "    for train_index, test_index in kf.split(data):\n",
        "        print(\"Fold num {}...training...\".format(id_fold))\n",
        "        X_train, X_test = data[train_index], data[test_index]\n",
        "        y_train, y_test = labels[train_index], labels[test_index]\n",
        "        clf.fit(X_train,y_train)\n",
        "        score = clf.score(X_test,y_test)\n",
        "        print(\"Test acc : \", score)\n",
        "        k_fold_scores.append(score)\n",
        "        id_fold += 1\n",
        "    scores.append(k_fold_scores)\n",
        "print(\"================= Fin ======================\\n\")"
      ],
      "execution_count": 0,
      "outputs": [
        {
          "output_type": "stream",
          "text": [
            "=========================\n",
            "n_neigbors =  2 ...\n",
            "=========================\n",
            "KFold(n_splits=10, random_state=2, shuffle=True)\n",
            "Fold num 0...training...\n",
            "Test acc :  0.89\n",
            "Fold num 1...training...\n",
            "Test acc :  0.928\n",
            "Fold num 2...training...\n",
            "Test acc :  0.93\n",
            "Fold num 3...training...\n",
            "Test acc :  0.912\n",
            "Fold num 4...training...\n",
            "Test acc :  0.936\n",
            "Fold num 5...training...\n",
            "Test acc :  0.92\n",
            "Fold num 6...training...\n",
            "Test acc :  0.92\n",
            "Fold num 7...training...\n",
            "Test acc :  0.932\n",
            "Fold num 8...training...\n",
            "Test acc :  0.892\n",
            "Fold num 9...training...\n",
            "Test acc :  0.896\n",
            "=========================\n",
            "n_neigbors =  3 ...\n",
            "=========================\n",
            "KFold(n_splits=10, random_state=3, shuffle=True)\n",
            "Fold num 0...training...\n",
            "Test acc :  0.942\n",
            "Fold num 1...training...\n",
            "Test acc :  0.94\n",
            "Fold num 2...training...\n",
            "Test acc :  0.936\n",
            "Fold num 3...training...\n",
            "Test acc :  0.92\n",
            "Fold num 4...training...\n",
            "Test acc :  0.928\n",
            "Fold num 5...training...\n",
            "Test acc :  0.936\n",
            "Fold num 6...training...\n",
            "Test acc :  0.92\n",
            "Fold num 7...training...\n",
            "Test acc :  0.936\n",
            "Fold num 8...training...\n",
            "Test acc :  0.908\n",
            "Fold num 9...training...\n",
            "Test acc :  0.956\n",
            "=========================\n",
            "n_neigbors =  4 ...\n",
            "=========================\n",
            "KFold(n_splits=10, random_state=4, shuffle=True)\n",
            "Fold num 0...training...\n",
            "Test acc :  0.946\n",
            "Fold num 1...training...\n",
            "Test acc :  0.922\n",
            "Fold num 2...training...\n",
            "Test acc :  0.946\n",
            "Fold num 3...training...\n",
            "Test acc :  0.914\n",
            "Fold num 4...training...\n",
            "Test acc :  0.924\n",
            "Fold num 5...training...\n",
            "Test acc :  0.928\n",
            "Fold num 6...training...\n",
            "Test acc :  0.94\n",
            "Fold num 7...training...\n",
            "Test acc :  0.938\n",
            "Fold num 8...training...\n",
            "Test acc :  0.92\n",
            "Fold num 9...training...\n",
            "Test acc :  0.922\n",
            "=========================\n",
            "n_neigbors =  5 ...\n",
            "=========================\n",
            "KFold(n_splits=10, random_state=5, shuffle=True)\n",
            "Fold num 0...training...\n",
            "Test acc :  0.934\n",
            "Fold num 1...training...\n",
            "Test acc :  0.916\n",
            "Fold num 2...training...\n",
            "Test acc :  0.938\n",
            "Fold num 3...training...\n",
            "Test acc :  0.936\n",
            "Fold num 4...training...\n",
            "Test acc :  0.926\n",
            "Fold num 5...training...\n",
            "Test acc :  0.94\n",
            "Fold num 6...training...\n",
            "Test acc :  0.938\n",
            "Fold num 7...training...\n",
            "Test acc :  0.922\n",
            "Fold num 8...training...\n",
            "Test acc :  0.924\n",
            "Fold num 9...training...\n",
            "Test acc :  0.94\n",
            "=========================\n",
            "n_neigbors =  6 ...\n",
            "=========================\n",
            "KFold(n_splits=10, random_state=6, shuffle=True)\n",
            "Fold num 0...training...\n",
            "Test acc :  0.916\n",
            "Fold num 1...training...\n",
            "Test acc :  0.93\n",
            "Fold num 2...training...\n",
            "Test acc :  0.932\n",
            "Fold num 3...training...\n",
            "Test acc :  0.946\n",
            "Fold num 4...training...\n",
            "Test acc :  0.916\n",
            "Fold num 5...training...\n",
            "Test acc :  0.906\n",
            "Fold num 6...training...\n",
            "Test acc :  0.938\n",
            "Fold num 7...training...\n",
            "Test acc :  0.952\n",
            "Fold num 8...training...\n",
            "Test acc :  0.92\n",
            "Fold num 9...training...\n",
            "Test acc :  0.938\n",
            "=========================\n",
            "n_neigbors =  7 ...\n",
            "=========================\n",
            "KFold(n_splits=10, random_state=7, shuffle=True)\n",
            "Fold num 0...training...\n",
            "Test acc :  0.926\n",
            "Fold num 1...training...\n",
            "Test acc :  0.93\n",
            "Fold num 2...training...\n",
            "Test acc :  0.93\n",
            "Fold num 3...training...\n",
            "Test acc :  0.936\n",
            "Fold num 4...training...\n",
            "Test acc :  0.926\n",
            "Fold num 5...training...\n",
            "Test acc :  0.912\n",
            "Fold num 6...training...\n",
            "Test acc :  0.922\n",
            "Fold num 7...training...\n",
            "Test acc :  0.922\n",
            "Fold num 8...training...\n",
            "Test acc :  0.944\n",
            "Fold num 9...training...\n",
            "Test acc :  0.924\n",
            "=========================\n",
            "n_neigbors =  8 ...\n",
            "=========================\n",
            "KFold(n_splits=10, random_state=8, shuffle=True)\n",
            "Fold num 0...training...\n",
            "Test acc :  0.932\n",
            "Fold num 1...training...\n",
            "Test acc :  0.926\n",
            "Fold num 2...training...\n",
            "Test acc :  0.914\n",
            "Fold num 3...training...\n",
            "Test acc :  0.922\n",
            "Fold num 4...training...\n",
            "Test acc :  0.94\n",
            "Fold num 5...training...\n",
            "Test acc :  0.928\n",
            "Fold num 6...training...\n",
            "Test acc :  0.886\n",
            "Fold num 7...training...\n",
            "Test acc :  0.95\n",
            "Fold num 8...training...\n",
            "Test acc :  0.916\n",
            "Fold num 9...training...\n",
            "Test acc :  0.932\n",
            "=========================\n",
            "n_neigbors =  9 ...\n",
            "=========================\n",
            "KFold(n_splits=10, random_state=9, shuffle=True)\n",
            "Fold num 0...training...\n",
            "Test acc :  0.948\n",
            "Fold num 1...training...\n",
            "Test acc :  0.908\n",
            "Fold num 2...training...\n",
            "Test acc :  0.914\n",
            "Fold num 3...training...\n",
            "Test acc :  0.924\n",
            "Fold num 4...training...\n",
            "Test acc :  0.916\n",
            "Fold num 5...training...\n",
            "Test acc :  0.916\n",
            "Fold num 6...training...\n",
            "Test acc :  0.922\n",
            "Fold num 7...training...\n",
            "Test acc :  0.928\n",
            "Fold num 8...training...\n",
            "Test acc :  0.93\n",
            "Fold num 9...training...\n",
            "Test acc :  0.948\n",
            "=========================\n",
            "n_neigbors =  10 ...\n",
            "=========================\n",
            "KFold(n_splits=10, random_state=10, shuffle=True)\n",
            "Fold num 0...training...\n",
            "Test acc :  0.93\n",
            "Fold num 1...training...\n",
            "Test acc :  0.912\n",
            "Fold num 2...training...\n",
            "Test acc :  0.93\n",
            "Fold num 3...training...\n",
            "Test acc :  0.926\n",
            "Fold num 4...training...\n",
            "Test acc :  0.93\n",
            "Fold num 5...training...\n",
            "Test acc :  0.928\n",
            "Fold num 6...training...\n",
            "Test acc :  0.902\n",
            "Fold num 7...training...\n",
            "Test acc :  0.904\n",
            "Fold num 8...training...\n",
            "Test acc :  0.934\n",
            "Fold num 9...training...\n",
            "Test acc :  0.944\n",
            "=========================\n",
            "n_neigbors =  11 ...\n",
            "=========================\n",
            "KFold(n_splits=10, random_state=11, shuffle=True)\n",
            "Fold num 0...training...\n",
            "Test acc :  0.938\n",
            "Fold num 1...training...\n",
            "Test acc :  0.922\n",
            "Fold num 2...training...\n",
            "Test acc :  0.91\n",
            "Fold num 3...training...\n",
            "Test acc :  0.94\n",
            "Fold num 4...training...\n",
            "Test acc :  0.914\n",
            "Fold num 5...training...\n",
            "Test acc :  0.934\n",
            "Fold num 6...training...\n",
            "Test acc :  0.924\n",
            "Fold num 7...training...\n",
            "Test acc :  0.906\n",
            "Fold num 8...training...\n",
            "Test acc :  0.914\n",
            "Fold num 9...training...\n",
            "Test acc :  0.922\n",
            "=========================\n",
            "n_neigbors =  12 ...\n",
            "=========================\n",
            "KFold(n_splits=10, random_state=12, shuffle=True)\n",
            "Fold num 0...training...\n",
            "Test acc :  0.918\n",
            "Fold num 1...training...\n",
            "Test acc :  0.91\n",
            "Fold num 2...training...\n",
            "Test acc :  0.924\n",
            "Fold num 3...training...\n",
            "Test acc :  0.93\n",
            "Fold num 4...training...\n",
            "Test acc :  0.942\n",
            "Fold num 5...training...\n",
            "Test acc :  0.934\n",
            "Fold num 6...training...\n",
            "Test acc :  0.916\n",
            "Fold num 7...training...\n",
            "Test acc :  0.91\n",
            "Fold num 8...training...\n",
            "Test acc :  0.92\n",
            "Fold num 9...training...\n",
            "Test acc :  0.906\n",
            "=========================\n",
            "n_neigbors =  13 ...\n",
            "=========================\n",
            "KFold(n_splits=10, random_state=13, shuffle=True)\n",
            "Fold num 0...training...\n",
            "Test acc :  0.908\n",
            "Fold num 1...training...\n",
            "Test acc :  0.916\n",
            "Fold num 2...training...\n",
            "Test acc :  0.93\n",
            "Fold num 3...training...\n",
            "Test acc :  0.918\n",
            "Fold num 4...training...\n",
            "Test acc :  0.916\n",
            "Fold num 5...training...\n",
            "Test acc :  0.942\n",
            "Fold num 6...training...\n",
            "Test acc :  0.918\n",
            "Fold num 7...training...\n",
            "Test acc :  0.916\n",
            "Fold num 8...training...\n",
            "Test acc :  0.926\n",
            "Fold num 9...training...\n",
            "Test acc :  0.918\n",
            "=========================\n",
            "n_neigbors =  14 ...\n",
            "=========================\n",
            "KFold(n_splits=10, random_state=14, shuffle=True)\n",
            "Fold num 0...training...\n",
            "Test acc :  0.914\n",
            "Fold num 1...training...\n",
            "Test acc :  0.926\n",
            "Fold num 2...training...\n",
            "Test acc :  0.908\n",
            "Fold num 3...training...\n",
            "Test acc :  0.916\n",
            "Fold num 4...training...\n",
            "Test acc :  0.924\n",
            "Fold num 5...training...\n",
            "Test acc :  0.916\n",
            "Fold num 6...training...\n",
            "Test acc :  0.922\n",
            "Fold num 7...training...\n",
            "Test acc :  0.934\n",
            "Fold num 8...training...\n",
            "Test acc :  0.914\n",
            "Fold num 9...training...\n",
            "Test acc :  0.928\n",
            "=========================\n",
            "n_neigbors =  15 ...\n",
            "=========================\n",
            "KFold(n_splits=10, random_state=15, shuffle=True)\n",
            "Fold num 0...training...\n",
            "Test acc :  0.908\n",
            "Fold num 1...training...\n",
            "Test acc :  0.92\n",
            "Fold num 2...training...\n",
            "Test acc :  0.932\n",
            "Fold num 3...training...\n",
            "Test acc :  0.926\n",
            "Fold num 4...training...\n",
            "Test acc :  0.914\n",
            "Fold num 5...training...\n",
            "Test acc :  0.894\n",
            "Fold num 6...training...\n",
            "Test acc :  0.932\n",
            "Fold num 7...training...\n",
            "Test acc :  0.926\n",
            "Fold num 8...training...\n",
            "Test acc :  0.912\n",
            "Fold num 9...training...\n",
            "Test acc :  0.904\n",
            "================= Fin ======================\n",
            "\n",
            "CPU times: user 7min 37s, sys: 380 ms, total: 7min 38s\n",
            "Wall time: 7min 38s\n"
          ],
          "name": "stdout"
        }
      ]
    },
    {
      "cell_type": "code",
      "metadata": {
        "colab_type": "code",
        "id": "lg8YjqQTcNz9",
        "outputId": "fa99ce26-59df-4686-87fb-6816bdcb731c",
        "colab": {
          "base_uri": "https://localhost:8080/",
          "height": 515
        }
      },
      "source": [
        "plt.figure(figsize=(12,8))\n",
        "plt.boxplot(scores) \n",
        "plt.ylabel(\"cross_validation_accuracy\")\n",
        "plt.xlabel(\"n_neighbors\")"
      ],
      "execution_count": 0,
      "outputs": [
        {
          "output_type": "execute_result",
          "data": {
            "text/plain": [
              "Text(0.5, 0, 'n_neighbors')"
            ]
          },
          "metadata": {
            "tags": []
          },
          "execution_count": 23
        },
        {
          "output_type": "display_data",
          "data": {
            "image/png": "[encoded data removed]",
            "text/plain": [
              "<Figure size 864x576 with 1 Axes>"
            ]
          },
          "metadata": {
            "tags": []
          }
        }
      ]
    },
    {
      "cell_type": "markdown",
      "metadata": {
        "colab_type": "text",
        "id": "9IuZt1bMdsMT"
      },
      "source": [
        "### ***3.3. Split rate*** \n"
      ]
    },
    {
      "cell_type": "markdown",
      "metadata": {
        "id": "0Hzexq6DXxxC",
        "colab_type": "text"
      },
      "source": [
        "**Fix n_neighbors = 3, we change split_rate and print scores**"
      ]
    },
    {
      "cell_type": "code",
      "metadata": {
        "colab_type": "code",
        "id": "qHustDziTJ4S",
        "outputId": "ba72f453-6764-4b53-d90a-556226ca0420",
        "colab": {
          "base_uri": "https://localhost:8080/",
          "height": 191
        }
      },
      "source": [
        "def get_rate(x):\n",
        "    return round(0.5 + int(x) * 0.05,3)\n",
        "for i in range(10):\n",
        "    print(get_rate(i))"
      ],
      "execution_count": 0,
      "outputs": [
        {
          "output_type": "stream",
          "text": [
            "0.5\n",
            "0.55\n",
            "0.6\n",
            "0.65\n",
            "0.7\n",
            "0.75\n",
            "0.8\n",
            "0.85\n",
            "0.9\n",
            "0.95\n"
          ],
          "name": "stdout"
        }
      ]
    },
    {
      "cell_type": "code",
      "metadata": {
        "colab_type": "code",
        "id": "NA3tRNI1TJ4g",
        "outputId": "11f3747e-fb26-4d10-a744-b6b0a09d1803",
        "colab": {
          "base_uri": "https://localhost:8080/",
          "height": 573
        }
      },
      "source": [
        "%%time\n",
        "n_neighbors = 3\n",
        "training_accuracies = []\n",
        "test_accuracies = []\n",
        "split_rates = [get_rate(i) for i in range(10)]\n",
        "for split_rate in split_rates:\n",
        "    print(\"Split_rate = {}...\".format(split_rate))\n",
        "    X_train, X_test, y_train, y_test = train_test_split(data,labels,train_size =split_rate)\n",
        "    clf = KNNs(n_neighbors)\n",
        "    print(\"Fitting model...\")\n",
        "    clf.fit(X_train,y_train)\n",
        "    training_accuracies.append(clf.score(X_train,y_train))\n",
        "    test_accuracies.append(clf.score(X_test,y_test))\n",
        "    print(\"=====================================\")"
      ],
      "execution_count": 0,
      "outputs": [
        {
          "output_type": "stream",
          "text": [
            "Split_rate = 0.5...\n",
            "Fitting model...\n",
            "=====================================\n",
            "Split_rate = 0.55...\n",
            "Fitting model...\n",
            "=====================================\n",
            "Split_rate = 0.6...\n",
            "Fitting model...\n",
            "=====================================\n",
            "Split_rate = 0.65...\n",
            "Fitting model...\n",
            "=====================================\n",
            "Split_rate = 0.7...\n",
            "Fitting model...\n",
            "=====================================\n",
            "Split_rate = 0.75...\n",
            "Fitting model...\n",
            "=====================================\n",
            "Split_rate = 0.8...\n",
            "Fitting model...\n",
            "=====================================\n",
            "Split_rate = 0.85...\n",
            "Fitting model...\n",
            "=====================================\n",
            "Split_rate = 0.9...\n",
            "Fitting model...\n",
            "=====================================\n",
            "Split_rate = 0.95...\n",
            "Fitting model...\n",
            "=====================================\n",
            "CPU times: user 3min 54s, sys: 48.9 ms, total: 3min 54s\n",
            "Wall time: 3min 54s\n"
          ],
          "name": "stdout"
        }
      ]
    },
    {
      "cell_type": "code",
      "metadata": {
        "id": "4nCRiQ8GYrpx",
        "colab_type": "code",
        "outputId": "53c6ba47-5ffc-40c4-b629-a707bec45838",
        "colab": {
          "base_uri": "https://localhost:8080/",
          "height": 313
        }
      },
      "source": [
        "## PLOT\n",
        "plt.plot(split_rates, training_accuracies, label = \"training_accuracy\")\n",
        "plt.plot(split_rates, test_accuracies, label = \"test_accuracy\")\n",
        "plt.ylabel(\"Accuracy\")\n",
        "plt.xlabel(\"split_rate\")\n",
        "plt.legend(loc='best')\n",
        "plt.title(\"Accuracy over split rate\")\n",
        "plt.show()\n",
        "plt.savefig('TP1-acc-vs-split-rate.png')"
      ],
      "execution_count": 0,
      "outputs": [
        {
          "output_type": "display_data",
          "data": {
            "image/png": "[encoded data removed]",
            "text/plain": [
              "<Figure size 432x288 with 1 Axes>"
            ]
          },
          "metadata": {
            "tags": []
          }
        },
        {
          "output_type": "display_data",
          "data": {
            "text/plain": [
              "<Figure size 432x288 with 0 Axes>"
            ]
          },
          "metadata": {
            "tags": []
          }
        }
      ]
    },
    {
      "cell_type": "markdown",
      "metadata": {
        "id": "LObnRbuVss2q",
        "colab_type": "text"
      },
      "source": [
        "### ***3.4. Size of training set***"
      ]
    },
    {
      "cell_type": "code",
      "metadata": {
        "id": "rTU9FJmJtJHl",
        "colab_type": "code",
        "outputId": "97581eb9-873c-41c4-f9f2-3cfa6028efa4",
        "colab": {
          "base_uri": "https://localhost:8080/",
          "height": 364
        }
      },
      "source": [
        "%%time\n",
        "training_scores = []\n",
        "test_scores = []\n",
        "training_times = []\n",
        "data_size = np.array([1000,2000,5000,10000,20000,40000])\n",
        "for size in data_size:\n",
        "    print(\"Size of data : {} samples ...\".format(size))\n",
        "    # take a batch of dataset\n",
        "    indexes = random.sample(range(70000),size)\n",
        "    X2 = mnist.data[indexes]\n",
        "    y2 = mnist.target[indexes]\n",
        "    X2_train, X2_test, y2_train, y2_test = train_test_split(X2,y2,train_size =0.8)\n",
        "    clf = KNNs(n_neighbors=3,n_jobs=-1)\n",
        "    start = time.clock()\n",
        "    clf.fit(X2_train,y2_train)\n",
        "    exec_time = time.clock() -  start\n",
        "    training_times.append(exec_time)\n",
        "    print(\"Execution time : \",exec_time)\n",
        "    print(\"Computing scores...\")\n",
        "    training_scores.append(clf.score(X2_train,y2_train))\n",
        "    test_scores.append(clf.score(X2_test,y2_test))"
      ],
      "execution_count": 0,
      "outputs": [
        {
          "output_type": "stream",
          "text": [
            "Size of data : 1000 samples ...\n",
            "Execution time :  0.010760000001027947\n",
            "Computing scores...\n",
            "Size of data : 2000 samples ...\n",
            "Execution time :  0.0247029999991355\n",
            "Computing scores...\n",
            "Size of data : 5000 samples ...\n",
            "Execution time :  0.12561899999855086\n",
            "Computing scores...\n",
            "Size of data : 10000 samples ...\n",
            "Execution time :  0.3285550000000512\n",
            "Computing scores...\n",
            "Size of data : 20000 samples ...\n",
            "Execution time :  1.059067000000141\n",
            "Computing scores...\n",
            "Size of data : 40000 samples ...\n",
            "Execution time :  3.337985000000117\n",
            "Computing scores...\n",
            "CPU times: user 1h 12min 47s, sys: 1.61 s, total: 1h 12min 49s\n",
            "Wall time: 36min 59s\n"
          ],
          "name": "stdout"
        }
      ]
    },
    {
      "cell_type": "code",
      "metadata": {
        "id": "7bLtQFkNraYw",
        "colab_type": "code",
        "outputId": "8b56c2e6-24ec-400b-c32a-60cdf9bce830",
        "colab": {
          "base_uri": "https://localhost:8080/",
          "height": 312
        }
      },
      "source": [
        "## PLOT\n",
        "plt.figure(figsize=(12,4))\n",
        "plt.subplot(121)\n",
        "plt.plot(data_size,training_scores, label='train_acc')\n",
        "plt.plot(data_size,test_scores,label='test_acc')\n",
        "plt.xlabel('Size of dataset')\n",
        "plt.ylabel('Accuracy')\n",
        "plt.legend(loc='best')\n",
        "plt.title(\"Accuracy vs. datasize\")\n",
        "\n",
        "plt.subplot(122)\n",
        "plt.plot(data_size,training_times,label='training_time')\n",
        "plt.xlabel('Size of dataset')\n",
        "plt.ylabel('Execution CPU time (s)')\n",
        "plt.legend(loc='best')\n",
        "plt.title(\"Training time vs. datasize\")\n",
        "\n",
        "plt.show()\n",
        "plt.savefig(\"TP1-acc-time-vs-datasize.png\")"
      ],
      "execution_count": 0,
      "outputs": [
        {
          "output_type": "display_data",
          "data": {
            "image/png": "[encoded data removed]",
            "text/plain": [
              "<Figure size 864x288 with 2 Axes>"
            ]
          },
          "metadata": {
            "tags": []
          }
        },
        {
          "output_type": "display_data",
          "data": {
            "text/plain": [
              "<Figure size 432x288 with 0 Axes>"
            ]
          },
          "metadata": {
            "tags": []
          }
        }
      ]
    },
    {
      "cell_type": "markdown",
      "metadata": {
        "colab_type": "text",
        "id": "mTRqfQQuhUzH"
      },
      "source": [
        "### ***3.5. Distance metrics***"
      ]
    },
    {
      "cell_type": "code",
      "metadata": {
        "colab_type": "code",
        "id": "_P2PuKNfTJ4p",
        "outputId": "e0839a82-98d7-4409-de36-a14f9821f879",
        "colab": {
          "base_uri": "https://localhost:8080/",
          "height": 225
        }
      },
      "source": [
        "%%time\n",
        "X_train, X_test, y_train, y_test = train_test_split(data,labels,train_size =0.8)\n",
        "n_neighbors = 10\n",
        "training_scores = []\n",
        "test_scores = []\n",
        "print(\"===  Testing type of distance (p) ===\")\n",
        "for p in range(1,10):\n",
        "    print(\"Metrics : Minkowski, p = \",p)\n",
        "    clf = KNNs(n_neighbors=n_neighbors,p=p,metric='minkowski')\n",
        "    clf.fit(X_train,y_train)\n",
        "    training_scores.append(clf.score(X_train,y_train))\n",
        "    test_scores.append(clf.score(X_test,y_test))"
      ],
      "execution_count": 0,
      "outputs": [
        {
          "output_type": "stream",
          "text": [
            "===  Testing type of distance (p) ===\n",
            "Metrics : Minkowski, p =  1\n",
            "Metrics : Minkowski, p =  2\n",
            "Metrics : Minkowski, p =  3\n",
            "Metrics : Minkowski, p =  4\n",
            "Metrics : Minkowski, p =  5\n",
            "Metrics : Minkowski, p =  6\n",
            "Metrics : Minkowski, p =  7\n",
            "Metrics : Minkowski, p =  8\n",
            "Metrics : Minkowski, p =  9\n",
            "CPU times: user 1h 22s, sys: 291 ms, total: 1h 22s\n",
            "Wall time: 1h 25s\n"
          ],
          "name": "stdout"
        }
      ]
    },
    {
      "cell_type": "code",
      "metadata": {
        "colab_type": "code",
        "id": "Vpn8Tjc2hggM",
        "outputId": "de602c14-5b52-4963-bafd-3c33fa4562e8",
        "colab": {
          "base_uri": "https://localhost:8080/",
          "height": 312
        }
      },
      "source": [
        "## PLOT\n",
        "fig, ax = plt.subplots()\n",
        "ax.plot(np.arange(1,10,1), training_scores, label = \"training accuracy\")\n",
        "ax.plot(np.arange(1,10,1), test_scores, label = \"test accuracy\" )\n",
        "\n",
        "ax.set(xlabel='type of distances (p) in Minkowski metric', ylabel='accuracy',\n",
        "       title='Accuracy / type of distances')\n",
        "ax.grid()\n",
        "plt.legend(loc='best')\n",
        "plt.show()\n",
        "plt.savefig('TP1-acc-vs-minkowski-p.png')"
      ],
      "execution_count": 0,
      "outputs": [
        {
          "output_type": "display_data",
          "data": {
            "image/png": "[encoded data removed]",
            "text/plain": [
              "<Figure size 432x288 with 1 Axes>"
            ]
          },
          "metadata": {
            "tags": []
          }
        },
        {
          "output_type": "display_data",
          "data": {
            "text/plain": [
              "<Figure size 432x288 with 0 Axes>"
            ]
          },
          "metadata": {
            "tags": []
          }
        }
      ]
    },
    {
      "cell_type": "code",
      "metadata": {
        "id": "zOKgAuVTabm-",
        "colab_type": "code",
        "outputId": "16797f84-c5d2-417f-8d46-88e9b19349db",
        "colab": {
          "base_uri": "https://localhost:8080/",
          "height": 295
        }
      },
      "source": [
        "%%time \n",
        "\n",
        "neighbors_settings = np.arange(2,16,1)\n",
        "minkowski_test_accuracies = []\n",
        "manhattan_test_accuracies = []\n",
        "euclidean_test_accuracies = []\n",
        "chebyshev_test_accuracies = []\n",
        "\n",
        "for n_neighbors in neighbors_settings :\n",
        "    print(\"n_neigbors = \",n_neighbors,\"...\")\n",
        "    clf = KNNs(n_neighbors,p=3,metric='minkowski')\n",
        "    clf.fit(X_train,y_train)\n",
        "    minkowski_test_accuracies.append(clf.score(X_test,y_test))\n",
        "\n",
        "    clf = KNNs(n_neighbors,metric='manhattan')\n",
        "    clf.fit(X_train,y_train)\n",
        "    manhattan_test_accuracies.append(clf.score(X_test,y_test))\n",
        "    \n",
        "    clf = KNNs(n_neighbors,metric='euclidean')\n",
        "    clf.fit(X_train,y_train)\n",
        "    euclidean_test_accuracies.append(clf.score(X_test,y_test))\n",
        "\n",
        "    clf = KNNs(n_neighbors,metric='chebyshev')\n",
        "    clf.fit(X_train,y_train)\n",
        "    chebyshev_test_accuracies.append(clf.score(X_test,y_test))"
      ],
      "execution_count": 0,
      "outputs": [
        {
          "output_type": "stream",
          "text": [
            "n_neigbors =  2 ...\n",
            "n_neigbors =  3 ...\n",
            "n_neigbors =  4 ...\n",
            "n_neigbors =  5 ...\n",
            "n_neigbors =  6 ...\n",
            "n_neigbors =  7 ...\n",
            "n_neigbors =  8 ...\n",
            "n_neigbors =  9 ...\n",
            "n_neigbors =  10 ...\n",
            "n_neigbors =  11 ...\n",
            "n_neigbors =  12 ...\n",
            "n_neigbors =  13 ...\n",
            "n_neigbors =  14 ...\n",
            "n_neigbors =  15 ...\n",
            "CPU times: user 26min 45s, sys: 244 ms, total: 26min 45s\n",
            "Wall time: 26min 47s\n"
          ],
          "name": "stdout"
        }
      ]
    },
    {
      "cell_type": "code",
      "metadata": {
        "id": "8m1ls_hleGzR",
        "colab_type": "code",
        "outputId": "774ccfc4-6479-458c-d04b-b8a9565437cc",
        "colab": {
          "base_uri": "https://localhost:8080/",
          "height": 295
        }
      },
      "source": [
        "## PLOT\n",
        "plt.plot(neighbors_settings, minkowski_test_accuracies, label = \"minkowski_3_test_accuracy\")\n",
        "plt.plot(neighbors_settings, manhattan_test_accuracies, label = \"manhattan_test_accuracy\")\n",
        "plt.plot(neighbors_settings, euclidean_test_accuracies, label = \"euclidean_test_accuracy\")\n",
        "plt.plot(neighbors_settings, chebyshev_test_accuracies, label = \"chebyshev_test_accuracy\")\n",
        "\n",
        "plt.ylabel(\"Accuracy\")\n",
        "plt.xlabel(\"Number of k\")\n",
        "plt.legend(loc='best')\n",
        "plt.title(\"Accuracy over different type of distance\")\n",
        "plt.grid()\n",
        "plt.savefig('TP1-acc-vs-metrics.png')"
      ],
      "execution_count": 0,
      "outputs": [
        {
          "output_type": "display_data",
          "data": {
            "image/png": "[encoded data removed]",
            "text/plain": [
              "<Figure size 432x288 with 1 Axes>"
            ]
          },
          "metadata": {
            "tags": []
          }
        }
      ]
    },
    {
      "cell_type": "markdown",
      "metadata": {
        "colab_type": "text",
        "id": "Mri4dhJbkgYE"
      },
      "source": [
        "### ***3.6. n_jobs in KNN***"
      ]
    },
    {
      "cell_type": "markdown",
      "metadata": {
        "id": "R4Euggblcctj",
        "colab_type": "text"
      },
      "source": [
        "**Case n_jobs = 1**"
      ]
    },
    {
      "cell_type": "code",
      "metadata": {
        "colab_type": "code",
        "id": "mDkow5OYTJ4y",
        "outputId": "04c57b68-816f-4e18-e873-f37d5cc94d2b",
        "colab": {
          "base_uri": "https://localhost:8080/",
          "height": 208
        }
      },
      "source": [
        "%%time\n",
        "X_train, X_test, y_train, y_test = train_test_split(data,labels,train_size =0.8)\n",
        "print(\"Traning data shape : \", X_train.shape,\"Traning target shape : \", y_train.shape)\n",
        "print(\"Testing data shape : \", X_test.shape,\"Testing target shape : \", y_test.shape)\n",
        "n_neighbors = 10\n",
        "clf = KNNs(n_neighbors,n_jobs = 1)\n",
        "start = time.clock()\n",
        "print(\"Fitting model...\")\n",
        "clf.fit(X_train,y_train)\n",
        "end_train = time.clock()\n",
        "print(\"Training time : \",end_train-start)\n",
        "print(\"Predicting...\")\n",
        "y_pred = clf.predict(X_test)\n",
        "end_pred = time.clock()\n",
        "print(\"Predicting time: \",end_pred-end_train)\n",
        "print(\"Training score : \",clf.score(X_train,y_train))\n",
        "print(\"Test score : \",clf.score(X_test,y_test))\n",
        "print(\"Total execution time : \",time.clock()-start)"
      ],
      "execution_count": 0,
      "outputs": [
        {
          "output_type": "stream",
          "text": [
            "Traning data shape :  (4000, 784) Traning target shape :  (4000,)\n",
            "Testing data shape :  (1000, 784) Testing target shape :  (1000,)\n",
            "Fitting model...\n",
            "Training time :  0.105810000000929\n",
            "Predicting...\n",
            "Predicting time:  5.892133999999714\n",
            "Training score :  0.93\n",
            "Test score :  0.935\n",
            "Total execution time :  35.353516999999556\n",
            "CPU times: user 35.3 s, sys: 25 ms, total: 35.4 s\n",
            "Wall time: 35.4 s\n"
          ],
          "name": "stdout"
        }
      ]
    },
    {
      "cell_type": "markdown",
      "metadata": {
        "id": "Yp0yTExtcYWX",
        "colab_type": "text"
      },
      "source": [
        "**Case n_jobs = -1**"
      ]
    },
    {
      "cell_type": "code",
      "metadata": {
        "colab_type": "code",
        "id": "oOTI0PKalfej",
        "outputId": "9a111a2d-3b4b-4a79-f6b2-5373ce78e9e2",
        "colab": {
          "base_uri": "https://localhost:8080/",
          "height": 208
        }
      },
      "source": [
        "%%time\n",
        "X_train, X_test, y_train, y_test = train_test_split(data,labels,train_size =0.8)\n",
        "print(\"Traning data shape : \", X_train.shape,\"Traning target shape : \", y_train.shape)\n",
        "print(\"Testing data shape : \", X_test.shape,\"Testing target shape : \", y_test.shape)\n",
        "n_neighbors = 10\n",
        "clf = KNNs(n_neighbors,n_jobs = -1)\n",
        "start = time.clock()\n",
        "print(\"Fitting model...\")\n",
        "clf.fit(X_train,y_train)\n",
        "end_train = time.clock()\n",
        "print(\"Training time : \",end_train-start)\n",
        "print(\"Predicting...\")\n",
        "y_pred = clf.predict(X_test)\n",
        "end_pred = time.clock()\n",
        "print(\"Predicting time: \",end_pred-end_train)\n",
        "print(\"Training score : \",clf.score(X_train,y_train))\n",
        "print(\"Test score : \",clf.score(X_test,y_test))\n",
        "print(\"Total execution time : \",time.clock()-start)"
      ],
      "execution_count": 0,
      "outputs": [
        {
          "output_type": "stream",
          "text": [
            "Traning data shape :  (4000, 784) Traning target shape :  (4000,)\n",
            "Testing data shape :  (1000, 784) Testing target shape :  (1000,)\n",
            "Fitting model...\n",
            "Training time :  0.10275700000056531\n",
            "Predicting...\n",
            "Predicting time:  9.089850000000297\n",
            "Training score :  0.92975\n",
            "Test score :  0.934\n",
            "Total execution time :  55.13343700000041\n",
            "CPU times: user 55.1 s, sys: 42 ms, total: 55.1 s\n",
            "Wall time: 28.3 s\n"
          ],
          "name": "stdout"
        }
      ]
    },
    {
      "cell_type": "markdown",
      "metadata": {
        "id": "vIjdWCb0dLqB",
        "colab_type": "text"
      },
      "source": [
        "## **4. Best model ?**\n",
        "\n",
        "**From the above explorations, we choose parameters for a KNN Classifier:**\n",
        "\n",
        "* n_neighbors = 3\n",
        "* p = 3\n",
        "* metrics = 'minkowski'"
      ]
    },
    {
      "cell_type": "markdown",
      "metadata": {
        "id": "0bI6EmRofCo7",
        "colab_type": "text"
      },
      "source": [
        "### ***Hyper-parameter optimization using GridSearchCV***\n",
        "\n",
        "\n",
        "**Attention :** This block will take a long time to finish...."
      ]
    },
    {
      "cell_type": "code",
      "metadata": {
        "id": "HIoPYPYjdGSI",
        "colab_type": "code",
        "colab": {}
      },
      "source": [
        "# %%time\n",
        "# # Prepare again dataset\n",
        "# X_train, X_test, y_train, y_test = train_test_split(mnist.data,mnist.target,train_size =0.8)\n",
        "\n",
        "\n",
        "# ## Choose a classifier\n",
        "# knn = KNNs()\n",
        "\n",
        "# ## Define a hyper-parameter space to search\n",
        "# parameter_space = {\n",
        "#     'n_neighbors': [1,3], #,5,11,101],\n",
        "#     'p' : [1,2,3] #,4,5]\n",
        "# }\n",
        "\n",
        "# ## Run the search, using cross-validation with 3-fold\n",
        "# clf = GridSearchCV(knn, parameter_space, n_jobs=-1, cv=3)\n",
        "# clf.fit(X_train, y_train)\n",
        "\n",
        "# ## Print best parameter set \n",
        "# print('Best parameters found:\\n', clf.best_params_)\n",
        "\n",
        "# ## Print all results \n",
        "# means = clf.cv_results_['mean_test_score']\n",
        "# stds = clf.cv_results_['std_test_score']\n",
        "# for mean, std, params in zip(means, stds, clf.cv_results_['params']):\n",
        "#     print(\"%0.3f (+/-%0.03f) for %r\" % (mean, std * 2, params))"
      ],
      "execution_count": 0,
      "outputs": []
    },
    {
      "cell_type": "markdown",
      "metadata": {
        "colab_type": "text",
        "id": "e1UPrtGJlxK2"
      },
      "source": [
        "-----\n",
        "\n"
      ]
    }
  ]
}