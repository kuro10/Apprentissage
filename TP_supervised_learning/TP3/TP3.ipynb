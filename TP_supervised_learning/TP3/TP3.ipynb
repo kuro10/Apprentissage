{
  "nbformat": 4,
  "nbformat_minor": 0,
  "metadata": {
    "colab": {
      "name": "TP3.ipynb",
      "provenance": [],
      "collapsed_sections": [],
      "toc_visible": true
    },
    "kernelspec": {
      "name": "python3",
      "display_name": "Python 3"
    },
    "accelerator": "GPU"
  },
  "cells": [
    {
      "cell_type": "markdown",
      "metadata": {
        "id": "yFRr4giwplyz",
        "colab_type": "text"
      },
      "source": [
        "# **TP3 : Support Vector Machine (SVM) with Sklearn**\n",
        "----"
      ]
    },
    {
      "cell_type": "code",
      "metadata": {
        "id": "X4X7QIbopd7t",
        "colab_type": "code",
        "colab": {}
      },
      "source": [
        "# import library\n",
        "import numpy as np\n",
        "import matplotlib.pyplot as plt\n",
        "import time \n",
        "\n",
        "from sklearn.datasets import fetch_openml\n",
        "\n",
        "from sklearn.model_selection import train_test_split\n",
        "\n",
        "from sklearn.svm import SVC, LinearSVC, NuSVC\n",
        "\n",
        "from sklearn.metrics import precision_score, classification_report, confusion_matrix"
      ],
      "execution_count": 0,
      "outputs": []
    },
    {
      "cell_type": "markdown",
      "metadata": {
        "id": "9ip_w-ZRZgef",
        "colab_type": "text"
      },
      "source": [
        "## Load MNIST dataset"
      ]
    },
    {
      "cell_type": "code",
      "metadata": {
        "id": "nx5AjMo5ZdyI",
        "colab_type": "code",
        "colab": {}
      },
      "source": [
        "# import data\n",
        "mnist = fetch_openml('mnist_784')"
      ],
      "execution_count": 0,
      "outputs": []
    },
    {
      "cell_type": "code",
      "metadata": {
        "id": "MNRCuPq1Zq9K",
        "colab_type": "code",
        "outputId": "4c2920ae-010f-4242-8a7d-9a35f4e5e9e1",
        "colab": {
          "base_uri": "https://localhost:8080/",
          "height": 52
        }
      },
      "source": [
        "data = mnist.data / 255.\n",
        "labels = mnist.target\n",
        "print(\"Shape of training data : \", data.shape)\n",
        "print(\"Shape of label : \", labels.shape)"
      ],
      "execution_count": 0,
      "outputs": [
        {
          "output_type": "stream",
          "text": [
            "Shape of training data :  (70000, 784)\n",
            "Shape of label :  (70000,)\n"
          ],
          "name": "stdout"
        }
      ]
    },
    {
      "cell_type": "code",
      "metadata": {
        "id": "oVu83g_Vf6W7",
        "colab_type": "code",
        "outputId": "84c88070-264d-458b-938a-32e3bb9e2139",
        "colab": {
          "base_uri": "https://localhost:8080/",
          "height": 34
        }
      },
      "source": [
        "target_list = np.unique(mnist.target)\n",
        "print(target_list)"
      ],
      "execution_count": 0,
      "outputs": [
        {
          "output_type": "stream",
          "text": [
            "['0' '1' '2' '3' '4' '5' '6' '7' '8' '9']\n"
          ],
          "name": "stdout"
        }
      ]
    },
    {
      "cell_type": "markdown",
      "metadata": {
        "id": "CstgHGJrZsK4",
        "colab_type": "text"
      },
      "source": [
        "## Split training & test set"
      ]
    },
    {
      "cell_type": "code",
      "metadata": {
        "id": "_CoCM3pWZrUJ",
        "colab_type": "code",
        "outputId": "9121bb8e-0c2d-4bc0-e0e3-c2f18c3d8678",
        "colab": {
          "base_uri": "https://localhost:8080/",
          "height": 86
        }
      },
      "source": [
        "X_train, X_test, y_train, y_test = train_test_split(data,labels,train_size=0.7)\n",
        "\n",
        "# X_train, y_train = X_train[:500], y_train[:500]\n",
        "# X_test, y_test = X_test[:500], y_test[:500]\n",
        "\n",
        "print(\"Training data shape : \", X_train.shape)\n",
        "print(\"Training target shape : \", y_train.shape)\n",
        "print(\"Testing data shape : \", X_test.shape)\n",
        "print(\"Testing target shape : \", y_test.shape)"
      ],
      "execution_count": 0,
      "outputs": [
        {
          "output_type": "stream",
          "text": [
            "Training data shape :  (49000, 784)\n",
            "Training target shape :  (49000,)\n",
            "Testing data shape :  (21000, 784)\n",
            "Testing target shape :  (21000,)\n"
          ],
          "name": "stdout"
        }
      ]
    },
    {
      "cell_type": "markdown",
      "metadata": {
        "id": "HneYooX0sbnz",
        "colab_type": "text"
      },
      "source": [
        "## Create a Linear SVM classifier"
      ]
    },
    {
      "cell_type": "code",
      "metadata": {
        "id": "h8Wm6VAOsbSj",
        "colab_type": "code",
        "outputId": "1c1e7f64-6f18-4fa4-b5e4-cbc3d59721ef",
        "colab": {
          "base_uri": "https://localhost:8080/",
          "height": 106
        }
      },
      "source": [
        "%%time \n",
        "clf = LinearSVC()\n",
        "clf.fit(X_train,y_train)"
      ],
      "execution_count": 0,
      "outputs": [
        {
          "output_type": "stream",
          "text": [
            "CPU times: user 1min 3s, sys: 47.3 ms, total: 1min 3s\n",
            "Wall time: 1min 3s\n"
          ],
          "name": "stdout"
        },
        {
          "output_type": "stream",
          "text": [
            "/usr/local/lib/python3.6/dist-packages/sklearn/svm/base.py:929: ConvergenceWarning: Liblinear failed to converge, increase the number of iterations.\n",
            "  \"the number of iterations.\", ConvergenceWarning)\n"
          ],
          "name": "stderr"
        }
      ]
    },
    {
      "cell_type": "markdown",
      "metadata": {
        "id": "c0sQiVdDtZzA",
        "colab_type": "text"
      },
      "source": [
        "## Prediction score"
      ]
    },
    {
      "cell_type": "code",
      "metadata": {
        "id": "8ZABSRDDsaxJ",
        "colab_type": "code",
        "outputId": "550dfab1-d66f-4d37-97a0-12d49bcd91e5",
        "colab": {
          "base_uri": "https://localhost:8080/",
          "height": 625
        }
      },
      "source": [
        "%%time \n",
        "y_pred = clf.predict(X_test)\n",
        "print(\"Classification report for classifier %s:\\n%s\\n\"\n",
        "      % (clf, classification_report(y_test, y_pred)))\n",
        "print(\"Confusion matrix:\\n%s\" % confusion_matrix(y_test, y_pred))"
      ],
      "execution_count": 0,
      "outputs": [
        {
          "output_type": "stream",
          "text": [
            "Classification report for classifier LinearSVC(C=1.0, class_weight=None, dual=True, fit_intercept=True,\n",
            "          intercept_scaling=1, loss='squared_hinge', max_iter=1000,\n",
            "          multi_class='ovr', penalty='l2', random_state=None, tol=0.0001,\n",
            "          verbose=0):\n",
            "              precision    recall  f1-score   support\n",
            "\n",
            "           0       0.94      0.97      0.96      1966\n",
            "           1       0.95      0.98      0.96      2388\n",
            "           2       0.91      0.87      0.89      2074\n",
            "           3       0.88      0.88      0.88      2134\n",
            "           4       0.91      0.93      0.92      2006\n",
            "           5       0.88      0.86      0.87      1947\n",
            "           6       0.94      0.95      0.95      2023\n",
            "           7       0.92      0.92      0.92      2236\n",
            "           8       0.88      0.85      0.87      2107\n",
            "           9       0.87      0.88      0.88      2119\n",
            "\n",
            "    accuracy                           0.91     21000\n",
            "   macro avg       0.91      0.91      0.91     21000\n",
            "weighted avg       0.91      0.91      0.91     21000\n",
            "\n",
            "\n",
            "Confusion matrix:\n",
            "[[1903    1    6    4    5   14   17    4    9    3]\n",
            " [   1 2332    9    6    2   11    4    5   15    3]\n",
            " [  17   28 1804   44   31   10   29   35   62   14]\n",
            " [  12   15   61 1881    8   59    2   24   37   35]\n",
            " [   8    9   11    4 1860    5   11    6   21   71]\n",
            " [  26    4   17   80   22 1668   41   13   51   25]\n",
            " [  11    7   12    2   14   34 1924    1   17    1]\n",
            " [   8   10   20   11   29    5    1 2066    8   78]\n",
            " [  18   45   26   70   19   69   16   14 1792   38]\n",
            " [  15   16    9   43   65   16    1   71   15 1868]]\n",
            "CPU times: user 830 ms, sys: 128 ms, total: 958 ms\n",
            "Wall time: 790 ms\n"
          ],
          "name": "stdout"
        }
      ]
    },
    {
      "cell_type": "markdown",
      "metadata": {
        "id": "Ewv2j4ZJ-42D",
        "colab_type": "text"
      },
      "source": [
        "## **Hyperparameter tuning for SVM**"
      ]
    },
    {
      "cell_type": "markdown",
      "metadata": {
        "id": "b-tVln7OhIcL",
        "colab_type": "text"
      },
      "source": [
        "### ***1. Kernel function***"
      ]
    },
    {
      "cell_type": "code",
      "metadata": {
        "id": "WpX0aEnxhbvI",
        "colab_type": "code",
        "colab": {}
      },
      "source": [
        "train_scores = []\n",
        "test_scores = []\n",
        "exec_times = []"
      ],
      "execution_count": 0,
      "outputs": []
    },
    {
      "cell_type": "code",
      "metadata": {
        "id": "1Ku0_wKaihCw",
        "colab_type": "code",
        "outputId": "12c60e78-e77c-4ef4-f881-e7f6dbc98223",
        "colab": {
          "base_uri": "https://localhost:8080/",
          "height": 714
        }
      },
      "source": [
        "%%time\n",
        "## linear\n",
        "clf = SVC(kernel='linear',max_iter=100)\n",
        "start =  time.clock()\n",
        "clf.fit(X_train,y_train)\n",
        "end_train = time.clock()\n",
        "print(\"Training execution time :\", end_train - start)\n",
        "y_pred = clf.predict(X_test)\n",
        "end_pred = time.clock() \n",
        "print(\"Prediction time :\", end_pred - end_train)\n",
        "print(\"Classification report for classifier %s:\\n%s\\n\" % (clf, classification_report(y_test, y_pred)))\n",
        "print(\"Confusion matrix:\\n%s\" % confusion_matrix(y_test, y_pred))\n",
        "\n",
        "train_scores.append(clf.score(X_train,y_train))\n",
        "test_scores.append(clf.score(X_test,y_test))\n",
        "exec_times.append(end_train-start)"
      ],
      "execution_count": 0,
      "outputs": [
        {
          "output_type": "stream",
          "text": [
            "/usr/local/lib/python3.6/dist-packages/sklearn/svm/base.py:241: ConvergenceWarning: Solver terminated early (max_iter=100).  Consider pre-processing your data with StandardScaler or MinMaxScaler.\n",
            "  % self.max_iter, ConvergenceWarning)\n"
          ],
          "name": "stderr"
        },
        {
          "output_type": "stream",
          "text": [
            "Training execution time : 76.51933499999996\n",
            "Prediction time : 89.02673400000003\n",
            "Classification report for classifier SVC(C=1.0, cache_size=200, class_weight=None, coef0=0.0,\n",
            "    decision_function_shape='ovr', degree=3, gamma='auto_deprecated',\n",
            "    kernel='linear', max_iter=100, probability=False, random_state=None,\n",
            "    shrinking=True, tol=0.001, verbose=False):\n",
            "              precision    recall  f1-score   support\n",
            "\n",
            "           0       0.89      0.93      0.91      1966\n",
            "           1       0.84      0.93      0.88      2388\n",
            "           2       0.68      0.77      0.72      2074\n",
            "           3       0.61      0.73      0.67      2134\n",
            "           4       0.70      0.80      0.75      2006\n",
            "           5       0.73      0.65      0.69      1947\n",
            "           6       0.89      0.72      0.80      2023\n",
            "           7       0.85      0.76      0.80      2236\n",
            "           8       0.61      0.50      0.55      2107\n",
            "           9       0.65      0.63      0.64      2119\n",
            "\n",
            "    accuracy                           0.74     21000\n",
            "   macro avg       0.75      0.74      0.74     21000\n",
            "weighted avg       0.75      0.74      0.74     21000\n",
            "\n",
            "\n",
            "Confusion matrix:\n",
            "[[1835    3   62   13    4   28   13    2    6    0]\n",
            " [   0 2217   15    6    2    5    1    5  131    6]\n",
            " [  33  153 1596  101   46    9   65   31   36    4]\n",
            " [  14   65   91 1566    6  110    1   23  202   56]\n",
            " [  10   10   61    0 1607    2   50   17    7  242]\n",
            " [  49   26   71  240   48 1260   27    6  175   45]\n",
            " [  41    3  230    6   61  147 1453    2   80    0]\n",
            " [   9   29   30   76   63    7    1 1695    6  320]\n",
            " [  54  116  145  512   29  138   12   15 1048   38]\n",
            " [  27   15   55   34  422   12    1  199   15 1339]]\n",
            "CPU times: user 7min 43s, sys: 70 ms, total: 7min 43s\n",
            "Wall time: 7min 43s\n"
          ],
          "name": "stdout"
        }
      ]
    },
    {
      "cell_type": "code",
      "metadata": {
        "id": "PKuTlTDa--My",
        "colab_type": "code",
        "outputId": "715a36c4-8b01-4794-b0ee-eed68c98e1d9",
        "colab": {
          "base_uri": "https://localhost:8080/",
          "height": 714
        }
      },
      "source": [
        "%%time\n",
        "## poly\n",
        "clf = SVC(kernel='poly',gamma='scale',max_iter=100)\n",
        "start =  time.clock()\n",
        "clf.fit(X_train,y_train)\n",
        "end_train = time.clock()\n",
        "print(\"Training execution time :\", end_train - start)\n",
        "y_pred = clf.predict(X_test)\n",
        "end_pred = time.clock() \n",
        "print(\"Prediction time :\", end_pred - end_train)\n",
        "print(\"Classification report for classifier %s:\\n%s\\n\" % (clf, classification_report(y_test, y_pred)))\n",
        "print(\"Confusion matrix:\\n%s\" % confusion_matrix(y_test, y_pred))\n",
        "\n",
        "train_scores.append(clf.score(X_train,y_train))\n",
        "test_scores.append(clf.score(X_test,y_test))\n",
        "exec_times.append(end_train-start)"
      ],
      "execution_count": 0,
      "outputs": [
        {
          "output_type": "stream",
          "text": [
            "/usr/local/lib/python3.6/dist-packages/sklearn/svm/base.py:241: ConvergenceWarning: Solver terminated early (max_iter=100).  Consider pre-processing your data with StandardScaler or MinMaxScaler.\n",
            "  % self.max_iter, ConvergenceWarning)\n"
          ],
          "name": "stderr"
        },
        {
          "output_type": "stream",
          "text": [
            "Training execution time : 96.4804779999995\n",
            "Prediction time : 51.10190500000044\n",
            "Classification report for classifier SVC(C=1.0, cache_size=200, class_weight=None, coef0=0.0,\n",
            "    decision_function_shape='ovr', degree=3, gamma='scale', kernel='poly',\n",
            "    max_iter=100, probability=False, random_state=None, shrinking=True,\n",
            "    tol=0.001, verbose=False):\n",
            "              precision    recall  f1-score   support\n",
            "\n",
            "           0       0.90      0.94      0.92      1966\n",
            "           1       0.99      0.14      0.24      2388\n",
            "           2       0.83      0.61      0.71      2074\n",
            "           3       0.89      0.31      0.46      2134\n",
            "           4       0.89      0.13      0.23      2006\n",
            "           5       0.93      0.36      0.52      1947\n",
            "           6       0.88      0.92      0.90      2023\n",
            "           7       0.70      0.25      0.37      2236\n",
            "           8       0.39      0.79      0.53      2107\n",
            "           9       0.25      0.95      0.39      2119\n",
            "\n",
            "    accuracy                           0.53     21000\n",
            "   macro avg       0.77      0.54      0.53     21000\n",
            "weighted avg       0.76      0.53      0.52     21000\n",
            "\n",
            "\n",
            "Confusion matrix:\n",
            "[[1857    0    1    1    1    0   25    1    7   73]\n",
            " [   0  329    1    2    0    0    5  143 1150  758]\n",
            " [  30    1 1274    1    0    0  130   74  410  154]\n",
            " [  14    1  109  667    0   39   12   17  788  487]\n",
            " [  10    0   20    1  268    0   19    0    4 1684]\n",
            " [  38    0   23   57    0  709   54    0  169  897]\n",
            " [  38    0   12    0    0   12 1865    0   11   85]\n",
            " [   3    0   26    2    6    0    1  558    8 1632]\n",
            " [  38    0   46    8    0    4    9    2 1670  330]\n",
            " [  28    0   18   10   27    1    2    4   14 2015]]\n",
            "CPU times: user 5min 18s, sys: 50 ms, total: 5min 18s\n",
            "Wall time: 5min 18s\n"
          ],
          "name": "stdout"
        }
      ]
    },
    {
      "cell_type": "code",
      "metadata": {
        "id": "R785JvJdEiP3",
        "colab_type": "code",
        "outputId": "854ddd28-59ed-43cf-c6f8-c88cf0e2315a",
        "colab": {
          "base_uri": "https://localhost:8080/",
          "height": 714
        }
      },
      "source": [
        "%%time\n",
        "## rbf\n",
        "clf = SVC(kernel='rbf', gamma='scale',max_iter=100)\n",
        "start =  time.clock()\n",
        "clf.fit(X_train,y_train)\n",
        "end_train = time.clock()\n",
        "print(\"Training execution time :\", end_train - start)\n",
        "y_pred = clf.predict(X_test)\n",
        "end_pred = time.clock() \n",
        "print(\"Prediction time :\", end_pred - end_train)\n",
        "print(\"Classification report for classifier %s:\\n%s\\n\" % (clf, classification_report(y_test, y_pred)))\n",
        "print(\"Confusion matrix:\\n%s\" % confusion_matrix(y_test, y_pred))\n",
        "\n",
        "train_scores.append(clf.score(X_train,y_train))\n",
        "test_scores.append(clf.score(X_test,y_test))\n",
        "exec_times.append(end_train-start)"
      ],
      "execution_count": 0,
      "outputs": [
        {
          "output_type": "stream",
          "text": [
            "/usr/local/lib/python3.6/dist-packages/sklearn/svm/base.py:241: ConvergenceWarning: Solver terminated early (max_iter=100).  Consider pre-processing your data with StandardScaler or MinMaxScaler.\n",
            "  % self.max_iter, ConvergenceWarning)\n"
          ],
          "name": "stderr"
        },
        {
          "output_type": "stream",
          "text": [
            "Training execution time : 97.06890600000042\n",
            "Prediction time : 92.5181249999996\n",
            "Classification report for classifier SVC(C=1.0, cache_size=200, class_weight=None, coef0=0.0,\n",
            "    decision_function_shape='ovr', degree=3, gamma='scale', kernel='rbf',\n",
            "    max_iter=100, probability=False, random_state=None, shrinking=True,\n",
            "    tol=0.001, verbose=False):\n",
            "              precision    recall  f1-score   support\n",
            "\n",
            "           0       0.98      0.99      0.98      1966\n",
            "           1       0.98      0.99      0.99      2388\n",
            "           2       0.94      0.96      0.95      2074\n",
            "           3       0.94      0.93      0.93      2134\n",
            "           4       0.94      0.89      0.91      2006\n",
            "           5       0.95      0.93      0.94      1947\n",
            "           6       0.97      0.98      0.98      2023\n",
            "           7       0.91      0.92      0.92      2236\n",
            "           8       0.96      0.93      0.95      2107\n",
            "           9       0.83      0.88      0.86      2119\n",
            "\n",
            "    accuracy                           0.94     21000\n",
            "   macro avg       0.94      0.94      0.94     21000\n",
            "weighted avg       0.94      0.94      0.94     21000\n",
            "\n",
            "\n",
            "Confusion matrix:\n",
            "[[1937    1    5    0    2    5    8    2    4    2]\n",
            " [   1 2361    7    0    1    0    1    5    8    4]\n",
            " [   3    6 1981   15   10    0    5   31   19    4]\n",
            " [   0    4   34 1974    0   58    1   22   24   17]\n",
            " [   1    5    8    1 1791    0    6    2    1  191]\n",
            " [   9    1    6   55    6 1819   21    1   19   10]\n",
            " [   5    4    2    1    3   15 1985    0    8    0]\n",
            " [   4    9   25    1   21    1    0 2050    0  125]\n",
            " [   5    7   20   45    3   16    9    5 1968   29]\n",
            " [  10    1   11   10   77   10    1  125    5 1869]]\n",
            "CPU times: user 8min 24s, sys: 41 ms, total: 8min 24s\n",
            "Wall time: 8min 24s\n"
          ],
          "name": "stdout"
        }
      ]
    },
    {
      "cell_type": "code",
      "metadata": {
        "id": "UIhw8sahEkkg",
        "colab_type": "code",
        "outputId": "c0fcdcbc-04d6-4f33-eef5-979b2b46cfae",
        "colab": {
          "base_uri": "https://localhost:8080/",
          "height": 714
        }
      },
      "source": [
        "%%time\n",
        "## sigmoid\n",
        "clf = SVC(kernel='sigmoid',gamma='scale',max_iter=100)\n",
        "start =  time.clock()\n",
        "clf.fit(X_train,y_train)\n",
        "end_train = time.clock()\n",
        "print(\"Training execution time :\", end_train - start)\n",
        "y_pred = clf.predict(X_test)\n",
        "end_pred = time.clock() \n",
        "print(\"Prediction time :\", end_pred - end_train)\n",
        "print(\"Classification report for classifier %s:\\n%s\\n\" % (clf, classification_report(y_test, y_pred)))\n",
        "print(\"Confusion matrix:\\n%s\" % confusion_matrix(y_test, y_pred))\n",
        "\n",
        "train_scores.append(clf.score(X_train,y_train))\n",
        "test_scores.append(clf.score(X_test,y_test))\n",
        "exec_times.append(end_train-start)"
      ],
      "execution_count": 0,
      "outputs": [
        {
          "output_type": "stream",
          "text": [
            "/usr/local/lib/python3.6/dist-packages/sklearn/svm/base.py:241: ConvergenceWarning: Solver terminated early (max_iter=100).  Consider pre-processing your data with StandardScaler or MinMaxScaler.\n",
            "  % self.max_iter, ConvergenceWarning)\n"
          ],
          "name": "stderr"
        },
        {
          "output_type": "stream",
          "text": [
            "Training execution time : 100.34785900000043\n",
            "Prediction time : 84.77414899999985\n",
            "Classification report for classifier SVC(C=1.0, cache_size=200, class_weight=None, coef0=0.0,\n",
            "    decision_function_shape='ovr', degree=3, gamma='scale', kernel='sigmoid',\n",
            "    max_iter=100, probability=False, random_state=None, shrinking=True,\n",
            "    tol=0.001, verbose=False):\n",
            "              precision    recall  f1-score   support\n",
            "\n",
            "           0       0.84      0.44      0.58      1966\n",
            "           1       0.87      0.78      0.82      2388\n",
            "           2       0.42      0.08      0.14      2074\n",
            "           3       0.57      0.03      0.06      2134\n",
            "           4       0.67      0.08      0.15      2006\n",
            "           5       0.46      0.20      0.28      1947\n",
            "           6       0.59      0.86      0.70      2023\n",
            "           7       0.77      0.21      0.33      2236\n",
            "           8       0.22      0.65      0.33      2107\n",
            "           9       0.30      0.91      0.45      2119\n",
            "\n",
            "    accuracy                           0.43     21000\n",
            "   macro avg       0.57      0.43      0.38     21000\n",
            "weighted avg       0.57      0.43      0.39     21000\n",
            "\n",
            "\n",
            "Confusion matrix:\n",
            "[[ 872    0    3    1    3   88  313    2  620   64]\n",
            " [   0 1869  117    2    0   20    7   16  346   11]\n",
            " [  23   96  171    4   14   13  533   22 1056  142]\n",
            " [  24   30   20   68    0  210   53   23 1419  287]\n",
            " [   1    7    0    2  168   14  100    8   45 1661]\n",
            " [  50   68    4   20   23  385  120   13  958  306]\n",
            " [  20   12   39    6   11   17 1743    2  157   16]\n",
            " [   5    9   15    5    8    5    1  477   58 1653]\n",
            " [  31   60   36    8    2   69   75    4 1370  452]\n",
            " [  13    7    3    3   23   25    5   55   62 1923]]\n",
            "CPU times: user 7min 48s, sys: 26 ms, total: 7min 48s\n",
            "Wall time: 7min 48s\n"
          ],
          "name": "stdout"
        }
      ]
    },
    {
      "cell_type": "code",
      "metadata": {
        "id": "NCqBGylcEofY",
        "colab_type": "code",
        "colab": {}
      },
      "source": [
        "## precomputed\n",
        "# clf = SVC(kernel='precomputed')\n",
        "# start =  time.clock()\n",
        "# clf.fit(X_train,y_train)\n",
        "# end_train = time.clock()\n",
        "# print(\"Training execution time :\", end_train - start)\n",
        "# y_pred = clf.predict(X_test)\n",
        "# end_pred = time.clock() \n",
        "# print(\"Prediction time :\", end_pred - end_train)\n",
        "# print(\"Classification report for classifier %s:\\n%s\\n\" % (clf, classification_report(y_test, y_pred)))\n",
        "# print(\"Confusion matrix:\\n%s\" % confusion_matrix(y_test, y_pred))\n",
        "\n",
        "# scores.append(clf.score(X_test,y_test))\n",
        "# exec_times.append(end_train-start)"
      ],
      "execution_count": 0,
      "outputs": []
    },
    {
      "cell_type": "code",
      "metadata": {
        "id": "3dN0Bqmiinxb",
        "colab_type": "code",
        "outputId": "91a121a4-3b8a-455c-fb10-e60bc483c874",
        "colab": {
          "base_uri": "https://localhost:8080/",
          "height": 516
        }
      },
      "source": [
        "## PLOT\n",
        "kernels = ('linear', 'poly', 'rbf', 'sigmoid')\n",
        "y_pos = np.arange(len(kernels))\n",
        "bar_width = 0.35\n",
        "opacity = 0.8\n",
        "\n",
        "plt.figure(figsize=(12,8))\n",
        "plt.subplot(121)\n",
        "plt.bar(y_pos,train_scores,bar_width,align='center',alpha=opacity,label='train_acc')\n",
        "plt.bar(y_pos+bar_width,test_scores,bar_width,align='center',alpha=opacity,label='test_acc')\n",
        "plt.xticks(y_pos+bar_width/2,kernels)\n",
        "plt.ylabel('Accuracy')\n",
        "plt.legend()\n",
        "plt.title('Accuracy / kernel')\n",
        "\n",
        "plt.subplot(122)\n",
        "plt.bar(y_pos,exec_times,bar_width,align='center',alpha=opacity,label='exec_time')\n",
        "plt.xticks(y_pos,kernels)\n",
        "plt.ylabel('CPU Time (s)')\n",
        "plt.legend()\n",
        "plt.title('Training time / kernel')\n",
        "\n",
        "plt.show()\n",
        "plt.savefig('TP3-kernel.png')"
      ],
      "execution_count": 0,
      "outputs": [
        {
          "output_type": "display_data",
          "data": {
            "image/png": "[encoded data removed]",
            "text/plain": [
              "<Figure size 864x576 with 2 Axes>"
            ]
          },
          "metadata": {
            "tags": []
          }
        },
        {
          "output_type": "display_data",
          "data": {
            "text/plain": [
              "<Figure size 432x288 with 0 Axes>"
            ]
          },
          "metadata": {
            "tags": []
          }
        }
      ]
    },
    {
      "cell_type": "markdown",
      "metadata": {
        "id": "wVLyJ8SLk-Qx",
        "colab_type": "text"
      },
      "source": [
        "### ***2. Penalty parameter C of the error term***"
      ]
    },
    {
      "cell_type": "code",
      "metadata": {
        "id": "_ucSE_o2jv7P",
        "colab_type": "code",
        "outputId": "e9ef0c99-d424-4856-9bd2-e6e2c0f118f4",
        "colab": {
          "base_uri": "https://localhost:8080/",
          "height": 1000
        }
      },
      "source": [
        "%%time\n",
        "c_settings = np.array([0.1,0.25,0.5,0.75,1.0])\n",
        "n_iters = np.array([0,20,40,60,80,100])\n",
        "all_scores = []\n",
        "# all_times = []\n",
        "for c in c_settings : \n",
        "    print(\"With C={}...\".format(c))\n",
        "    train_time, test_scores = [], []\n",
        "    for it in n_iters:\n",
        "        clf = SVC(kernel='linear', C=c, max_iter=it)\n",
        "        # start = time.clock()\n",
        "        clf.fit(X_train,y_train)\n",
        "        # exec_time = time.clock() - start\n",
        "        # train_time.append(exec_time)\n",
        "        test_scores.append(clf.score(X_test,y_test))\n",
        "    # all_times.append(train_time)\n",
        "    all_scores.append(test_scores)"
      ],
      "execution_count": 0,
      "outputs": [
        {
          "output_type": "stream",
          "text": [
            "With C=0.1...\n"
          ],
          "name": "stdout"
        },
        {
          "output_type": "stream",
          "text": [
            "/usr/local/lib/python3.6/dist-packages/sklearn/svm/base.py:241: ConvergenceWarning: Solver terminated early (max_iter=0).  Consider pre-processing your data with StandardScaler or MinMaxScaler.\n",
            "  % self.max_iter, ConvergenceWarning)\n",
            "/usr/local/lib/python3.6/dist-packages/sklearn/svm/base.py:241: ConvergenceWarning: Solver terminated early (max_iter=20).  Consider pre-processing your data with StandardScaler or MinMaxScaler.\n",
            "  % self.max_iter, ConvergenceWarning)\n",
            "/usr/local/lib/python3.6/dist-packages/sklearn/svm/base.py:241: ConvergenceWarning: Solver terminated early (max_iter=40).  Consider pre-processing your data with StandardScaler or MinMaxScaler.\n",
            "  % self.max_iter, ConvergenceWarning)\n",
            "/usr/local/lib/python3.6/dist-packages/sklearn/svm/base.py:241: ConvergenceWarning: Solver terminated early (max_iter=60).  Consider pre-processing your data with StandardScaler or MinMaxScaler.\n",
            "  % self.max_iter, ConvergenceWarning)\n",
            "/usr/local/lib/python3.6/dist-packages/sklearn/svm/base.py:241: ConvergenceWarning: Solver terminated early (max_iter=80).  Consider pre-processing your data with StandardScaler or MinMaxScaler.\n",
            "  % self.max_iter, ConvergenceWarning)\n",
            "/usr/local/lib/python3.6/dist-packages/sklearn/svm/base.py:241: ConvergenceWarning: Solver terminated early (max_iter=100).  Consider pre-processing your data with StandardScaler or MinMaxScaler.\n",
            "  % self.max_iter, ConvergenceWarning)\n"
          ],
          "name": "stderr"
        },
        {
          "output_type": "stream",
          "text": [
            "With C=0.25...\n"
          ],
          "name": "stdout"
        },
        {
          "output_type": "stream",
          "text": [
            "/usr/local/lib/python3.6/dist-packages/sklearn/svm/base.py:241: ConvergenceWarning: Solver terminated early (max_iter=0).  Consider pre-processing your data with StandardScaler or MinMaxScaler.\n",
            "  % self.max_iter, ConvergenceWarning)\n",
            "/usr/local/lib/python3.6/dist-packages/sklearn/svm/base.py:241: ConvergenceWarning: Solver terminated early (max_iter=20).  Consider pre-processing your data with StandardScaler or MinMaxScaler.\n",
            "  % self.max_iter, ConvergenceWarning)\n",
            "/usr/local/lib/python3.6/dist-packages/sklearn/svm/base.py:241: ConvergenceWarning: Solver terminated early (max_iter=40).  Consider pre-processing your data with StandardScaler or MinMaxScaler.\n",
            "  % self.max_iter, ConvergenceWarning)\n",
            "/usr/local/lib/python3.6/dist-packages/sklearn/svm/base.py:241: ConvergenceWarning: Solver terminated early (max_iter=60).  Consider pre-processing your data with StandardScaler or MinMaxScaler.\n",
            "  % self.max_iter, ConvergenceWarning)\n",
            "/usr/local/lib/python3.6/dist-packages/sklearn/svm/base.py:241: ConvergenceWarning: Solver terminated early (max_iter=80).  Consider pre-processing your data with StandardScaler or MinMaxScaler.\n",
            "  % self.max_iter, ConvergenceWarning)\n",
            "/usr/local/lib/python3.6/dist-packages/sklearn/svm/base.py:241: ConvergenceWarning: Solver terminated early (max_iter=100).  Consider pre-processing your data with StandardScaler or MinMaxScaler.\n",
            "  % self.max_iter, ConvergenceWarning)\n"
          ],
          "name": "stderr"
        },
        {
          "output_type": "stream",
          "text": [
            "With C=0.5...\n"
          ],
          "name": "stdout"
        },
        {
          "output_type": "stream",
          "text": [
            "/usr/local/lib/python3.6/dist-packages/sklearn/svm/base.py:241: ConvergenceWarning: Solver terminated early (max_iter=0).  Consider pre-processing your data with StandardScaler or MinMaxScaler.\n",
            "  % self.max_iter, ConvergenceWarning)\n",
            "/usr/local/lib/python3.6/dist-packages/sklearn/svm/base.py:241: ConvergenceWarning: Solver terminated early (max_iter=20).  Consider pre-processing your data with StandardScaler or MinMaxScaler.\n",
            "  % self.max_iter, ConvergenceWarning)\n",
            "/usr/local/lib/python3.6/dist-packages/sklearn/svm/base.py:241: ConvergenceWarning: Solver terminated early (max_iter=40).  Consider pre-processing your data with StandardScaler or MinMaxScaler.\n",
            "  % self.max_iter, ConvergenceWarning)\n",
            "/usr/local/lib/python3.6/dist-packages/sklearn/svm/base.py:241: ConvergenceWarning: Solver terminated early (max_iter=60).  Consider pre-processing your data with StandardScaler or MinMaxScaler.\n",
            "  % self.max_iter, ConvergenceWarning)\n",
            "/usr/local/lib/python3.6/dist-packages/sklearn/svm/base.py:241: ConvergenceWarning: Solver terminated early (max_iter=80).  Consider pre-processing your data with StandardScaler or MinMaxScaler.\n",
            "  % self.max_iter, ConvergenceWarning)\n",
            "/usr/local/lib/python3.6/dist-packages/sklearn/svm/base.py:241: ConvergenceWarning: Solver terminated early (max_iter=100).  Consider pre-processing your data with StandardScaler or MinMaxScaler.\n",
            "  % self.max_iter, ConvergenceWarning)\n"
          ],
          "name": "stderr"
        },
        {
          "output_type": "stream",
          "text": [
            "With C=0.75...\n"
          ],
          "name": "stdout"
        },
        {
          "output_type": "stream",
          "text": [
            "/usr/local/lib/python3.6/dist-packages/sklearn/svm/base.py:241: ConvergenceWarning: Solver terminated early (max_iter=0).  Consider pre-processing your data with StandardScaler or MinMaxScaler.\n",
            "  % self.max_iter, ConvergenceWarning)\n",
            "/usr/local/lib/python3.6/dist-packages/sklearn/svm/base.py:241: ConvergenceWarning: Solver terminated early (max_iter=20).  Consider pre-processing your data with StandardScaler or MinMaxScaler.\n",
            "  % self.max_iter, ConvergenceWarning)\n",
            "/usr/local/lib/python3.6/dist-packages/sklearn/svm/base.py:241: ConvergenceWarning: Solver terminated early (max_iter=40).  Consider pre-processing your data with StandardScaler or MinMaxScaler.\n",
            "  % self.max_iter, ConvergenceWarning)\n",
            "/usr/local/lib/python3.6/dist-packages/sklearn/svm/base.py:241: ConvergenceWarning: Solver terminated early (max_iter=60).  Consider pre-processing your data with StandardScaler or MinMaxScaler.\n",
            "  % self.max_iter, ConvergenceWarning)\n",
            "/usr/local/lib/python3.6/dist-packages/sklearn/svm/base.py:241: ConvergenceWarning: Solver terminated early (max_iter=80).  Consider pre-processing your data with StandardScaler or MinMaxScaler.\n",
            "  % self.max_iter, ConvergenceWarning)\n",
            "/usr/local/lib/python3.6/dist-packages/sklearn/svm/base.py:241: ConvergenceWarning: Solver terminated early (max_iter=100).  Consider pre-processing your data with StandardScaler or MinMaxScaler.\n",
            "  % self.max_iter, ConvergenceWarning)\n"
          ],
          "name": "stderr"
        },
        {
          "output_type": "stream",
          "text": [
            "With C=1.0...\n"
          ],
          "name": "stdout"
        },
        {
          "output_type": "stream",
          "text": [
            "/usr/local/lib/python3.6/dist-packages/sklearn/svm/base.py:241: ConvergenceWarning: Solver terminated early (max_iter=0).  Consider pre-processing your data with StandardScaler or MinMaxScaler.\n",
            "  % self.max_iter, ConvergenceWarning)\n",
            "/usr/local/lib/python3.6/dist-packages/sklearn/svm/base.py:241: ConvergenceWarning: Solver terminated early (max_iter=20).  Consider pre-processing your data with StandardScaler or MinMaxScaler.\n",
            "  % self.max_iter, ConvergenceWarning)\n",
            "/usr/local/lib/python3.6/dist-packages/sklearn/svm/base.py:241: ConvergenceWarning: Solver terminated early (max_iter=40).  Consider pre-processing your data with StandardScaler or MinMaxScaler.\n",
            "  % self.max_iter, ConvergenceWarning)\n",
            "/usr/local/lib/python3.6/dist-packages/sklearn/svm/base.py:241: ConvergenceWarning: Solver terminated early (max_iter=60).  Consider pre-processing your data with StandardScaler or MinMaxScaler.\n",
            "  % self.max_iter, ConvergenceWarning)\n",
            "/usr/local/lib/python3.6/dist-packages/sklearn/svm/base.py:241: ConvergenceWarning: Solver terminated early (max_iter=80).  Consider pre-processing your data with StandardScaler or MinMaxScaler.\n",
            "  % self.max_iter, ConvergenceWarning)\n",
            "/usr/local/lib/python3.6/dist-packages/sklearn/svm/base.py:241: ConvergenceWarning: Solver terminated early (max_iter=100).  Consider pre-processing your data with StandardScaler or MinMaxScaler.\n",
            "  % self.max_iter, ConvergenceWarning)\n"
          ],
          "name": "stderr"
        },
        {
          "output_type": "stream",
          "text": [
            "CPU times: user 46min 32s, sys: 288 ms, total: 46min 32s\n",
            "Wall time: 46min 34s\n"
          ],
          "name": "stdout"
        }
      ]
    },
    {
      "cell_type": "code",
      "metadata": {
        "id": "OZP_bD53ox4R",
        "colab_type": "code",
        "outputId": "dd0aac7a-f760-4e64-a311-20b86f85e7da",
        "colab": {
          "base_uri": "https://localhost:8080/",
          "height": 513
        }
      },
      "source": [
        "## PLOT\n",
        "plt.figure(figsize=(12,8))\n",
        "for i in range(len(c_settings)):\n",
        "    plt.plot(n_iters,all_scores[i],label='C={}'.format(c_settings[i]))\n",
        "    plt.scatter(n_iters,all_scores[i],marker='.')\n",
        "plt.legend(loc='best')\n",
        "plt.title(\"Test accuracy for different penalty parameter C\")\n",
        "plt.xlabel(\"Accuracy\")\n",
        "plt.ylabel(\"number of iterations\")\n",
        "\n",
        "plt.show()"
      ],
      "execution_count": 0,
      "outputs": [
        {
          "output_type": "display_data",
          "data": {
            "image/png": "[encoded data removed]",
            "text/plain": [
              "<Figure size 864x576 with 1 Axes>"
            ]
          },
          "metadata": {
            "tags": []
          }
        }
      ]
    },
    {
      "cell_type": "markdown",
      "metadata": {
        "id": "LVQ1cxEEsO25",
        "colab_type": "text"
      },
      "source": [
        "----"
      ]
    }
  ]
}