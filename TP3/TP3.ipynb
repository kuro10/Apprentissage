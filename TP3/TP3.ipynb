{
 "cells": [
  {
   "cell_type": "markdown",
   "metadata": {
    "colab_type": "text",
    "id": "yFRr4giwplyz"
   },
   "source": [
    "# TP3 : Support Vector Machine (SVM) with Sklearn"
   ]
  },
  {
   "cell_type": "code",
   "execution_count": 0,
   "metadata": {
    "colab": {},
    "colab_type": "code",
    "id": "X4X7QIbopd7t"
   },
   "outputs": [],
   "source": [
    "# import library\n",
    "import numpy as np\n",
    "import matplotlib.pyplot as plt\n",
    "import time \n",
    "\n",
    "from sklearn.datasets import fetch_mldata\n",
    "from sklearn.datasets import fetch_openml\n",
    "\n",
    "from sklearn.model_selection import train_test_split\n",
    "\n",
    "from sklearn.svm import SVC, LinearSVC, NuSVC\n",
    "\n",
    "from sklearn.metrics import precision_score, classification_report, confusion_matrix"
   ]
  },
  {
   "cell_type": "markdown",
   "metadata": {
    "colab_type": "text",
    "id": "9ip_w-ZRZgef"
   },
   "source": [
    "## Load MNIST dataset"
   ]
  },
  {
   "cell_type": "code",
   "execution_count": 0,
   "metadata": {
    "colab": {},
    "colab_type": "code",
    "id": "nx5AjMo5ZdyI"
   },
   "outputs": [],
   "source": [
    "# import data\n",
    "mnist = fetch_openml('mnist_784')"
   ]
  },
  {
   "cell_type": "code",
   "execution_count": 3,
   "metadata": {
    "colab": {
     "base_uri": "https://localhost:8080/",
     "height": 72
    },
    "colab_type": "code",
    "executionInfo": {
     "elapsed": 17317,
     "status": "ok",
     "timestamp": 1574257661609,
     "user": {
      "displayName": "Hiếu Trần Trọng",
      "photoUrl": "https://lh3.googleusercontent.com/a-/AAuE7mBhOdev_lFHKv7O494k8FIEAxt2ZY8_mJrG9mE-Sg=s64",
      "userId": "10158848389470326230"
     },
     "user_tz": -60
    },
    "id": "MNRCuPq1Zq9K",
    "outputId": "13273f1a-66e3-4989-f790-7deef120745e"
   },
   "outputs": [
    {
     "name": "stdout",
     "output_type": "stream",
     "text": [
      "Shape of training images :  (70000, 28, 28)\n",
      "Shape of training data :  (70000, 784)\n",
      "Shape of label :  (70000,)\n"
     ]
    }
   ],
   "source": [
    "images = mnist.data.reshape((-1,28,28))\n",
    "data = mnist.data / 255\n",
    "labels = mnist.target\n",
    "print(\"Shape of training images : \", images.shape)\n",
    "print(\"Shape of training data : \", data.shape)\n",
    "print(\"Shape of label : \", labels.shape)"
   ]
  },
  {
   "cell_type": "code",
   "execution_count": 4,
   "metadata": {
    "colab": {
     "base_uri": "https://localhost:8080/",
     "height": 35
    },
    "colab_type": "code",
    "executionInfo": {
     "elapsed": 17722,
     "status": "ok",
     "timestamp": 1574257374862,
     "user": {
      "displayName": "Hiếu Trần Trọng",
      "photoUrl": "https://lh3.googleusercontent.com/a-/AAuE7mBhOdev_lFHKv7O494k8FIEAxt2ZY8_mJrG9mE-Sg=s64",
      "userId": "10158848389470326230"
     },
     "user_tz": -60
    },
    "id": "oVu83g_Vf6W7",
    "outputId": "85a65d63-9088-4e5a-eb8e-8210985b2160"
   },
   "outputs": [
    {
     "name": "stdout",
     "output_type": "stream",
     "text": [
      "['0' '1' '2' '3' '4' '5' '6' '7' '8' '9']\n"
     ]
    }
   ],
   "source": [
    "target_list = np.unique(mnist.target)\n",
    "print(target_list)"
   ]
  },
  {
   "cell_type": "markdown",
   "metadata": {
    "colab_type": "text",
    "id": "CstgHGJrZsK4"
   },
   "source": [
    "## Split training & test set"
   ]
  },
  {
   "cell_type": "code",
   "execution_count": 4,
   "metadata": {
    "colab": {
     "base_uri": "https://localhost:8080/",
     "height": 90
    },
    "colab_type": "code",
    "executionInfo": {
     "elapsed": 2327,
     "status": "ok",
     "timestamp": 1574257665024,
     "user": {
      "displayName": "Hiếu Trần Trọng",
      "photoUrl": "https://lh3.googleusercontent.com/a-/AAuE7mBhOdev_lFHKv7O494k8FIEAxt2ZY8_mJrG9mE-Sg=s64",
      "userId": "10158848389470326230"
     },
     "user_tz": -60
    },
    "id": "_CoCM3pWZrUJ",
    "outputId": "69c8629a-f079-42ad-8aa2-0bf0179e5144"
   },
   "outputs": [
    {
     "name": "stdout",
     "output_type": "stream",
     "text": [
      "Traning data shape :  (35000, 784)\n",
      "Traning target shape :  (35000,)\n",
      "Testing data shape :  (35000, 784)\n",
      "Testing target shape :  (35000,)\n"
     ]
    }
   ],
   "source": [
    "X_train, X_test, y_train, y_test = train_test_split(data,labels,train_size=0.7)\n",
    "print(\"Traning data shape : \", X_train.shape)\n",
    "print(\"Traning target shape : \", y_train.shape)\n",
    "print(\"Testing data shape : \", X_test.shape)\n",
    "print(\"Testing target shape : \", y_test.shape)"
   ]
  },
  {
   "cell_type": "markdown",
   "metadata": {
    "colab_type": "text",
    "id": "HneYooX0sbnz"
   },
   "source": [
    "## Create a SVM classifier"
   ]
  },
  {
   "cell_type": "code",
   "execution_count": 6,
   "metadata": {
    "colab": {
     "base_uri": "https://localhost:8080/",
     "height": 127
    },
    "colab_type": "code",
    "executionInfo": {
     "elapsed": 5698,
     "status": "ok",
     "timestamp": 1574257324423,
     "user": {
      "displayName": "Hiếu Trần Trọng",
      "photoUrl": "https://lh3.googleusercontent.com/a-/AAuE7mBhOdev_lFHKv7O494k8FIEAxt2ZY8_mJrG9mE-Sg=s64",
      "userId": "10158848389470326230"
     },
     "user_tz": -60
    },
    "id": "h8Wm6VAOsbSj",
    "outputId": "3ac119b2-a8b0-4f84-d36e-9f690592a55f"
   },
   "outputs": [
    {
     "name": "stderr",
     "output_type": "stream",
     "text": [
      "/usr/local/lib/python3.6/dist-packages/sklearn/svm/base.py:929: ConvergenceWarning: Liblinear failed to converge, increase the number of iterations.\n",
      "  \"the number of iterations.\", ConvergenceWarning)\n"
     ]
    },
    {
     "data": {
      "text/plain": [
       "LinearSVC(C=1.0, class_weight=None, dual=True, fit_intercept=True,\n",
       "          intercept_scaling=1, loss='squared_hinge', max_iter=1000,\n",
       "          multi_class='ovr', penalty='l2', random_state=None, tol=0.0001,\n",
       "          verbose=0)"
      ]
     },
     "execution_count": 6,
     "metadata": {
      "tags": []
     },
     "output_type": "execute_result"
    }
   ],
   "source": [
    "# clf = SVC(gamma='scale', decision_function_shape='ovo')\n",
    "clf = LinearSVC()\n",
    "clf.fit(X_train,y_train)"
   ]
  },
  {
   "cell_type": "markdown",
   "metadata": {
    "colab_type": "text",
    "id": "c0sQiVdDtZzA"
   },
   "source": [
    "## Prediction score"
   ]
  },
  {
   "cell_type": "code",
   "execution_count": 8,
   "metadata": {
    "colab": {
     "base_uri": "https://localhost:8080/",
     "height": 35
    },
    "colab_type": "code",
    "executionInfo": {
     "elapsed": 87835,
     "status": "ok",
     "timestamp": 1574257129000,
     "user": {
      "displayName": "Hiếu Trần Trọng",
      "photoUrl": "https://lh3.googleusercontent.com/a-/AAuE7mBhOdev_lFHKv7O494k8FIEAxt2ZY8_mJrG9mE-Sg=s64",
      "userId": "10158848389470326230"
     },
     "user_tz": -60
    },
    "id": "A1a9D3UxsbHy",
    "outputId": "0875d42b-3f67-43ba-f6c4-100384325832"
   },
   "outputs": [
    {
     "data": {
      "text/plain": [
       "array(['8', '6', '0', ..., '0', '7', '1'], dtype=object)"
      ]
     },
     "execution_count": 8,
     "metadata": {
      "tags": []
     },
     "output_type": "execute_result"
    }
   ],
   "source": [
    "y_pred = clf.predict(X_test)\n",
    "y_pred\n",
    "# precision_score(y_test,y_pred,labels = target_list,average='micro')"
   ]
  },
  {
   "cell_type": "code",
   "execution_count": 9,
   "metadata": {
    "colab": {
     "base_uri": "https://localhost:8080/",
     "height": 623
    },
    "colab_type": "code",
    "executionInfo": {
     "elapsed": 1566,
     "status": "ok",
     "timestamp": 1574257131783,
     "user": {
      "displayName": "Hiếu Trần Trọng",
      "photoUrl": "https://lh3.googleusercontent.com/a-/AAuE7mBhOdev_lFHKv7O494k8FIEAxt2ZY8_mJrG9mE-Sg=s64",
      "userId": "10158848389470326230"
     },
     "user_tz": -60
    },
    "id": "8ZABSRDDsaxJ",
    "outputId": "0553e6a5-2862-44fb-b480-4424582839c0"
   },
   "outputs": [
    {
     "name": "stdout",
     "output_type": "stream",
     "text": [
      "Classification report for classifier LinearSVC(C=1.0, class_weight=None, dual=True, fit_intercept=True,\n",
      "          intercept_scaling=1, loss='squared_hinge', max_iter=1000,\n",
      "          multi_class='ovr', penalty='l2', random_state=None, tol=0.0001,\n",
      "          verbose=0):\n",
      "              precision    recall  f1-score   support\n",
      "\n",
      "           0       0.95      0.97      0.96      2084\n",
      "           1       0.94      0.98      0.96      2376\n",
      "           2       0.91      0.90      0.90      2102\n",
      "           3       0.90      0.88      0.89      2111\n",
      "           4       0.92      0.93      0.92      2036\n",
      "           5       0.88      0.86      0.87      1912\n",
      "           6       0.94      0.96      0.95      2073\n",
      "           7       0.92      0.93      0.93      2202\n",
      "           8       0.90      0.84      0.87      2024\n",
      "           9       0.88      0.88      0.88      2080\n",
      "\n",
      "    accuracy                           0.91     21000\n",
      "   macro avg       0.91      0.91      0.91     21000\n",
      "weighted avg       0.91      0.91      0.91     21000\n",
      "\n",
      "\n",
      "Confusion matrix:\n",
      "[[2031    1    6    4    5   11    8    3   13    2]\n",
      " [   1 2326   14    0    3   11    2    3   12    4]\n",
      " [  23   24 1882   23   26   13   28   33   39   11]\n",
      " [   8   18   64 1859    3   58   13   22   37   29]\n",
      " [   5    6   14    5 1889    5   11    9   21   71]\n",
      " [  27   13   14   73   29 1644   39    9   42   22]\n",
      " [  13    5   16    2   11   34 1981    0   10    1]\n",
      " [   2   12   22    8   16    6    2 2058    7   69]\n",
      " [  19   55   35   50   15   69   22   11 1708   40]\n",
      " [  16    6    8   37   65   20    0   84   17 1827]]\n"
     ]
    }
   ],
   "source": [
    "print(\"Classification report for classifier %s:\\n%s\\n\"\n",
    "      % (clf, classification_report(y_test, y_pred)))\n",
    "print(\"Confusion matrix:\\n%s\" % confusion_matrix(y_test, y_pred))"
   ]
  },
  {
   "cell_type": "markdown",
   "metadata": {
    "colab_type": "text",
    "id": "Ewv2j4ZJ-42D"
   },
   "source": [
    "## Test noyal function "
   ]
  },
  {
   "cell_type": "code",
   "execution_count": 0,
   "metadata": {
    "colab": {
     "base_uri": "https://localhost:8080/",
     "height": 74
    },
    "colab_type": "code",
    "id": "PKuTlTDa--My",
    "outputId": "ad7c7414-60fa-4e72-b7e7-a3c8cdf777d2"
   },
   "outputs": [
    {
     "name": "stderr",
     "output_type": "stream",
     "text": [
      "/usr/local/lib/python3.6/dist-packages/sklearn/svm/base.py:193: FutureWarning: The default value of gamma will change from 'auto' to 'scale' in version 0.22 to account better for unscaled features. Set gamma explicitly to 'auto' or 'scale' to avoid this warning.\n",
      "  \"avoid this warning.\", FutureWarning)\n"
     ]
    }
   ],
   "source": [
    "## poly\n",
    "clf = SVC(kernel='poly')\n",
    "start =  time.time()\n",
    "clf.fit(X_train,y_train)\n",
    "end_train = time.time()\n",
    "print(\"Training execution time :\", end_train - start)\n",
    "y_pred = clf.predict(X_test)\n",
    "end_pred = time.time() \n",
    "print(\"Prediction time :\", end_pred - end_train)\n",
    "print(\"Classification report for classifier %s:\\n%s\\n\" % (clf, classification_report(y_test, y_pred)))\n",
    "print(\"Confusion matrix:\\n%s\" % confusion_matrix(y_test, y_pred))"
   ]
  },
  {
   "cell_type": "code",
   "execution_count": 0,
   "metadata": {
    "colab": {},
    "colab_type": "code",
    "id": "R785JvJdEiP3"
   },
   "outputs": [],
   "source": [
    "## rbf\n",
    "clf = SVC(kernel='rbf')\n",
    "start =  time.time()\n",
    "clf.fit(X_train,y_train)\n",
    "end_train = time.time()\n",
    "print(\"Training execution time :\", end_train - start)\n",
    "y_pred = clf.predict(X_test)\n",
    "end_pred = time.time() \n",
    "print(\"Prediction time :\", end_pred - end_train)\n",
    "print(\"Classification report for classifier %s:\\n%s\\n\" % (clf, classification_report(y_test, y_pred)))\n",
    "print(\"Confusion matrix:\\n%s\" % confusion_matrix(y_test, y_pred))"
   ]
  },
  {
   "cell_type": "code",
   "execution_count": 0,
   "metadata": {
    "colab": {},
    "colab_type": "code",
    "id": "UIhw8sahEkkg"
   },
   "outputs": [],
   "source": [
    "## sigmoid\n",
    "clf = SVC(kernel='sigmoid')\n",
    "start =  time.time()\n",
    "clf.fit(X_train,y_train)\n",
    "end_train = time.time()\n",
    "print(\"Training execution time :\", end_train - start)\n",
    "y_pred = clf.predict(X_test)\n",
    "end_pred = time.time() \n",
    "print(\"Prediction time :\", end_pred - end_train)\n",
    "print(\"Classification report for classifier %s:\\n%s\\n\" % (clf, classification_report(y_test, y_pred)))\n",
    "print(\"Confusion matrix:\\n%s\" % confusion_matrix(y_test, y_pred))"
   ]
  },
  {
   "cell_type": "code",
   "execution_count": 0,
   "metadata": {
    "colab": {},
    "colab_type": "code",
    "id": "NCqBGylcEofY"
   },
   "outputs": [],
   "source": [
    "## precomputed\n",
    "clf = SVC(kernel='precomputed')\n",
    "start =  time.time()\n",
    "clf.fit(X_train,y_train)\n",
    "end_train = time.time()\n",
    "print(\"Training execution time :\", end_train - start)\n",
    "y_pred = clf.predict(X_test)\n",
    "end_pred = time.time() \n",
    "print(\"Prediction time :\", end_pred - end_train)\n",
    "print(\"Classification report for classifier %s:\\n%s\\n\" % (clf, classification_report(y_test, y_pred)))\n",
    "print(\"Confusion matrix:\\n%s\" % confusion_matrix(y_test, y_pred))"
   ]
  }
 ],
 "metadata": {
  "accelerator": "GPU",
  "colab": {
   "name": "TP3.ipynb",
   "provenance": [],
   "toc_visible": true
  },
  "kernelspec": {
   "display_name": "Python 3",
   "language": "python",
   "name": "python3"
  },
  "language_info": {
   "codemirror_mode": {
    "name": "ipython",
    "version": 3
   },
   "file_extension": ".py",
   "mimetype": "text/x-python",
   "name": "python",
   "nbconvert_exporter": "python",
   "pygments_lexer": "ipython3",
   "version": "3.6.9"
  }
 },
 "nbformat": 4,
 "nbformat_minor": 1
}
