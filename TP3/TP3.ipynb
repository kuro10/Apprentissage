{
  "nbformat": 4,
  "nbformat_minor": 0,
  "metadata": {
    "colab": {
      "name": "TP3.ipynb",
      "provenance": [],
      "collapsed_sections": [],
      "toc_visible": true
    },
    "kernelspec": {
      "name": "python3",
      "display_name": "Python 3"
    },
    "accelerator": "GPU"
  },
  "cells": [
    {
      "cell_type": "markdown",
      "metadata": {
        "id": "yFRr4giwplyz",
        "colab_type": "text"
      },
      "source": [
        "# TP3 : Support Vector Machine (SVM) with Sklearn"
      ]
    },
    {
      "cell_type": "code",
      "metadata": {
        "id": "X4X7QIbopd7t",
        "colab_type": "code",
        "colab": {}
      },
      "source": [
        "# import library\n",
        "import numpy as np\n",
        "import matplotlib.pyplot as plt\n",
        "import time \n",
        "\n",
        "from sklearn.datasets import fetch_openml\n",
        "\n",
        "from sklearn.model_selection import train_test_split\n",
        "\n",
        "from sklearn.svm import SVC, LinearSVC, NuSVC\n",
        "\n",
        "from sklearn.metrics import precision_score, classification_report, confusion_matrix"
      ],
      "execution_count": 0,
      "outputs": []
    },
    {
      "cell_type": "markdown",
      "metadata": {
        "id": "9ip_w-ZRZgef",
        "colab_type": "text"
      },
      "source": [
        "## Load MNIST dataset"
      ]
    },
    {
      "cell_type": "code",
      "metadata": {
        "id": "nx5AjMo5ZdyI",
        "colab_type": "code",
        "colab": {}
      },
      "source": [
        "# import data\n",
        "mnist = fetch_openml('mnist_784')"
      ],
      "execution_count": 0,
      "outputs": []
    },
    {
      "cell_type": "code",
      "metadata": {
        "id": "MNRCuPq1Zq9K",
        "colab_type": "code",
        "outputId": "4f66ad49-23d6-479a-aa91-d6c5e6e5a484",
        "colab": {
          "base_uri": "https://localhost:8080/",
          "height": 69
        }
      },
      "source": [
        "images = mnist.data.reshape((-1,28,28))\n",
        "labels = mnist.target\n",
        "print(\"Shape of training images : \", images.shape)\n",
        "print(\"Shape of training data : \", data.shape)\n",
        "print(\"Shape of label : \", labels.shape)"
      ],
      "execution_count": 12,
      "outputs": [
        {
          "output_type": "stream",
          "text": [
            "Shape of training images :  (70000, 28, 28)\n",
            "Shape of training data :  (70000, 784)\n",
            "Shape of label :  (70000,)\n"
          ],
          "name": "stdout"
        }
      ]
    },
    {
      "cell_type": "code",
      "metadata": {
        "id": "oVu83g_Vf6W7",
        "colab_type": "code",
        "outputId": "4d3bf386-1cdc-4762-9f01-552ddff2761d",
        "colab": {
          "base_uri": "https://localhost:8080/",
          "height": 34
        }
      },
      "source": [
        "target_list = np.unique(mnist.target)\n",
        "print(target_list)"
      ],
      "execution_count": 13,
      "outputs": [
        {
          "output_type": "stream",
          "text": [
            "['0' '1' '2' '3' '4' '5' '6' '7' '8' '9']\n"
          ],
          "name": "stdout"
        }
      ]
    },
    {
      "cell_type": "markdown",
      "metadata": {
        "id": "CstgHGJrZsK4",
        "colab_type": "text"
      },
      "source": [
        "## Split training & test set"
      ]
    },
    {
      "cell_type": "code",
      "metadata": {
        "id": "_CoCM3pWZrUJ",
        "colab_type": "code",
        "outputId": "c521793a-17be-41bb-9461-369f4191802b",
        "colab": {
          "base_uri": "https://localhost:8080/",
          "height": 86
        }
      },
      "source": [
        "X_train, X_test, y_train, y_test = train_test_split(data,labels,train_size=0.7)\n",
        "\n",
        "X_train, y_train = X_train[:500], y_train[:500]\n",
        "X_test, y_test = X_test[:500], y_test[:500]\n",
        "\n",
        "print(\"Training data shape : \", X_train.shape)\n",
        "print(\"Training target shape : \", y_train.shape)\n",
        "print(\"Testing data shape : \", X_test.shape)\n",
        "print(\"Testing target shape : \", y_test.shape)"
      ],
      "execution_count": 14,
      "outputs": [
        {
          "output_type": "stream",
          "text": [
            "Training data shape :  (500, 784)\n",
            "Training target shape :  (500,)\n",
            "Testing data shape :  (500, 784)\n",
            "Testing target shape :  (500,)\n"
          ],
          "name": "stdout"
        }
      ]
    },
    {
      "cell_type": "markdown",
      "metadata": {
        "id": "HneYooX0sbnz",
        "colab_type": "text"
      },
      "source": [
        "## Create a Linear SVM classifier"
      ]
    },
    {
      "cell_type": "code",
      "metadata": {
        "id": "h8Wm6VAOsbSj",
        "colab_type": "code",
        "outputId": "2b40c4ab-dede-4fed-93eb-aa37b0d15ebf",
        "colab": {
          "base_uri": "https://localhost:8080/",
          "height": 52
        }
      },
      "source": [
        "%%time \n",
        "clf = LinearSVC()\n",
        "clf.fit(X_train,y_train)"
      ],
      "execution_count": 15,
      "outputs": [
        {
          "output_type": "stream",
          "text": [
            "CPU times: user 128 ms, sys: 947 µs, total: 129 ms\n",
            "Wall time: 134 ms\n"
          ],
          "name": "stdout"
        }
      ]
    },
    {
      "cell_type": "markdown",
      "metadata": {
        "id": "c0sQiVdDtZzA",
        "colab_type": "text"
      },
      "source": [
        "## Prediction score"
      ]
    },
    {
      "cell_type": "code",
      "metadata": {
        "id": "8ZABSRDDsaxJ",
        "colab_type": "code",
        "outputId": "c6ebf174-63f4-404a-9be9-419b737de044",
        "colab": {
          "base_uri": "https://localhost:8080/",
          "height": 590
        }
      },
      "source": [
        "y_pred = clf.predict(X_test)\n",
        "print(\"Classification report for classifier %s:\\n%s\\n\"\n",
        "      % (clf, classification_report(y_test, y_pred)))\n",
        "print(\"Confusion matrix:\\n%s\" % confusion_matrix(y_test, y_pred))"
      ],
      "execution_count": 16,
      "outputs": [
        {
          "output_type": "stream",
          "text": [
            "Classification report for classifier LinearSVC(C=1.0, class_weight=None, dual=True, fit_intercept=True,\n",
            "          intercept_scaling=1, loss='squared_hinge', max_iter=1000,\n",
            "          multi_class='ovr', penalty='l2', random_state=None, tol=0.0001,\n",
            "          verbose=0):\n",
            "              precision    recall  f1-score   support\n",
            "\n",
            "           0       0.86      0.96      0.91        46\n",
            "           1       0.91      0.94      0.93        53\n",
            "           2       0.88      0.80      0.84        55\n",
            "           3       0.86      0.75      0.80        59\n",
            "           4       0.77      0.85      0.81        47\n",
            "           5       0.64      0.65      0.64        43\n",
            "           6       0.93      0.87      0.90        45\n",
            "           7       0.87      0.85      0.86        54\n",
            "           8       0.76      0.67      0.71        42\n",
            "           9       0.72      0.84      0.78        56\n",
            "\n",
            "    accuracy                           0.82       500\n",
            "   macro avg       0.82      0.82      0.82       500\n",
            "weighted avg       0.82      0.82      0.82       500\n",
            "\n",
            "\n",
            "Confusion matrix:\n",
            "[[44  0  0  0  0  1  1  0  0  0]\n",
            " [ 0 50  1  0  0  1  0  0  0  1]\n",
            " [ 0  0 44  2  2  1  2  2  2  0]\n",
            " [ 2  0  0 44  1  8  0  1  1  2]\n",
            " [ 0  1  0  0 40  0  0  0  1  5]\n",
            " [ 2  0  0  4  1 28  0  1  3  4]\n",
            " [ 2  0  2  0  0  0 39  1  0  1]\n",
            " [ 0  2  1  0  1  0  0 46  0  4]\n",
            " [ 1  2  2  1  3  4  0  0 28  1]\n",
            " [ 0  0  0  0  4  1  0  2  2 47]]\n"
          ],
          "name": "stdout"
        }
      ]
    },
    {
      "cell_type": "markdown",
      "metadata": {
        "id": "Ewv2j4ZJ-42D",
        "colab_type": "text"
      },
      "source": [
        "## **Parameter tuning for SVM**"
      ]
    },
    {
      "cell_type": "markdown",
      "metadata": {
        "id": "b-tVln7OhIcL",
        "colab_type": "text"
      },
      "source": [
        "### ***1. Kernel function***"
      ]
    },
    {
      "cell_type": "code",
      "metadata": {
        "id": "WpX0aEnxhbvI",
        "colab_type": "code",
        "colab": {}
      },
      "source": [
        "train_scores = []\n",
        "test_scores = []\n",
        "exec_times = []"
      ],
      "execution_count": 0,
      "outputs": []
    },
    {
      "cell_type": "code",
      "metadata": {
        "id": "1Ku0_wKaihCw",
        "colab_type": "code",
        "colab": {
          "base_uri": "https://localhost:8080/",
          "height": 625
        },
        "outputId": "5d057af8-4860-48e7-ac57-0b02a3b99368"
      },
      "source": [
        "## linear\n",
        "clf = SVC(kernel='linear')\n",
        "start =  time.clock()\n",
        "clf.fit(X_train,y_train)\n",
        "end_train = time.clock()\n",
        "print(\"Training execution time :\", end_train - start)\n",
        "y_pred = clf.predict(X_test)\n",
        "end_pred = time.clock() \n",
        "print(\"Prediction time :\", end_pred - end_train)\n",
        "print(\"Classification report for classifier %s:\\n%s\\n\" % (clf, classification_report(y_test, y_pred)))\n",
        "print(\"Confusion matrix:\\n%s\" % confusion_matrix(y_test, y_pred))\n",
        "\n",
        "train_scores.append(clf.score(X_train,y_train))\n",
        "test_scores.append(clf.score(X_test,y_test))\n",
        "exec_times.append(end_train-start)"
      ],
      "execution_count": 27,
      "outputs": [
        {
          "output_type": "stream",
          "text": [
            "Training execution time : 0.1640650000000079\n",
            "Prediction time : 0.1650059999999911\n",
            "Classification report for classifier SVC(C=1.0, cache_size=200, class_weight=None, coef0=0.0,\n",
            "    decision_function_shape='ovr', degree=3, gamma='auto_deprecated',\n",
            "    kernel='linear', max_iter=-1, probability=False, random_state=None,\n",
            "    shrinking=True, tol=0.001, verbose=False):\n",
            "              precision    recall  f1-score   support\n",
            "\n",
            "           0       0.88      0.98      0.93        46\n",
            "           1       0.93      0.98      0.95        53\n",
            "           2       0.91      0.89      0.90        55\n",
            "           3       0.92      0.76      0.83        59\n",
            "           4       0.91      0.91      0.91        47\n",
            "           5       0.68      0.74      0.71        43\n",
            "           6       0.87      0.87      0.87        45\n",
            "           7       0.89      0.87      0.88        54\n",
            "           8       0.88      0.71      0.79        42\n",
            "           9       0.75      0.86      0.80        56\n",
            "\n",
            "    accuracy                           0.86       500\n",
            "   macro avg       0.86      0.86      0.86       500\n",
            "weighted avg       0.86      0.86      0.86       500\n",
            "\n",
            "\n",
            "Confusion matrix:\n",
            "[[45  0  0  0  0  0  1  0  0  0]\n",
            " [ 0 52  0  1  0  0  0  0  0  0]\n",
            " [ 0  0 49  0  0  0  3  1  2  0]\n",
            " [ 1  0  0 45  0  9  0  1  1  2]\n",
            " [ 0  1  0  0 43  0  1  0  0  2]\n",
            " [ 2  1  0  3  0 32  0  0  0  5]\n",
            " [ 2  0  3  0  0  0 39  0  1  0]\n",
            " [ 0  0  0  0  1  0  0 47  0  6]\n",
            " [ 1  1  2  0  1  6  0  0 30  1]\n",
            " [ 0  1  0  0  2  0  1  4  0 48]]\n"
          ],
          "name": "stdout"
        }
      ]
    },
    {
      "cell_type": "code",
      "metadata": {
        "id": "PKuTlTDa--My",
        "colab_type": "code",
        "outputId": "d6f53eb8-b906-4a69-f0e8-e720ea992239",
        "colab": {
          "base_uri": "https://localhost:8080/",
          "height": 714
        }
      },
      "source": [
        "## poly\n",
        "clf = SVC(kernel='poly')\n",
        "start =  time.clock()\n",
        "clf.fit(X_train,y_train)\n",
        "end_train = time.clock()\n",
        "print(\"Training execution time :\", end_train - start)\n",
        "y_pred = clf.predict(X_test)\n",
        "end_pred = time.clock() \n",
        "print(\"Prediction time :\", end_pred - end_train)\n",
        "print(\"Classification report for classifier %s:\\n%s\\n\" % (clf, classification_report(y_test, y_pred)))\n",
        "print(\"Confusion matrix:\\n%s\" % confusion_matrix(y_test, y_pred))\n",
        "\n",
        "train_scores.append(clf.score(X_train,y_train))\n",
        "test_scores.append(clf.score(X_test,y_test))\n",
        "exec_times.append(end_train-start)"
      ],
      "execution_count": 28,
      "outputs": [
        {
          "output_type": "stream",
          "text": [
            "/usr/local/lib/python3.6/dist-packages/sklearn/svm/base.py:193: FutureWarning: The default value of gamma will change from 'auto' to 'scale' in version 0.22 to account better for unscaled features. Set gamma explicitly to 'auto' or 'scale' to avoid this warning.\n",
            "  \"avoid this warning.\", FutureWarning)\n"
          ],
          "name": "stderr"
        },
        {
          "output_type": "stream",
          "text": [
            "Training execution time : 0.41425499999999715\n",
            "Prediction time : 0.22660299999999722\n",
            "Classification report for classifier SVC(C=1.0, cache_size=200, class_weight=None, coef0=0.0,\n",
            "    decision_function_shape='ovr', degree=3, gamma='auto_deprecated',\n",
            "    kernel='poly', max_iter=-1, probability=False, random_state=None,\n",
            "    shrinking=True, tol=0.001, verbose=False):\n",
            "              precision    recall  f1-score   support\n",
            "\n",
            "           0       0.00      0.00      0.00        46\n",
            "           1       0.00      0.00      0.00        53\n",
            "           2       0.00      0.00      0.00        55\n",
            "           3       0.00      0.00      0.00        59\n",
            "           4       0.00      0.00      0.00        47\n",
            "           5       0.09      1.00      0.16        43\n",
            "           6       0.00      0.00      0.00        45\n",
            "           7       0.00      0.00      0.00        54\n",
            "           8       0.00      0.00      0.00        42\n",
            "           9       0.00      0.00      0.00        56\n",
            "\n",
            "    accuracy                           0.09       500\n",
            "   macro avg       0.01      0.10      0.02       500\n",
            "weighted avg       0.01      0.09      0.01       500\n",
            "\n",
            "\n",
            "Confusion matrix:\n",
            "[[ 0  0  0  0  0 46  0  0  0  0]\n",
            " [ 0  0  0  0  0 53  0  0  0  0]\n",
            " [ 0  0  0  0  0 55  0  0  0  0]\n",
            " [ 0  0  0  0  0 59  0  0  0  0]\n",
            " [ 0  0  0  0  0 47  0  0  0  0]\n",
            " [ 0  0  0  0  0 43  0  0  0  0]\n",
            " [ 0  0  0  0  0 45  0  0  0  0]\n",
            " [ 0  0  0  0  0 54  0  0  0  0]\n",
            " [ 0  0  0  0  0 42  0  0  0  0]\n",
            " [ 0  0  0  0  0 56  0  0  0  0]]\n"
          ],
          "name": "stdout"
        },
        {
          "output_type": "stream",
          "text": [
            "/usr/local/lib/python3.6/dist-packages/sklearn/metrics/classification.py:1437: UndefinedMetricWarning: Precision and F-score are ill-defined and being set to 0.0 in labels with no predicted samples.\n",
            "  'precision', 'predicted', average, warn_for)\n"
          ],
          "name": "stderr"
        }
      ]
    },
    {
      "cell_type": "code",
      "metadata": {
        "id": "R785JvJdEiP3",
        "colab_type": "code",
        "colab": {
          "base_uri": "https://localhost:8080/",
          "height": 680
        },
        "outputId": "22308b3f-645a-4ccd-9144-c5e8b3607cdc"
      },
      "source": [
        "## rbf\n",
        "clf = SVC(kernel='rbf')\n",
        "start =  time.clock()\n",
        "clf.fit(X_train,y_train)\n",
        "end_train = time.clock()\n",
        "print(\"Training execution time :\", end_train - start)\n",
        "y_pred = clf.predict(X_test)\n",
        "end_pred = time.clock() \n",
        "print(\"Prediction time :\", end_pred - end_train)\n",
        "print(\"Classification report for classifier %s:\\n%s\\n\" % (clf, classification_report(y_test, y_pred)))\n",
        "print(\"Confusion matrix:\\n%s\" % confusion_matrix(y_test, y_pred))\n",
        "\n",
        "train_scores.append(clf.score(X_train,y_train))\n",
        "test_scores.append(clf.score(X_test,y_test))\n",
        "exec_times.append(end_train-start)"
      ],
      "execution_count": 29,
      "outputs": [
        {
          "output_type": "stream",
          "text": [
            "/usr/local/lib/python3.6/dist-packages/sklearn/svm/base.py:193: FutureWarning: The default value of gamma will change from 'auto' to 'scale' in version 0.22 to account better for unscaled features. Set gamma explicitly to 'auto' or 'scale' to avoid this warning.\n",
            "  \"avoid this warning.\", FutureWarning)\n"
          ],
          "name": "stderr"
        },
        {
          "output_type": "stream",
          "text": [
            "Training execution time : 0.34092199999999195\n",
            "Prediction time : 0.23023799999999994\n",
            "Classification report for classifier SVC(C=1.0, cache_size=200, class_weight=None, coef0=0.0,\n",
            "    decision_function_shape='ovr', degree=3, gamma='auto_deprecated',\n",
            "    kernel='rbf', max_iter=-1, probability=False, random_state=None,\n",
            "    shrinking=True, tol=0.001, verbose=False):\n",
            "              precision    recall  f1-score   support\n",
            "\n",
            "           0       1.00      0.72      0.84        46\n",
            "           1       0.70      0.98      0.82        53\n",
            "           2       0.91      0.76      0.83        55\n",
            "           3       0.65      0.80      0.72        59\n",
            "           4       0.70      0.81      0.75        47\n",
            "           5       0.49      0.56      0.52        43\n",
            "           6       0.88      0.84      0.86        45\n",
            "           7       0.90      0.87      0.89        54\n",
            "           8       0.95      0.43      0.59        42\n",
            "           9       0.64      0.66      0.65        56\n",
            "\n",
            "    accuracy                           0.75       500\n",
            "   macro avg       0.78      0.74      0.75       500\n",
            "weighted avg       0.78      0.75      0.75       500\n",
            "\n",
            "\n",
            "Confusion matrix:\n",
            "[[33  0  0  0  0  9  4  0  0  0]\n",
            " [ 0 52  0  1  0  0  0  0  0  0]\n",
            " [ 0  6 42  2  1  0  1  2  1  0]\n",
            " [ 0  2  1 47  0  5  0  0  0  4]\n",
            " [ 0  1  0  0 38  0  0  0  0  8]\n",
            " [ 0  1  0 13  1 24  0  0  0  4]\n",
            " [ 0  2  2  0  1  2 38  0  0  0]\n",
            " [ 0  1  0  0  3  0  0 47  0  3]\n",
            " [ 0  5  1  9  0  7  0  0 18  2]\n",
            " [ 0  4  0  0 10  2  0  3  0 37]]\n"
          ],
          "name": "stdout"
        }
      ]
    },
    {
      "cell_type": "code",
      "metadata": {
        "id": "UIhw8sahEkkg",
        "colab_type": "code",
        "colab": {
          "base_uri": "https://localhost:8080/",
          "height": 714
        },
        "outputId": "c1f8e987-9549-4294-eaf7-0e982a523d70"
      },
      "source": [
        "## sigmoid\n",
        "clf = SVC(kernel='sigmoid')\n",
        "start =  time.clock()\n",
        "clf.fit(X_train,y_train)\n",
        "end_train = time.clock()\n",
        "print(\"Training execution time :\", end_train - start)\n",
        "y_pred = clf.predict(X_test)\n",
        "end_pred = time.clock() \n",
        "print(\"Prediction time :\", end_pred - end_train)\n",
        "print(\"Classification report for classifier %s:\\n%s\\n\" % (clf, classification_report(y_test, y_pred)))\n",
        "print(\"Confusion matrix:\\n%s\" % confusion_matrix(y_test, y_pred))\n",
        "\n",
        "train_scores.append(clf.score(X_train,y_train))\n",
        "test_scores.append(clf.score(X_test,y_test))\n",
        "exec_times.append(end_train-start)"
      ],
      "execution_count": 30,
      "outputs": [
        {
          "output_type": "stream",
          "text": [
            "/usr/local/lib/python3.6/dist-packages/sklearn/svm/base.py:193: FutureWarning: The default value of gamma will change from 'auto' to 'scale' in version 0.22 to account better for unscaled features. Set gamma explicitly to 'auto' or 'scale' to avoid this warning.\n",
            "  \"avoid this warning.\", FutureWarning)\n"
          ],
          "name": "stderr"
        },
        {
          "output_type": "stream",
          "text": [
            "Training execution time : 0.39014099999999985\n",
            "Prediction time : 0.2311640000000068\n",
            "Classification report for classifier SVC(C=1.0, cache_size=200, class_weight=None, coef0=0.0,\n",
            "    decision_function_shape='ovr', degree=3, gamma='auto_deprecated',\n",
            "    kernel='sigmoid', max_iter=-1, probability=False, random_state=None,\n",
            "    shrinking=True, tol=0.001, verbose=False):\n",
            "              precision    recall  f1-score   support\n",
            "\n",
            "           0       1.00      0.63      0.77        46\n",
            "           1       0.58      0.98      0.73        53\n",
            "           2       0.97      0.55      0.70        55\n",
            "           3       0.61      0.78      0.69        59\n",
            "           4       0.44      0.96      0.60        47\n",
            "           5       0.31      0.51      0.38        43\n",
            "           6       0.89      0.76      0.82        45\n",
            "           7       0.90      0.85      0.88        54\n",
            "           8       0.00      0.00      0.00        42\n",
            "           9       0.58      0.12      0.21        56\n",
            "\n",
            "    accuracy                           0.62       500\n",
            "   macro avg       0.63      0.61      0.58       500\n",
            "weighted avg       0.64      0.62      0.59       500\n",
            "\n",
            "\n",
            "Confusion matrix:\n",
            "[[29  0  0  0  0 14  3  0  0  0]\n",
            " [ 0 52  0  1  0  0  0  0  0  0]\n",
            " [ 0 14 30  0  5  4  1  1  0  0]\n",
            " [ 0  2  0 46  0  8  0  0  0  3]\n",
            " [ 0  1  0  0 45  1  0  0  0  0]\n",
            " [ 0  2  0 14  3 22  0  0  0  2]\n",
            " [ 0  3  1  0  4  3 34  0  0  0]\n",
            " [ 0  1  0  0  7  0  0 46  0  0]\n",
            " [ 0  7  0 14  3 18  0  0  0  0]\n",
            " [ 0  7  0  0 36  2  0  4  0  7]]\n"
          ],
          "name": "stdout"
        },
        {
          "output_type": "stream",
          "text": [
            "/usr/local/lib/python3.6/dist-packages/sklearn/metrics/classification.py:1437: UndefinedMetricWarning: Precision and F-score are ill-defined and being set to 0.0 in labels with no predicted samples.\n",
            "  'precision', 'predicted', average, warn_for)\n"
          ],
          "name": "stderr"
        }
      ]
    },
    {
      "cell_type": "code",
      "metadata": {
        "id": "NCqBGylcEofY",
        "colab_type": "code",
        "colab": {}
      },
      "source": [
        "## precomputed\n",
        "# clf = SVC(kernel='precomputed')\n",
        "# start =  time.clock()\n",
        "# clf.fit(X_train,y_train)\n",
        "# end_train = time.clock()\n",
        "# print(\"Training execution time :\", end_train - start)\n",
        "# y_pred = clf.predict(X_test)\n",
        "# end_pred = time.clock() \n",
        "# print(\"Prediction time :\", end_pred - end_train)\n",
        "# print(\"Classification report for classifier %s:\\n%s\\n\" % (clf, classification_report(y_test, y_pred)))\n",
        "# print(\"Confusion matrix:\\n%s\" % confusion_matrix(y_test, y_pred))\n",
        "\n",
        "# scores.append(clf.score(X_test,y_test))\n",
        "# exec_times.append(end_train-start)"
      ],
      "execution_count": 0,
      "outputs": []
    },
    {
      "cell_type": "code",
      "metadata": {
        "id": "3dN0Bqmiinxb",
        "colab_type": "code",
        "colab": {
          "base_uri": "https://localhost:8080/",
          "height": 483
        },
        "outputId": "2e574c0d-6361-4b31-c86f-329149d8c43f"
      },
      "source": [
        "kernels = ('linear', 'poly', 'rbf', 'sigmoid')\n",
        "y_pos = np.arange(len(kernels))\n",
        "bar_width = 0.35\n",
        "opacity = 0.8\n",
        "\n",
        "plt.figure(figsize=(12,8))\n",
        "plt.subplot(121)\n",
        "plt.bar(y_pos,train_scores,bar_width,align='center',alpha=opacity,label='train_acc')\n",
        "plt.bar(y_pos+0.35,test_scores,bar_width,align='center',alpha=opacity,label='test_acc')\n",
        "plt.xticks(y_pos,kernels)\n",
        "plt.ylabel('Accuracy')\n",
        "plt.legend()\n",
        "\n",
        "plt.subplot(122)\n",
        "plt.bar(y_pos,exec_times,bar_width,align='center',alpha=opacity,label='exec_time')\n",
        "plt.xticks(y_pos,kernels)\n",
        "plt.ylabel('Accuracy')\n",
        "plt.legend()\n",
        "\n",
        "plt.show()"
      ],
      "execution_count": 37,
      "outputs": [
        {
          "output_type": "display_data",
          "data": {
            "image/png": "[encoded data removed]",
            "text/plain": [
              "<Figure size 864x576 with 2 Axes>"
            ]
          },
          "metadata": {
            "tags": []
          }
        }
      ]
    },
    {
      "cell_type": "markdown",
      "metadata": {
        "id": "wVLyJ8SLk-Qx",
        "colab_type": "text"
      },
      "source": [
        "### ***2. Penalty parameter C of the error term***"
      ]
    },
    {
      "cell_type": "code",
      "metadata": {
        "id": "WpBGVw4hlNmJ",
        "colab_type": "code",
        "colab": {
          "base_uri": "https://localhost:8080/",
          "height": 104
        },
        "outputId": "8baeb14a-a005-4612-edd6-a1c1d1d4f685"
      },
      "source": [
        "c_settings = np.array([0.1,1.0,10.0,100.0,1000.0])\n",
        "train_scores, test_scores = [], []\n",
        "for c in c_settings : \n",
        "    clf = SVC(kernel='linear', C=c)\n",
        "    start =  time.clock()\n",
        "    clf.fit(X_train,y_train)\n",
        "    end_train = time.clock()\n",
        "    print(\"Training execution time :\", end_train - start)\n",
        "    train_scores.append(clf.score(X_train,y_train))\n",
        "    test_scores.append(clf.score(X_test,y_test))"
      ],
      "execution_count": 50,
      "outputs": [
        {
          "output_type": "stream",
          "text": [
            "Training execution time : 0.16026100000000554\n",
            "Training execution time : 0.15988500000000272\n",
            "Training execution time : 0.15961599999999976\n",
            "Training execution time : 0.162982999999997\n",
            "Training execution time : 0.16389900000000068\n"
          ],
          "name": "stdout"
        }
      ]
    },
    {
      "cell_type": "code",
      "metadata": {
        "id": "utJLbRzTlNs3",
        "colab_type": "code",
        "colab": {
          "base_uri": "https://localhost:8080/",
          "height": 298
        },
        "outputId": "7bed5e61-b94c-4f38-f4cb-a17d63b0797e"
      },
      "source": [
        "plt.scatter(c_settings,train_scores,c=\"black\")\n",
        "plt.scatter(c_settings,test_scores,c=\"black\")\n",
        "plt.plot(c_settings, train_scores,'r', label = \"training_accuracy\")\n",
        "plt.plot(c_settings, test_scores,'b-', label = \"test_accuracy\")\n",
        "plt.ylabel(\"Accuracy\")\n",
        "plt.xlabel(\"Parameter C\")\n",
        "plt.legend()\n",
        "plt.grid()\n",
        "\n",
        "plt.show()\n",
        "\n",
        "plt.savefig('TP3-acc-vs-C-in-SVM.png')"
      ],
      "execution_count": 51,
      "outputs": [
        {
          "output_type": "display_data",
          "data": {
            "image/png": "[encoded data removed]",
            "text/plain": [
              "<Figure size 432x288 with 1 Axes>"
            ]
          },
          "metadata": {
            "tags": []
          }
        },
        {
          "output_type": "display_data",
          "data": {
            "text/plain": [
              "<Figure size 432x288 with 0 Axes>"
            ]
          },
          "metadata": {
            "tags": []
          }
        }
      ]
    }
  ]
}